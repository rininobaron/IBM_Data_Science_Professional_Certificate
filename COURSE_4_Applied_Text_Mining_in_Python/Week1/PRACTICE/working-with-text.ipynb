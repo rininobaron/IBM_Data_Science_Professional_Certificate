{
 "cells": [
  {
   "cell_type": "markdown",
   "id": "a6ac6bd1",
   "metadata": {
    "papermill": {
     "duration": 0.005127,
     "end_time": "2023-10-11T20:46:48.527347",
     "exception": false,
     "start_time": "2023-10-11T20:46:48.522220",
     "status": "completed"
    },
    "tags": []
   },
   "source": [
    "---\n",
    "\n",
    "_You are currently looking at **version 1.0** of this notebook. To download notebooks and datafiles, as well as get help on Jupyter notebooks in the Coursera platform, visit the [Jupyter Notebook FAQ](https://www.coursera.org/learn/python-text-mining/resources/d9pwm) course resource._\n",
    "\n",
    "---"
   ]
  },
  {
   "cell_type": "markdown",
   "id": "65f56caa",
   "metadata": {
    "papermill": {
     "duration": 0.00437,
     "end_time": "2023-10-11T20:46:48.536507",
     "exception": false,
     "start_time": "2023-10-11T20:46:48.532137",
     "status": "completed"
    },
    "tags": []
   },
   "source": [
    "# Working With Text"
   ]
  },
  {
   "cell_type": "code",
   "execution_count": 1,
   "id": "20fbcf9f",
   "metadata": {
    "execution": {
     "iopub.execute_input": "2023-10-11T20:46:48.547950Z",
     "iopub.status.busy": "2023-10-11T20:46:48.547327Z",
     "iopub.status.idle": "2023-10-11T20:46:48.563708Z",
     "shell.execute_reply": "2023-10-11T20:46:48.562449Z"
    },
    "papermill": {
     "duration": 0.025088,
     "end_time": "2023-10-11T20:46:48.566253",
     "exception": false,
     "start_time": "2023-10-11T20:46:48.541165",
     "status": "completed"
    },
    "tags": []
   },
   "outputs": [
    {
     "data": {
      "text/plain": [
       "76"
      ]
     },
     "execution_count": 1,
     "metadata": {},
     "output_type": "execute_result"
    }
   ],
   "source": [
    "text1 = \"Ethics are built right into the ideals and objectives of the United Nations \"\n",
    "\n",
    "len(text1) # The length of text1"
   ]
  },
  {
   "cell_type": "code",
   "execution_count": 2,
   "id": "1d8c6b2d",
   "metadata": {
    "execution": {
     "iopub.execute_input": "2023-10-11T20:46:48.578274Z",
     "iopub.status.busy": "2023-10-11T20:46:48.577602Z",
     "iopub.status.idle": "2023-10-11T20:46:48.583748Z",
     "shell.execute_reply": "2023-10-11T20:46:48.582733Z"
    },
    "papermill": {
     "duration": 0.014603,
     "end_time": "2023-10-11T20:46:48.585936",
     "exception": false,
     "start_time": "2023-10-11T20:46:48.571333",
     "status": "completed"
    },
    "tags": []
   },
   "outputs": [
    {
     "data": {
      "text/plain": [
       "14"
      ]
     },
     "execution_count": 2,
     "metadata": {},
     "output_type": "execute_result"
    }
   ],
   "source": [
    "text2 = text1.split(' ') # Return a list of the words in text2, separating by ' '.\n",
    "\n",
    "len(text2)"
   ]
  },
  {
   "cell_type": "code",
   "execution_count": 3,
   "id": "86c871b4",
   "metadata": {
    "execution": {
     "iopub.execute_input": "2023-10-11T20:46:48.597600Z",
     "iopub.status.busy": "2023-10-11T20:46:48.596829Z",
     "iopub.status.idle": "2023-10-11T20:46:48.602864Z",
     "shell.execute_reply": "2023-10-11T20:46:48.602170Z"
    },
    "papermill": {
     "duration": 0.013894,
     "end_time": "2023-10-11T20:46:48.604688",
     "exception": false,
     "start_time": "2023-10-11T20:46:48.590794",
     "status": "completed"
    },
    "tags": []
   },
   "outputs": [
    {
     "data": {
      "text/plain": [
       "['Ethics',\n",
       " 'are',\n",
       " 'built',\n",
       " 'right',\n",
       " 'into',\n",
       " 'the',\n",
       " 'ideals',\n",
       " 'and',\n",
       " 'objectives',\n",
       " 'of',\n",
       " 'the',\n",
       " 'United',\n",
       " 'Nations',\n",
       " '']"
      ]
     },
     "execution_count": 3,
     "metadata": {},
     "output_type": "execute_result"
    }
   ],
   "source": [
    "text2"
   ]
  },
  {
   "cell_type": "markdown",
   "id": "1d3839e2",
   "metadata": {
    "papermill": {
     "duration": 0.004668,
     "end_time": "2023-10-11T20:46:48.614438",
     "exception": false,
     "start_time": "2023-10-11T20:46:48.609770",
     "status": "completed"
    },
    "tags": []
   },
   "source": [
    "<br>\n",
    "List comprehension allows us to find specific words:"
   ]
  },
  {
   "cell_type": "code",
   "execution_count": 4,
   "id": "9b0f42c3",
   "metadata": {
    "execution": {
     "iopub.execute_input": "2023-10-11T20:46:48.638558Z",
     "iopub.status.busy": "2023-10-11T20:46:48.636798Z",
     "iopub.status.idle": "2023-10-11T20:46:48.644084Z",
     "shell.execute_reply": "2023-10-11T20:46:48.642998Z"
    },
    "papermill": {
     "duration": 0.020738,
     "end_time": "2023-10-11T20:46:48.646364",
     "exception": false,
     "start_time": "2023-10-11T20:46:48.625626",
     "status": "completed"
    },
    "tags": []
   },
   "outputs": [
    {
     "data": {
      "text/plain": [
       "['Ethics',\n",
       " 'built',\n",
       " 'right',\n",
       " 'into',\n",
       " 'ideals',\n",
       " 'objectives',\n",
       " 'United',\n",
       " 'Nations']"
      ]
     },
     "execution_count": 4,
     "metadata": {},
     "output_type": "execute_result"
    }
   ],
   "source": [
    "[w for w in text2 if len(w) > 3] # Words that are greater than 3 letters long in text2"
   ]
  },
  {
   "cell_type": "code",
   "execution_count": 5,
   "id": "297ce7ba",
   "metadata": {
    "execution": {
     "iopub.execute_input": "2023-10-11T20:46:48.658511Z",
     "iopub.status.busy": "2023-10-11T20:46:48.658099Z",
     "iopub.status.idle": "2023-10-11T20:46:48.664423Z",
     "shell.execute_reply": "2023-10-11T20:46:48.663572Z"
    },
    "papermill": {
     "duration": 0.014746,
     "end_time": "2023-10-11T20:46:48.666400",
     "exception": false,
     "start_time": "2023-10-11T20:46:48.651654",
     "status": "completed"
    },
    "tags": []
   },
   "outputs": [
    {
     "data": {
      "text/plain": [
       "['Ethics', 'United', 'Nations']"
      ]
     },
     "execution_count": 5,
     "metadata": {},
     "output_type": "execute_result"
    }
   ],
   "source": [
    "[w for w in text2 if w.istitle()] # Capitalized words in text2"
   ]
  },
  {
   "cell_type": "code",
   "execution_count": 6,
   "id": "3644c077",
   "metadata": {
    "execution": {
     "iopub.execute_input": "2023-10-11T20:46:48.680146Z",
     "iopub.status.busy": "2023-10-11T20:46:48.679503Z",
     "iopub.status.idle": "2023-10-11T20:46:48.685146Z",
     "shell.execute_reply": "2023-10-11T20:46:48.684405Z"
    },
    "papermill": {
     "duration": 0.015386,
     "end_time": "2023-10-11T20:46:48.687080",
     "exception": false,
     "start_time": "2023-10-11T20:46:48.671694",
     "status": "completed"
    },
    "tags": []
   },
   "outputs": [
    {
     "data": {
      "text/plain": [
       "['Ethics', 'ideals', 'objectives', 'Nations']"
      ]
     },
     "execution_count": 6,
     "metadata": {},
     "output_type": "execute_result"
    }
   ],
   "source": [
    "[w for w in text2 if w.endswith('s')] # Words in text2 that end in 's'"
   ]
  },
  {
   "cell_type": "markdown",
   "id": "bb9dc9f5",
   "metadata": {
    "papermill": {
     "duration": 0.004906,
     "end_time": "2023-10-11T20:46:48.697661",
     "exception": false,
     "start_time": "2023-10-11T20:46:48.692755",
     "status": "completed"
    },
    "tags": []
   },
   "source": [
    "<br>\n",
    "We can find unique words using `set()`."
   ]
  },
  {
   "cell_type": "code",
   "execution_count": 7,
   "id": "aa5a3cca",
   "metadata": {
    "execution": {
     "iopub.execute_input": "2023-10-11T20:46:48.710604Z",
     "iopub.status.busy": "2023-10-11T20:46:48.710236Z",
     "iopub.status.idle": "2023-10-11T20:46:48.716044Z",
     "shell.execute_reply": "2023-10-11T20:46:48.715157Z"
    },
    "papermill": {
     "duration": 0.015285,
     "end_time": "2023-10-11T20:46:48.718619",
     "exception": false,
     "start_time": "2023-10-11T20:46:48.703334",
     "status": "completed"
    },
    "tags": []
   },
   "outputs": [
    {
     "data": {
      "text/plain": [
       "6"
      ]
     },
     "execution_count": 7,
     "metadata": {},
     "output_type": "execute_result"
    }
   ],
   "source": [
    "text3 = 'To be or not to be'\n",
    "text4 = text3.split(' ')\n",
    "\n",
    "len(text4)"
   ]
  },
  {
   "cell_type": "code",
   "execution_count": 8,
   "id": "0d90053e",
   "metadata": {
    "execution": {
     "iopub.execute_input": "2023-10-11T20:46:48.732337Z",
     "iopub.status.busy": "2023-10-11T20:46:48.731560Z",
     "iopub.status.idle": "2023-10-11T20:46:48.739014Z",
     "shell.execute_reply": "2023-10-11T20:46:48.737995Z"
    },
    "papermill": {
     "duration": 0.016847,
     "end_time": "2023-10-11T20:46:48.741371",
     "exception": false,
     "start_time": "2023-10-11T20:46:48.724524",
     "status": "completed"
    },
    "tags": []
   },
   "outputs": [
    {
     "data": {
      "text/plain": [
       "5"
      ]
     },
     "execution_count": 8,
     "metadata": {},
     "output_type": "execute_result"
    }
   ],
   "source": [
    "len(set(text4))"
   ]
  },
  {
   "cell_type": "code",
   "execution_count": 9,
   "id": "8d06f21a",
   "metadata": {
    "execution": {
     "iopub.execute_input": "2023-10-11T20:46:48.755844Z",
     "iopub.status.busy": "2023-10-11T20:46:48.754322Z",
     "iopub.status.idle": "2023-10-11T20:46:48.760230Z",
     "shell.execute_reply": "2023-10-11T20:46:48.759485Z"
    },
    "papermill": {
     "duration": 0.014975,
     "end_time": "2023-10-11T20:46:48.762094",
     "exception": false,
     "start_time": "2023-10-11T20:46:48.747119",
     "status": "completed"
    },
    "tags": []
   },
   "outputs": [
    {
     "data": {
      "text/plain": [
       "{'To', 'be', 'not', 'or', 'to'}"
      ]
     },
     "execution_count": 9,
     "metadata": {},
     "output_type": "execute_result"
    }
   ],
   "source": [
    "set(text4)"
   ]
  },
  {
   "cell_type": "code",
   "execution_count": 10,
   "id": "590799d1",
   "metadata": {
    "execution": {
     "iopub.execute_input": "2023-10-11T20:46:48.775747Z",
     "iopub.status.busy": "2023-10-11T20:46:48.774872Z",
     "iopub.status.idle": "2023-10-11T20:46:48.780683Z",
     "shell.execute_reply": "2023-10-11T20:46:48.779790Z"
    },
    "papermill": {
     "duration": 0.014924,
     "end_time": "2023-10-11T20:46:48.782694",
     "exception": false,
     "start_time": "2023-10-11T20:46:48.767770",
     "status": "completed"
    },
    "tags": []
   },
   "outputs": [
    {
     "data": {
      "text/plain": [
       "4"
      ]
     },
     "execution_count": 10,
     "metadata": {},
     "output_type": "execute_result"
    }
   ],
   "source": [
    "len(set([w.lower() for w in text4])) # .lower converts the string to lowercase."
   ]
  },
  {
   "cell_type": "code",
   "execution_count": 11,
   "id": "7ef1f6fd",
   "metadata": {
    "execution": {
     "iopub.execute_input": "2023-10-11T20:46:48.795857Z",
     "iopub.status.busy": "2023-10-11T20:46:48.795524Z",
     "iopub.status.idle": "2023-10-11T20:46:48.802165Z",
     "shell.execute_reply": "2023-10-11T20:46:48.801041Z"
    },
    "papermill": {
     "duration": 0.016036,
     "end_time": "2023-10-11T20:46:48.804272",
     "exception": false,
     "start_time": "2023-10-11T20:46:48.788236",
     "status": "completed"
    },
    "tags": []
   },
   "outputs": [
    {
     "data": {
      "text/plain": [
       "{'be', 'not', 'or', 'to'}"
      ]
     },
     "execution_count": 11,
     "metadata": {},
     "output_type": "execute_result"
    }
   ],
   "source": [
    "set([w.lower() for w in text4])"
   ]
  },
  {
   "cell_type": "markdown",
   "id": "a1870f7a",
   "metadata": {
    "papermill": {
     "duration": 0.005494,
     "end_time": "2023-10-11T20:46:48.815828",
     "exception": false,
     "start_time": "2023-10-11T20:46:48.810334",
     "status": "completed"
    },
    "tags": []
   },
   "source": [
    "### Processing free-text"
   ]
  },
  {
   "cell_type": "code",
   "execution_count": 12,
   "id": "48a99c1d",
   "metadata": {
    "execution": {
     "iopub.execute_input": "2023-10-11T20:46:48.829068Z",
     "iopub.status.busy": "2023-10-11T20:46:48.828630Z",
     "iopub.status.idle": "2023-10-11T20:46:48.836068Z",
     "shell.execute_reply": "2023-10-11T20:46:48.834835Z"
    },
    "papermill": {
     "duration": 0.016789,
     "end_time": "2023-10-11T20:46:48.838345",
     "exception": false,
     "start_time": "2023-10-11T20:46:48.821556",
     "status": "completed"
    },
    "tags": []
   },
   "outputs": [
    {
     "data": {
      "text/plain": [
       "['\"Ethics',\n",
       " 'are',\n",
       " 'built',\n",
       " 'right',\n",
       " 'into',\n",
       " 'the',\n",
       " 'ideals',\n",
       " 'and',\n",
       " 'objectives',\n",
       " 'of',\n",
       " 'the',\n",
       " 'United',\n",
       " 'Nations\"',\n",
       " '#UNSG',\n",
       " '@',\n",
       " 'NY',\n",
       " 'Society',\n",
       " 'for',\n",
       " 'Ethical',\n",
       " 'Culture',\n",
       " 'bit.ly/2guVelr']"
      ]
     },
     "execution_count": 12,
     "metadata": {},
     "output_type": "execute_result"
    }
   ],
   "source": [
    "text5 = '\"Ethics are built right into the ideals and objectives of the United Nations\" \\\n",
    "#UNSG @ NY Society for Ethical Culture bit.ly/2guVelr'\n",
    "text6 = text5.split(' ')\n",
    "\n",
    "text6"
   ]
  },
  {
   "cell_type": "markdown",
   "id": "543b0963",
   "metadata": {
    "papermill": {
     "duration": 0.005955,
     "end_time": "2023-10-11T20:46:48.850443",
     "exception": false,
     "start_time": "2023-10-11T20:46:48.844488",
     "status": "completed"
    },
    "tags": []
   },
   "source": [
    "<br>\n",
    "Finding hastags:"
   ]
  },
  {
   "cell_type": "code",
   "execution_count": 13,
   "id": "1c6006f4",
   "metadata": {
    "execution": {
     "iopub.execute_input": "2023-10-11T20:46:48.864333Z",
     "iopub.status.busy": "2023-10-11T20:46:48.863269Z",
     "iopub.status.idle": "2023-10-11T20:46:48.870054Z",
     "shell.execute_reply": "2023-10-11T20:46:48.868880Z"
    },
    "papermill": {
     "duration": 0.01578,
     "end_time": "2023-10-11T20:46:48.872328",
     "exception": false,
     "start_time": "2023-10-11T20:46:48.856548",
     "status": "completed"
    },
    "tags": []
   },
   "outputs": [
    {
     "data": {
      "text/plain": [
       "['#UNSG']"
      ]
     },
     "execution_count": 13,
     "metadata": {},
     "output_type": "execute_result"
    }
   ],
   "source": [
    "[w for w in text6 if w.startswith('#')]"
   ]
  },
  {
   "cell_type": "markdown",
   "id": "bf8d686f",
   "metadata": {
    "papermill": {
     "duration": 0.005497,
     "end_time": "2023-10-11T20:46:48.883872",
     "exception": false,
     "start_time": "2023-10-11T20:46:48.878375",
     "status": "completed"
    },
    "tags": []
   },
   "source": [
    "<br>\n",
    "Finding callouts:"
   ]
  },
  {
   "cell_type": "code",
   "execution_count": 14,
   "id": "663d8b6c",
   "metadata": {
    "execution": {
     "iopub.execute_input": "2023-10-11T20:46:48.897093Z",
     "iopub.status.busy": "2023-10-11T20:46:48.896751Z",
     "iopub.status.idle": "2023-10-11T20:46:48.903437Z",
     "shell.execute_reply": "2023-10-11T20:46:48.902437Z"
    },
    "papermill": {
     "duration": 0.015711,
     "end_time": "2023-10-11T20:46:48.905340",
     "exception": false,
     "start_time": "2023-10-11T20:46:48.889629",
     "status": "completed"
    },
    "tags": []
   },
   "outputs": [
    {
     "data": {
      "text/plain": [
       "['@']"
      ]
     },
     "execution_count": 14,
     "metadata": {},
     "output_type": "execute_result"
    }
   ],
   "source": [
    "[w for w in text6 if w.startswith('@')]"
   ]
  },
  {
   "cell_type": "code",
   "execution_count": 15,
   "id": "6b28a41b",
   "metadata": {
    "execution": {
     "iopub.execute_input": "2023-10-11T20:46:48.919726Z",
     "iopub.status.busy": "2023-10-11T20:46:48.918859Z",
     "iopub.status.idle": "2023-10-11T20:46:48.924637Z",
     "shell.execute_reply": "2023-10-11T20:46:48.923648Z"
    },
    "papermill": {
     "duration": 0.015163,
     "end_time": "2023-10-11T20:46:48.926904",
     "exception": false,
     "start_time": "2023-10-11T20:46:48.911741",
     "status": "completed"
    },
    "tags": []
   },
   "outputs": [],
   "source": [
    "text7 = '@UN @UN_Women \"Ethics are built right into the ideals and objectives of the United Nations\" \\\n",
    "#UNSG @ NY Society for Ethical Culture bit.ly/2guVelr'\n",
    "text8 = text7.split(' ')"
   ]
  },
  {
   "cell_type": "markdown",
   "id": "0f916ab7",
   "metadata": {
    "papermill": {
     "duration": 0.005872,
     "end_time": "2023-10-11T20:46:48.938917",
     "exception": false,
     "start_time": "2023-10-11T20:46:48.933045",
     "status": "completed"
    },
    "tags": []
   },
   "source": [
    "<br>\n",
    "\n",
    "We can use regular expressions to help us with more complex parsing. \n",
    "\n",
    "For example `'@[A-Za-z0-9_]+'` will return all words that: \n",
    "* start with `'@'` and are followed by at least one: \n",
    "* capital letter (`'A-Z'`)\n",
    "* lowercase letter (`'a-z'`) \n",
    "* number (`'0-9'`)\n",
    "* or underscore (`'_'`)"
   ]
  },
  {
   "cell_type": "code",
   "execution_count": 16,
   "id": "08971bc3",
   "metadata": {
    "execution": {
     "iopub.execute_input": "2023-10-11T20:46:48.953781Z",
     "iopub.status.busy": "2023-10-11T20:46:48.953372Z",
     "iopub.status.idle": "2023-10-11T20:46:48.961267Z",
     "shell.execute_reply": "2023-10-11T20:46:48.960155Z"
    },
    "papermill": {
     "duration": 0.017833,
     "end_time": "2023-10-11T20:46:48.963552",
     "exception": false,
     "start_time": "2023-10-11T20:46:48.945719",
     "status": "completed"
    },
    "tags": []
   },
   "outputs": [
    {
     "data": {
      "text/plain": [
       "['@UN', '@UN_Women']"
      ]
     },
     "execution_count": 16,
     "metadata": {},
     "output_type": "execute_result"
    }
   ],
   "source": [
    "import re # import re - a module that provides support for regular expressions\n",
    "\n",
    "[w for w in text8 if re.search('@[A-Za-z0-9_]+', w)]"
   ]
  },
  {
   "cell_type": "code",
   "execution_count": null,
   "id": "4db6eade",
   "metadata": {
    "papermill": {
     "duration": 0.006031,
     "end_time": "2023-10-11T20:46:48.975798",
     "exception": false,
     "start_time": "2023-10-11T20:46:48.969767",
     "status": "completed"
    },
    "tags": []
   },
   "outputs": [],
   "source": []
  }
 ],
 "metadata": {
  "kernelspec": {
   "display_name": "Python 3",
   "language": "python",
   "name": "python3"
  },
  "language_info": {
   "codemirror_mode": {
    "name": "ipython",
    "version": 3
   },
   "file_extension": ".py",
   "mimetype": "text/x-python",
   "name": "python",
   "nbconvert_exporter": "python",
   "pygments_lexer": "ipython3",
   "version": "3.10.12"
  },
  "papermill": {
   "default_parameters": {},
   "duration": 4.189275,
   "end_time": "2023-10-11T20:46:49.402157",
   "environment_variables": {},
   "exception": null,
   "input_path": "__notebook__.ipynb",
   "output_path": "__notebook__.ipynb",
   "parameters": {},
   "start_time": "2023-10-11T20:46:45.212882",
   "version": "2.4.0"
  }
 },
 "nbformat": 4,
 "nbformat_minor": 5
}

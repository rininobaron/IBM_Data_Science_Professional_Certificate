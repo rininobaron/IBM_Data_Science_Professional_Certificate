{
 "cells": [
  {
   "cell_type": "markdown",
   "metadata": {},
   "source": [
    "# HTML Code example"
   ]
  },
  {
   "cell_type": "markdown",
   "metadata": {},
   "source": [
    "<table>\n",
    "      <thead>\n",
    "        <tr>\n",
    "          <th>header</th>\n",
    "          <th>header</th>\n",
    "        </tr>\n",
    "      </thead>\n",
    "      <tbody>\n",
    "        <tr>\n",
    "          <td>cell</td>\n",
    "          <td>cell</td>\n",
    "        </tr>\n",
    "      </tbody>\n",
    "    </table>"
   ]
  },
  {
   "cell_type": "code",
   "execution_count": 1,
   "metadata": {},
   "outputs": [
    {
     "name": "stderr",
     "output_type": "stream",
     "text": [
      "Cloning into 'A-gallery-of-interesting-Jupyter-Notebooks'...\n",
      "fatal: unable to update url base from redirection:\n",
      "  asked for: https://github.com/jupyter/jupyter/wiki/A-gallery-of-interesting-Jupyter-Notebooks/info/refs?service=git-upload-pack\n",
      "   redirect: https://github.com/jupyter/jupyter/wiki\n"
     ]
    }
   ],
   "source": [
    "!git clone https://github.com/jupyter/jupyter/wiki/A-gallery-of-interesting-Jupyter-Notebooks"
   ]
  },
  {
   "cell_type": "code",
   "execution_count": null,
   "metadata": {},
   "outputs": [],
   "source": []
  }
 ],
 "metadata": {
  "kernelspec": {
   "display_name": "Python 3",
   "language": "python",
   "name": "python3"
  },
  "language_info": {
   "codemirror_mode": {
    "name": "ipython",
    "version": 3
   },
   "file_extension": ".py",
   "mimetype": "text/x-python",
   "name": "python",
   "nbconvert_exporter": "python",
   "pygments_lexer": "ipython3",
   "version": "3.8.3"
  }
 },
 "nbformat": 4,
 "nbformat_minor": 4
}

{
 "cells": [
  {
   "cell_type": "markdown",
   "id": "47acf2ab",
   "metadata": {
    "papermill": {
     "duration": 0.0235,
     "end_time": "2023-10-05T10:08:58.296754",
     "exception": false,
     "start_time": "2023-10-05T10:08:58.273254",
     "status": "completed"
    },
    "tags": []
   },
   "source": [
    "<p style=\"text-align:center\">\n",
    "    <a href=\"https://skills.network/?utm_medium=Exinfluencer&utm_source=Exinfluencer&utm_content=000026UJ&utm_term=10006555&utm_id=NA-SkillsNetwork-Channel-SkillsNetworkCoursesIBMDeveloperSkillsNetworkPY0220ENSkillsNetwork900-2022-01-01\" target=\"_blank\">\n",
    "    <img src=\"https://cf-courses-data.s3.us.cloud-object-storage.appdomain.cloud/assets/logos/SN_web_lightmode.png\" width=\"200\" alt=\"Skills Network Logo\"  />\n",
    "    </a>\n",
    "</p>\n"
   ]
  },
  {
   "cell_type": "markdown",
   "id": "c417128d",
   "metadata": {
    "papermill": {
     "duration": 0.023131,
     "end_time": "2023-10-05T10:08:58.344505",
     "exception": false,
     "start_time": "2023-10-05T10:08:58.321374",
     "status": "completed"
    },
    "tags": []
   },
   "source": [
    "# **Web Scraping Lab**\n"
   ]
  },
  {
   "cell_type": "markdown",
   "id": "13f6d33c",
   "metadata": {
    "papermill": {
     "duration": 0.022308,
     "end_time": "2023-10-05T10:08:58.390944",
     "exception": false,
     "start_time": "2023-10-05T10:08:58.368636",
     "status": "completed"
    },
    "tags": []
   },
   "source": [
    "Estimated time needed: **30** minutes\n"
   ]
  },
  {
   "cell_type": "markdown",
   "id": "d55007b0",
   "metadata": {
    "papermill": {
     "duration": 0.02205,
     "end_time": "2023-10-05T10:08:58.496808",
     "exception": false,
     "start_time": "2023-10-05T10:08:58.474758",
     "status": "completed"
    },
    "tags": []
   },
   "source": [
    "## Objectives\n"
   ]
  },
  {
   "cell_type": "markdown",
   "id": "c0a64292",
   "metadata": {
    "papermill": {
     "duration": 0.027341,
     "end_time": "2023-10-05T10:08:58.546205",
     "exception": false,
     "start_time": "2023-10-05T10:08:58.518864",
     "status": "completed"
    },
    "tags": []
   },
   "source": [
    "After completing this lab you will be able to:\n"
   ]
  },
  {
   "cell_type": "markdown",
   "id": "98dcbae4",
   "metadata": {
    "papermill": {
     "duration": 0.021454,
     "end_time": "2023-10-05T10:08:58.589481",
     "exception": false,
     "start_time": "2023-10-05T10:08:58.568027",
     "status": "completed"
    },
    "tags": []
   },
   "source": [
    "<h2>Table of Contents</h2>\n",
    "<div class=\"alert alert-block alert-info\" style=\"margin-top: 20px\">\n",
    "    <ul>\n",
    "        <li>\n",
    "            <a href=\"https://bso/?utm_medium=Exinfluencer&utm_source=Exinfluencer&utm_content=000026UJ&utm_term=10006555&utm_id=NA-SkillsNetwork-Channel-SkillsNetworkCoursesIBMDeveloperSkillsNetworkPY0220ENSkillsNetwork23455606-2021-01-01\">Beautiful Soup Object</a>\n",
    "            <ul>\n",
    "                <li>Tag</li>\n",
    "                <li>Children, Parents, and Siblings</li>\n",
    "                <li>HTML Attributes</li>\n",
    "                <li>Navigable String</li>\n",
    "            </ul>\n",
    "        </li>\n",
    "     </ul>\n",
    "    <ul>\n",
    "        <li>\n",
    "            <a href=\"https://filter/?utm_medium=Exinfluencer&utm_source=Exinfluencer&utm_content=000026UJ&utm_term=10006555&utm_id=NA-SkillsNetwork-Channel-SkillsNetworkCoursesIBMDeveloperSkillsNetworkPY0220ENSkillsNetwork23455606-2021-01-01\">Filter</a>\n",
    "            <ul>\n",
    "                <li>find All</li>\n",
    "                <li>find </li>\n",
    "                <li>HTML Attributes</li>\n",
    "                <li>Navigable String</li>\n",
    "            </ul>\n",
    "        </li>\n",
    "     </ul>\n",
    "     <ul>\n",
    "        <li>\n",
    "            <a href=\"https://dscw/?utm_medium=Exinfluencer&utm_source=Exinfluencer&utm_content=000026UJ&utm_term=10006555&utm_id=NA-SkillsNetwork-Channel-SkillsNetworkCoursesIBMDeveloperSkillsNetworkPY0220ENSkillsNetwork23455606-2021-01-01\">Downloading And Scraping The Contents Of A Web</a>\n",
    "    </li>\n",
    "         </ul>\n",
    "    <p>\n",
    "        Estimated time needed: <strong>25 min</strong>\n",
    "    </p>\n",
    "\n",
    "</div>\n",
    "\n",
    "<hr>\n"
   ]
  },
  {
   "cell_type": "markdown",
   "id": "3fe3b376",
   "metadata": {
    "papermill": {
     "duration": 0.021448,
     "end_time": "2023-10-05T10:08:58.632868",
     "exception": false,
     "start_time": "2023-10-05T10:08:58.611420",
     "status": "completed"
    },
    "tags": []
   },
   "source": [
    "For this lab, we are going to be using Python and several Python libraries. Some of these libraries might be installed in your lab environment or in SN Labs. Others may need to be installed by you. The cells below will install these libraries when executed.\n"
   ]
  },
  {
   "cell_type": "code",
   "execution_count": 1,
   "id": "72fd9d11",
   "metadata": {
    "execution": {
     "iopub.execute_input": "2023-10-05T10:08:58.678008Z",
     "iopub.status.busy": "2023-10-05T10:08:58.677548Z",
     "iopub.status.idle": "2023-10-05T10:08:58.683609Z",
     "shell.execute_reply": "2023-10-05T10:08:58.682634Z"
    },
    "papermill": {
     "duration": 0.031166,
     "end_time": "2023-10-05T10:08:58.685736",
     "exception": false,
     "start_time": "2023-10-05T10:08:58.654570",
     "status": "completed"
    },
    "tags": []
   },
   "outputs": [],
   "source": [
    "#!mamba install bs4==4.10.0 -y\n",
    "#!pip install lxml==4.6.4\n",
    "#!mamba install html5lib==1.1 -y\n",
    "# !pip install requests==2.26.0"
   ]
  },
  {
   "cell_type": "markdown",
   "id": "909c1f7f",
   "metadata": {
    "papermill": {
     "duration": 0.021855,
     "end_time": "2023-10-05T10:08:58.729842",
     "exception": false,
     "start_time": "2023-10-05T10:08:58.707987",
     "status": "completed"
    },
    "tags": []
   },
   "source": [
    "Import the required modules and functions\n"
   ]
  },
  {
   "cell_type": "code",
   "execution_count": 2,
   "id": "eb4ddef5",
   "metadata": {
    "execution": {
     "iopub.execute_input": "2023-10-05T10:08:58.775555Z",
     "iopub.status.busy": "2023-10-05T10:08:58.775234Z",
     "iopub.status.idle": "2023-10-05T10:08:59.036956Z",
     "shell.execute_reply": "2023-10-05T10:08:59.035603Z"
    },
    "papermill": {
     "duration": 0.287694,
     "end_time": "2023-10-05T10:08:59.039688",
     "exception": false,
     "start_time": "2023-10-05T10:08:58.751994",
     "status": "completed"
    },
    "tags": []
   },
   "outputs": [],
   "source": [
    "from bs4 import BeautifulSoup # this module helps in web scrapping.\n",
    "import requests  # this module helps us to download a web page"
   ]
  },
  {
   "cell_type": "markdown",
   "id": "4b0367ca",
   "metadata": {
    "papermill": {
     "duration": 0.02202,
     "end_time": "2023-10-05T10:08:59.084260",
     "exception": false,
     "start_time": "2023-10-05T10:08:59.062240",
     "status": "completed"
    },
    "tags": []
   },
   "source": [
    "<h2 id=\"BSO\">Beautiful Soup Objects</h2>\n"
   ]
  },
  {
   "cell_type": "markdown",
   "id": "d6596161",
   "metadata": {
    "papermill": {
     "duration": 0.021814,
     "end_time": "2023-10-05T10:08:59.128404",
     "exception": false,
     "start_time": "2023-10-05T10:08:59.106590",
     "status": "completed"
    },
    "tags": []
   },
   "source": [
    "Beautiful Soup is a Python library for pulling data out of HTML and XML files, we will focus on HTML files. This is accomplished by representing the HTML as a set of objects with methods used to parse the HTML.  We can navigate the HTML as a tree and/or filter out what we are looking for.\n",
    "\n",
    "Consider the following HTML:\n"
   ]
  },
  {
   "cell_type": "code",
   "execution_count": 3,
   "id": "9d3f77c3",
   "metadata": {
    "execution": {
     "iopub.execute_input": "2023-10-05T10:08:59.174918Z",
     "iopub.status.busy": "2023-10-05T10:08:59.174319Z",
     "iopub.status.idle": "2023-10-05T10:08:59.183307Z",
     "shell.execute_reply": "2023-10-05T10:08:59.182230Z"
    },
    "papermill": {
     "duration": 0.03487,
     "end_time": "2023-10-05T10:08:59.185567",
     "exception": false,
     "start_time": "2023-10-05T10:08:59.150697",
     "status": "completed"
    },
    "tags": []
   },
   "outputs": [
    {
     "data": {
      "text/html": [
       "<!DOCTYPE html>\n",
       "<html>\n",
       "<head>\n",
       "<title>Page Title</title>\n",
       "</head>\n",
       "<body>\n",
       "<h3><b id='boldest'>Lebron James</b></h3>\n",
       "<p> Salary: $ 92,000,000 </p>\n",
       "<h3> Stephen Curry</h3>\n",
       "<p> Salary: $85,000, 000 </p>\n",
       "<h3> Kevin Durant </h3>\n",
       "<p> Salary: $73,200, 000</p>\n",
       "</body>\n",
       "</html>\n"
      ],
      "text/plain": [
       "<IPython.core.display.HTML object>"
      ]
     },
     "metadata": {},
     "output_type": "display_data"
    }
   ],
   "source": [
    "%%html\n",
    "<!DOCTYPE html>\n",
    "<html>\n",
    "<head>\n",
    "<title>Page Title</title>\n",
    "</head>\n",
    "<body>\n",
    "<h3><b id='boldest'>Lebron James</b></h3>\n",
    "<p> Salary: $ 92,000,000 </p>\n",
    "<h3> Stephen Curry</h3>\n",
    "<p> Salary: $85,000, 000 </p>\n",
    "<h3> Kevin Durant </h3>\n",
    "<p> Salary: $73,200, 000</p>\n",
    "</body>\n",
    "</html>"
   ]
  },
  {
   "cell_type": "markdown",
   "id": "e11ac6f5",
   "metadata": {
    "papermill": {
     "duration": 0.022953,
     "end_time": "2023-10-05T10:08:59.232860",
     "exception": false,
     "start_time": "2023-10-05T10:08:59.209907",
     "status": "completed"
    },
    "tags": []
   },
   "source": [
    "We can store it as a string in the variable HTML:\n"
   ]
  },
  {
   "cell_type": "code",
   "execution_count": 4,
   "id": "e8147a8a",
   "metadata": {
    "execution": {
     "iopub.execute_input": "2023-10-05T10:08:59.281601Z",
     "iopub.status.busy": "2023-10-05T10:08:59.281182Z",
     "iopub.status.idle": "2023-10-05T10:08:59.286602Z",
     "shell.execute_reply": "2023-10-05T10:08:59.285226Z"
    },
    "papermill": {
     "duration": 0.032318,
     "end_time": "2023-10-05T10:08:59.288891",
     "exception": false,
     "start_time": "2023-10-05T10:08:59.256573",
     "status": "completed"
    },
    "tags": []
   },
   "outputs": [],
   "source": [
    "html=\"<!DOCTYPE html><html><head><title>Page Title</title></head><body><h3><b id='boldest'>Lebron James</b></h3><p> Salary: $ 92,000,000 </p><h3> Stephen Curry</h3><p> Salary: $85,000, 000 </p><h3> Kevin Durant </h3><p> Salary: $73,200, 000</p></body></html>\""
   ]
  },
  {
   "cell_type": "markdown",
   "id": "f6c3fede",
   "metadata": {
    "papermill": {
     "duration": 0.021947,
     "end_time": "2023-10-05T10:08:59.333724",
     "exception": false,
     "start_time": "2023-10-05T10:08:59.311777",
     "status": "completed"
    },
    "tags": []
   },
   "source": [
    "To parse a document, pass it into the <code>BeautifulSoup</code> constructor, the <code>BeautifulSoup</code> object, which represents the document as a nested data structure:\n"
   ]
  },
  {
   "cell_type": "code",
   "execution_count": 5,
   "id": "11d00490",
   "metadata": {
    "execution": {
     "iopub.execute_input": "2023-10-05T10:08:59.382018Z",
     "iopub.status.busy": "2023-10-05T10:08:59.381584Z",
     "iopub.status.idle": "2023-10-05T10:08:59.387362Z",
     "shell.execute_reply": "2023-10-05T10:08:59.386281Z"
    },
    "papermill": {
     "duration": 0.033434,
     "end_time": "2023-10-05T10:08:59.389456",
     "exception": false,
     "start_time": "2023-10-05T10:08:59.356022",
     "status": "completed"
    },
    "tags": []
   },
   "outputs": [],
   "source": [
    "soup = BeautifulSoup(html, \"html.parser\")"
   ]
  },
  {
   "cell_type": "markdown",
   "id": "0e02b2a1",
   "metadata": {
    "papermill": {
     "duration": 0.021927,
     "end_time": "2023-10-05T10:08:59.433747",
     "exception": false,
     "start_time": "2023-10-05T10:08:59.411820",
     "status": "completed"
    },
    "tags": []
   },
   "source": [
    "First, the document is converted to Unicode, (similar to ASCII),  and HTML entities are converted to Unicode characters. Beautiful Soup transforms a complex HTML document into a complex tree of Python objects. The <code>BeautifulSoup</code> object can create other types of objects. In this lab, we will cover <code>BeautifulSoup</code> and <code>Tag</code> objects that for the purposes of this lab are identical, and <code>NavigableString</code> objects.\n"
   ]
  },
  {
   "cell_type": "markdown",
   "id": "cdb40211",
   "metadata": {
    "papermill": {
     "duration": 0.022512,
     "end_time": "2023-10-05T10:08:59.478369",
     "exception": false,
     "start_time": "2023-10-05T10:08:59.455857",
     "status": "completed"
    },
    "tags": []
   },
   "source": [
    "We can use the method <code>prettify()</code> to display the HTML in the nested structure:\n"
   ]
  },
  {
   "cell_type": "code",
   "execution_count": 6,
   "id": "adb4ec11",
   "metadata": {
    "execution": {
     "iopub.execute_input": "2023-10-05T10:08:59.525849Z",
     "iopub.status.busy": "2023-10-05T10:08:59.525123Z",
     "iopub.status.idle": "2023-10-05T10:08:59.531597Z",
     "shell.execute_reply": "2023-10-05T10:08:59.530252Z"
    },
    "papermill": {
     "duration": 0.032416,
     "end_time": "2023-10-05T10:08:59.533641",
     "exception": false,
     "start_time": "2023-10-05T10:08:59.501225",
     "status": "completed"
    },
    "tags": []
   },
   "outputs": [
    {
     "name": "stdout",
     "output_type": "stream",
     "text": [
      "<!DOCTYPE html>\n",
      "<html>\n",
      " <head>\n",
      "  <title>\n",
      "   Page Title\n",
      "  </title>\n",
      " </head>\n",
      " <body>\n",
      "  <h3>\n",
      "   <b id=\"boldest\">\n",
      "    Lebron James\n",
      "   </b>\n",
      "  </h3>\n",
      "  <p>\n",
      "   Salary: $ 92,000,000\n",
      "  </p>\n",
      "  <h3>\n",
      "   Stephen Curry\n",
      "  </h3>\n",
      "  <p>\n",
      "   Salary: $85,000, 000\n",
      "  </p>\n",
      "  <h3>\n",
      "   Kevin Durant\n",
      "  </h3>\n",
      "  <p>\n",
      "   Salary: $73,200, 000\n",
      "  </p>\n",
      " </body>\n",
      "</html>\n",
      "\n"
     ]
    }
   ],
   "source": [
    "print(soup.prettify())"
   ]
  },
  {
   "cell_type": "markdown",
   "id": "f4996448",
   "metadata": {
    "papermill": {
     "duration": 0.022285,
     "end_time": "2023-10-05T10:08:59.578597",
     "exception": false,
     "start_time": "2023-10-05T10:08:59.556312",
     "status": "completed"
    },
    "tags": []
   },
   "source": [
    "## Tags\n"
   ]
  },
  {
   "cell_type": "markdown",
   "id": "c4176cf0",
   "metadata": {
    "papermill": {
     "duration": 0.023274,
     "end_time": "2023-10-05T10:08:59.624271",
     "exception": false,
     "start_time": "2023-10-05T10:08:59.600997",
     "status": "completed"
    },
    "tags": []
   },
   "source": [
    "Let's say we want the  title of the page and the name of the top paid player we can use the <code>Tag</code>. The <code>Tag</code> object corresponds to an HTML tag in the original document, for example, the tag title.\n"
   ]
  },
  {
   "cell_type": "code",
   "execution_count": 7,
   "id": "3a0453cc",
   "metadata": {
    "execution": {
     "iopub.execute_input": "2023-10-05T10:08:59.671814Z",
     "iopub.status.busy": "2023-10-05T10:08:59.671422Z",
     "iopub.status.idle": "2023-10-05T10:08:59.676594Z",
     "shell.execute_reply": "2023-10-05T10:08:59.675894Z"
    },
    "papermill": {
     "duration": 0.031032,
     "end_time": "2023-10-05T10:08:59.678673",
     "exception": false,
     "start_time": "2023-10-05T10:08:59.647641",
     "status": "completed"
    },
    "tags": []
   },
   "outputs": [
    {
     "name": "stdout",
     "output_type": "stream",
     "text": [
      "tag object: <title>Page Title</title>\n"
     ]
    }
   ],
   "source": [
    "tag_object=soup.title\n",
    "print(\"tag object:\",tag_object)"
   ]
  },
  {
   "cell_type": "markdown",
   "id": "0b2cd944",
   "metadata": {
    "papermill": {
     "duration": 0.023445,
     "end_time": "2023-10-05T10:08:59.726078",
     "exception": false,
     "start_time": "2023-10-05T10:08:59.702633",
     "status": "completed"
    },
    "tags": []
   },
   "source": [
    "we can see the tag type <code>bs4.element.Tag</code>\n"
   ]
  },
  {
   "cell_type": "code",
   "execution_count": 8,
   "id": "a92ed075",
   "metadata": {
    "execution": {
     "iopub.execute_input": "2023-10-05T10:08:59.778057Z",
     "iopub.status.busy": "2023-10-05T10:08:59.777428Z",
     "iopub.status.idle": "2023-10-05T10:08:59.781903Z",
     "shell.execute_reply": "2023-10-05T10:08:59.781034Z"
    },
    "papermill": {
     "duration": 0.032525,
     "end_time": "2023-10-05T10:08:59.784024",
     "exception": false,
     "start_time": "2023-10-05T10:08:59.751499",
     "status": "completed"
    },
    "tags": []
   },
   "outputs": [
    {
     "name": "stdout",
     "output_type": "stream",
     "text": [
      "tag object type: <class 'bs4.element.Tag'>\n"
     ]
    }
   ],
   "source": [
    "print(\"tag object type:\",type(tag_object))"
   ]
  },
  {
   "cell_type": "markdown",
   "id": "2c91cc0e",
   "metadata": {
    "papermill": {
     "duration": 0.023103,
     "end_time": "2023-10-05T10:08:59.830921",
     "exception": false,
     "start_time": "2023-10-05T10:08:59.807818",
     "status": "completed"
    },
    "tags": []
   },
   "source": [
    "If there is more than one <code>Tag</code>  with the same name, the first element with that <code>Tag</code> name is called, this corresponds to the most paid player:\n"
   ]
  },
  {
   "cell_type": "code",
   "execution_count": 9,
   "id": "5d35c737",
   "metadata": {
    "execution": {
     "iopub.execute_input": "2023-10-05T10:08:59.886020Z",
     "iopub.status.busy": "2023-10-05T10:08:59.885655Z",
     "iopub.status.idle": "2023-10-05T10:08:59.892994Z",
     "shell.execute_reply": "2023-10-05T10:08:59.891938Z"
    },
    "papermill": {
     "duration": 0.037094,
     "end_time": "2023-10-05T10:08:59.895013",
     "exception": false,
     "start_time": "2023-10-05T10:08:59.857919",
     "status": "completed"
    },
    "tags": []
   },
   "outputs": [
    {
     "data": {
      "text/plain": [
       "<h3><b id=\"boldest\">Lebron James</b></h3>"
      ]
     },
     "execution_count": 9,
     "metadata": {},
     "output_type": "execute_result"
    }
   ],
   "source": [
    "tag_object=soup.h3\n",
    "tag_object"
   ]
  },
  {
   "cell_type": "markdown",
   "id": "ea1b8089",
   "metadata": {
    "papermill": {
     "duration": 0.024638,
     "end_time": "2023-10-05T10:08:59.943869",
     "exception": false,
     "start_time": "2023-10-05T10:08:59.919231",
     "status": "completed"
    },
    "tags": []
   },
   "source": [
    "Enclosed in the bold attribute <code>b</code>, it helps to use the tree representation. We can navigate down the tree using the child attribute to get the name.\n"
   ]
  },
  {
   "cell_type": "markdown",
   "id": "058a0529",
   "metadata": {
    "papermill": {
     "duration": 0.023766,
     "end_time": "2023-10-05T10:08:59.991264",
     "exception": false,
     "start_time": "2023-10-05T10:08:59.967498",
     "status": "completed"
    },
    "tags": []
   },
   "source": [
    "### Children, Parents, and Siblings\n"
   ]
  },
  {
   "cell_type": "markdown",
   "id": "63431eae",
   "metadata": {
    "papermill": {
     "duration": 0.023958,
     "end_time": "2023-10-05T10:09:00.044931",
     "exception": false,
     "start_time": "2023-10-05T10:09:00.020973",
     "status": "completed"
    },
    "tags": []
   },
   "source": [
    "As stated above the <code>Tag</code> object is a tree of objects we can access the child of the tag or navigate down the branch as follows:\n"
   ]
  },
  {
   "cell_type": "code",
   "execution_count": 10,
   "id": "8ab1a325",
   "metadata": {
    "execution": {
     "iopub.execute_input": "2023-10-05T10:09:00.094398Z",
     "iopub.status.busy": "2023-10-05T10:09:00.093958Z",
     "iopub.status.idle": "2023-10-05T10:09:00.100886Z",
     "shell.execute_reply": "2023-10-05T10:09:00.099752Z"
    },
    "papermill": {
     "duration": 0.034715,
     "end_time": "2023-10-05T10:09:00.103437",
     "exception": false,
     "start_time": "2023-10-05T10:09:00.068722",
     "status": "completed"
    },
    "tags": []
   },
   "outputs": [
    {
     "data": {
      "text/plain": [
       "<b id=\"boldest\">Lebron James</b>"
      ]
     },
     "execution_count": 10,
     "metadata": {},
     "output_type": "execute_result"
    }
   ],
   "source": [
    "tag_child =tag_object.b\n",
    "tag_child"
   ]
  },
  {
   "cell_type": "markdown",
   "id": "7e6b6f69",
   "metadata": {
    "papermill": {
     "duration": 0.023446,
     "end_time": "2023-10-05T10:09:00.151295",
     "exception": false,
     "start_time": "2023-10-05T10:09:00.127849",
     "status": "completed"
    },
    "tags": []
   },
   "source": [
    "You can access the parent with the <code> parent</code>\n"
   ]
  },
  {
   "cell_type": "code",
   "execution_count": 11,
   "id": "ae605409",
   "metadata": {
    "execution": {
     "iopub.execute_input": "2023-10-05T10:09:00.200560Z",
     "iopub.status.busy": "2023-10-05T10:09:00.199981Z",
     "iopub.status.idle": "2023-10-05T10:09:00.207505Z",
     "shell.execute_reply": "2023-10-05T10:09:00.206337Z"
    },
    "papermill": {
     "duration": 0.034633,
     "end_time": "2023-10-05T10:09:00.209570",
     "exception": false,
     "start_time": "2023-10-05T10:09:00.174937",
     "status": "completed"
    },
    "tags": []
   },
   "outputs": [
    {
     "data": {
      "text/plain": [
       "<h3><b id=\"boldest\">Lebron James</b></h3>"
      ]
     },
     "execution_count": 11,
     "metadata": {},
     "output_type": "execute_result"
    }
   ],
   "source": [
    "parent_tag=tag_child.parent\n",
    "parent_tag"
   ]
  },
  {
   "cell_type": "markdown",
   "id": "ff41e274",
   "metadata": {
    "papermill": {
     "duration": 0.023454,
     "end_time": "2023-10-05T10:09:00.256818",
     "exception": false,
     "start_time": "2023-10-05T10:09:00.233364",
     "status": "completed"
    },
    "tags": []
   },
   "source": [
    "this is identical to\n"
   ]
  },
  {
   "cell_type": "code",
   "execution_count": 12,
   "id": "ef72edcb",
   "metadata": {
    "execution": {
     "iopub.execute_input": "2023-10-05T10:09:00.306841Z",
     "iopub.status.busy": "2023-10-05T10:09:00.306429Z",
     "iopub.status.idle": "2023-10-05T10:09:00.313698Z",
     "shell.execute_reply": "2023-10-05T10:09:00.312437Z"
    },
    "papermill": {
     "duration": 0.03563,
     "end_time": "2023-10-05T10:09:00.316583",
     "exception": false,
     "start_time": "2023-10-05T10:09:00.280953",
     "status": "completed"
    },
    "tags": []
   },
   "outputs": [
    {
     "data": {
      "text/plain": [
       "<h3><b id=\"boldest\">Lebron James</b></h3>"
      ]
     },
     "execution_count": 12,
     "metadata": {},
     "output_type": "execute_result"
    }
   ],
   "source": [
    "tag_object"
   ]
  },
  {
   "cell_type": "markdown",
   "id": "43169208",
   "metadata": {
    "papermill": {
     "duration": 0.022925,
     "end_time": "2023-10-05T10:09:00.363302",
     "exception": false,
     "start_time": "2023-10-05T10:09:00.340377",
     "status": "completed"
    },
    "tags": []
   },
   "source": [
    "<code>tag_object</code> parent is the <code>body</code> element.\n"
   ]
  },
  {
   "cell_type": "code",
   "execution_count": 13,
   "id": "25000023",
   "metadata": {
    "execution": {
     "iopub.execute_input": "2023-10-05T10:09:00.412869Z",
     "iopub.status.busy": "2023-10-05T10:09:00.412462Z",
     "iopub.status.idle": "2023-10-05T10:09:00.421026Z",
     "shell.execute_reply": "2023-10-05T10:09:00.420000Z"
    },
    "papermill": {
     "duration": 0.035271,
     "end_time": "2023-10-05T10:09:00.423177",
     "exception": false,
     "start_time": "2023-10-05T10:09:00.387906",
     "status": "completed"
    },
    "tags": []
   },
   "outputs": [
    {
     "data": {
      "text/plain": [
       "<body><h3><b id=\"boldest\">Lebron James</b></h3><p> Salary: $ 92,000,000 </p><h3> Stephen Curry</h3><p> Salary: $85,000, 000 </p><h3> Kevin Durant </h3><p> Salary: $73,200, 000</p></body>"
      ]
     },
     "execution_count": 13,
     "metadata": {},
     "output_type": "execute_result"
    }
   ],
   "source": [
    "tag_object.parent"
   ]
  },
  {
   "cell_type": "markdown",
   "id": "f69858aa",
   "metadata": {
    "papermill": {
     "duration": 0.02274,
     "end_time": "2023-10-05T10:09:00.469288",
     "exception": false,
     "start_time": "2023-10-05T10:09:00.446548",
     "status": "completed"
    },
    "tags": []
   },
   "source": [
    "<code>tag_object</code> sibling is the <code>paragraph</code> element\n"
   ]
  },
  {
   "cell_type": "code",
   "execution_count": 14,
   "id": "ec0df98a",
   "metadata": {
    "execution": {
     "iopub.execute_input": "2023-10-05T10:09:00.518375Z",
     "iopub.status.busy": "2023-10-05T10:09:00.517947Z",
     "iopub.status.idle": "2023-10-05T10:09:00.525271Z",
     "shell.execute_reply": "2023-10-05T10:09:00.524258Z"
    },
    "papermill": {
     "duration": 0.034866,
     "end_time": "2023-10-05T10:09:00.527442",
     "exception": false,
     "start_time": "2023-10-05T10:09:00.492576",
     "status": "completed"
    },
    "tags": []
   },
   "outputs": [
    {
     "data": {
      "text/plain": [
       "<p> Salary: $ 92,000,000 </p>"
      ]
     },
     "execution_count": 14,
     "metadata": {},
     "output_type": "execute_result"
    }
   ],
   "source": [
    "sibling_1=tag_object.next_sibling\n",
    "sibling_1"
   ]
  },
  {
   "cell_type": "markdown",
   "id": "9578f19d",
   "metadata": {
    "papermill": {
     "duration": 0.023366,
     "end_time": "2023-10-05T10:09:00.574322",
     "exception": false,
     "start_time": "2023-10-05T10:09:00.550956",
     "status": "completed"
    },
    "tags": []
   },
   "source": [
    "`sibling_2` is the `header` element which is also a sibling of both `sibling_1` and `tag_object`\n"
   ]
  },
  {
   "cell_type": "code",
   "execution_count": 15,
   "id": "9afc9000",
   "metadata": {
    "execution": {
     "iopub.execute_input": "2023-10-05T10:09:00.622849Z",
     "iopub.status.busy": "2023-10-05T10:09:00.622430Z",
     "iopub.status.idle": "2023-10-05T10:09:00.629775Z",
     "shell.execute_reply": "2023-10-05T10:09:00.628576Z"
    },
    "papermill": {
     "duration": 0.034283,
     "end_time": "2023-10-05T10:09:00.631964",
     "exception": false,
     "start_time": "2023-10-05T10:09:00.597681",
     "status": "completed"
    },
    "tags": []
   },
   "outputs": [
    {
     "data": {
      "text/plain": [
       "<h3> Stephen Curry</h3>"
      ]
     },
     "execution_count": 15,
     "metadata": {},
     "output_type": "execute_result"
    }
   ],
   "source": [
    "sibling_2=sibling_1.next_sibling\n",
    "sibling_2"
   ]
  },
  {
   "cell_type": "markdown",
   "id": "be4990f8",
   "metadata": {
    "papermill": {
     "duration": 0.023599,
     "end_time": "2023-10-05T10:09:00.680022",
     "exception": false,
     "start_time": "2023-10-05T10:09:00.656423",
     "status": "completed"
    },
    "tags": []
   },
   "source": [
    "<h3 id=\"first_question\">Exercise: <code>next_sibling</code></h3>\n"
   ]
  },
  {
   "cell_type": "markdown",
   "id": "4d7c6a94",
   "metadata": {
    "papermill": {
     "duration": 0.023406,
     "end_time": "2023-10-05T10:09:00.727700",
     "exception": false,
     "start_time": "2023-10-05T10:09:00.704294",
     "status": "completed"
    },
    "tags": []
   },
   "source": [
    "Using the object <code>sibling\\_2</code> and the property <code>next_sibling</code> to find the salary of Stephen Curry:\n"
   ]
  },
  {
   "cell_type": "code",
   "execution_count": 16,
   "id": "f5d0c2d6",
   "metadata": {
    "execution": {
     "iopub.execute_input": "2023-10-05T10:09:00.777255Z",
     "iopub.status.busy": "2023-10-05T10:09:00.776903Z",
     "iopub.status.idle": "2023-10-05T10:09:00.782928Z",
     "shell.execute_reply": "2023-10-05T10:09:00.782219Z"
    },
    "papermill": {
     "duration": 0.03346,
     "end_time": "2023-10-05T10:09:00.785133",
     "exception": false,
     "start_time": "2023-10-05T10:09:00.751673",
     "status": "completed"
    },
    "tags": []
   },
   "outputs": [
    {
     "data": {
      "text/plain": [
       "<p> Salary: $85,000, 000 </p>"
      ]
     },
     "execution_count": 16,
     "metadata": {},
     "output_type": "execute_result"
    }
   ],
   "source": [
    "sibling_2.next_sibling"
   ]
  },
  {
   "cell_type": "markdown",
   "id": "24a0971d",
   "metadata": {
    "papermill": {
     "duration": 0.023862,
     "end_time": "2023-10-05T10:09:00.834024",
     "exception": false,
     "start_time": "2023-10-05T10:09:00.810162",
     "status": "completed"
    },
    "tags": []
   },
   "source": [
    "<details><summary>Click here for the solution</summary>\n",
    "\n",
    "```\n",
    "sibling_2.next_sibling\n",
    "\n",
    "```\n",
    "\n",
    "</details>\n"
   ]
  },
  {
   "cell_type": "markdown",
   "id": "79ae7a87",
   "metadata": {
    "papermill": {
     "duration": 0.025268,
     "end_time": "2023-10-05T10:09:00.886953",
     "exception": false,
     "start_time": "2023-10-05T10:09:00.861685",
     "status": "completed"
    },
    "tags": []
   },
   "source": [
    "### HTML Attributes\n"
   ]
  },
  {
   "cell_type": "markdown",
   "id": "4a8df012",
   "metadata": {
    "papermill": {
     "duration": 0.024431,
     "end_time": "2023-10-05T10:09:00.935900",
     "exception": false,
     "start_time": "2023-10-05T10:09:00.911469",
     "status": "completed"
    },
    "tags": []
   },
   "source": [
    "If the tag has attributes, the tag <code>id=\"boldest\"</code> has an attribute <code>id</code> whose value is <code>boldest</code>. You can access a tag’s attributes by treating the tag like a dictionary:\n"
   ]
  },
  {
   "cell_type": "code",
   "execution_count": 17,
   "id": "bc99c131",
   "metadata": {
    "execution": {
     "iopub.execute_input": "2023-10-05T10:09:00.988856Z",
     "iopub.status.busy": "2023-10-05T10:09:00.988520Z",
     "iopub.status.idle": "2023-10-05T10:09:00.993456Z",
     "shell.execute_reply": "2023-10-05T10:09:00.992675Z"
    },
    "papermill": {
     "duration": 0.033055,
     "end_time": "2023-10-05T10:09:00.995316",
     "exception": false,
     "start_time": "2023-10-05T10:09:00.962261",
     "status": "completed"
    },
    "tags": []
   },
   "outputs": [
    {
     "data": {
      "text/plain": [
       "'boldest'"
      ]
     },
     "execution_count": 17,
     "metadata": {},
     "output_type": "execute_result"
    }
   ],
   "source": [
    "tag_child['id']"
   ]
  },
  {
   "cell_type": "markdown",
   "id": "bb3bb476",
   "metadata": {
    "papermill": {
     "duration": 0.024329,
     "end_time": "2023-10-05T10:09:01.047630",
     "exception": false,
     "start_time": "2023-10-05T10:09:01.023301",
     "status": "completed"
    },
    "tags": []
   },
   "source": [
    "You can access that dictionary directly as <code>attrs</code>:\n"
   ]
  },
  {
   "cell_type": "code",
   "execution_count": 18,
   "id": "a80c4d8f",
   "metadata": {
    "execution": {
     "iopub.execute_input": "2023-10-05T10:09:01.099701Z",
     "iopub.status.busy": "2023-10-05T10:09:01.099067Z",
     "iopub.status.idle": "2023-10-05T10:09:01.104354Z",
     "shell.execute_reply": "2023-10-05T10:09:01.103203Z"
    },
    "papermill": {
     "duration": 0.034019,
     "end_time": "2023-10-05T10:09:01.106272",
     "exception": false,
     "start_time": "2023-10-05T10:09:01.072253",
     "status": "completed"
    },
    "tags": []
   },
   "outputs": [
    {
     "data": {
      "text/plain": [
       "{'id': 'boldest'}"
      ]
     },
     "execution_count": 18,
     "metadata": {},
     "output_type": "execute_result"
    }
   ],
   "source": [
    "tag_child.attrs"
   ]
  },
  {
   "cell_type": "markdown",
   "id": "e0333add",
   "metadata": {
    "papermill": {
     "duration": 0.024609,
     "end_time": "2023-10-05T10:09:01.155572",
     "exception": false,
     "start_time": "2023-10-05T10:09:01.130963",
     "status": "completed"
    },
    "tags": []
   },
   "source": [
    "You can also work with Multi-valued attribute check out <a href=\"https://www.crummy.com/software/BeautifulSoup/bs4/doc/?utm_medium=Exinfluencer&utm_source=Exinfluencer&utm_content=000026UJ&utm_term=10006555&utm_id=NA-SkillsNetwork-Channel-SkillsNetworkCoursesIBMDeveloperSkillsNetworkPY0220ENSkillsNetwork23455606-2021-01-01\">\\[1]</a> for more.\n"
   ]
  },
  {
   "cell_type": "markdown",
   "id": "ae0aab4b",
   "metadata": {
    "papermill": {
     "duration": 0.025171,
     "end_time": "2023-10-05T10:09:01.205332",
     "exception": false,
     "start_time": "2023-10-05T10:09:01.180161",
     "status": "completed"
    },
    "tags": []
   },
   "source": [
    "We can also obtain the content if the attribute of the <code>tag</code> using the Python <code>get()</code> method.\n"
   ]
  },
  {
   "cell_type": "code",
   "execution_count": 19,
   "id": "88cd15e5",
   "metadata": {
    "execution": {
     "iopub.execute_input": "2023-10-05T10:09:01.257216Z",
     "iopub.status.busy": "2023-10-05T10:09:01.256513Z",
     "iopub.status.idle": "2023-10-05T10:09:01.262481Z",
     "shell.execute_reply": "2023-10-05T10:09:01.261367Z"
    },
    "papermill": {
     "duration": 0.033896,
     "end_time": "2023-10-05T10:09:01.264640",
     "exception": false,
     "start_time": "2023-10-05T10:09:01.230744",
     "status": "completed"
    },
    "tags": []
   },
   "outputs": [
    {
     "data": {
      "text/plain": [
       "'boldest'"
      ]
     },
     "execution_count": 19,
     "metadata": {},
     "output_type": "execute_result"
    }
   ],
   "source": [
    "tag_child.get('id')"
   ]
  },
  {
   "cell_type": "markdown",
   "id": "11769ef1",
   "metadata": {
    "papermill": {
     "duration": 0.024281,
     "end_time": "2023-10-05T10:09:01.314233",
     "exception": false,
     "start_time": "2023-10-05T10:09:01.289952",
     "status": "completed"
    },
    "tags": []
   },
   "source": [
    "### Navigable String\n"
   ]
  },
  {
   "cell_type": "markdown",
   "id": "1b09772d",
   "metadata": {
    "papermill": {
     "duration": 0.024276,
     "end_time": "2023-10-05T10:09:01.364162",
     "exception": false,
     "start_time": "2023-10-05T10:09:01.339886",
     "status": "completed"
    },
    "tags": []
   },
   "source": [
    "A string corresponds to a bit of text or content within a tag. Beautiful Soup uses the <code>NavigableString</code> class to contain this text. In our HTML we can obtain the name of the first player by extracting the sting of the <code>Tag</code> object <code>tag_child</code> as follows:\n"
   ]
  },
  {
   "cell_type": "code",
   "execution_count": 20,
   "id": "194b59ca",
   "metadata": {
    "execution": {
     "iopub.execute_input": "2023-10-05T10:09:01.416661Z",
     "iopub.status.busy": "2023-10-05T10:09:01.415992Z",
     "iopub.status.idle": "2023-10-05T10:09:01.420809Z",
     "shell.execute_reply": "2023-10-05T10:09:01.420184Z"
    },
    "papermill": {
     "duration": 0.032648,
     "end_time": "2023-10-05T10:09:01.422657",
     "exception": false,
     "start_time": "2023-10-05T10:09:01.390009",
     "status": "completed"
    },
    "tags": []
   },
   "outputs": [
    {
     "data": {
      "text/plain": [
       "'Lebron James'"
      ]
     },
     "execution_count": 20,
     "metadata": {},
     "output_type": "execute_result"
    }
   ],
   "source": [
    "tag_string=tag_child.string\n",
    "tag_string"
   ]
  },
  {
   "cell_type": "markdown",
   "id": "92de4f83",
   "metadata": {
    "papermill": {
     "duration": 0.025858,
     "end_time": "2023-10-05T10:09:01.474624",
     "exception": false,
     "start_time": "2023-10-05T10:09:01.448766",
     "status": "completed"
    },
    "tags": []
   },
   "source": [
    "we can verify the type is Navigable String\n"
   ]
  },
  {
   "cell_type": "code",
   "execution_count": 21,
   "id": "99c1d6b9",
   "metadata": {
    "execution": {
     "iopub.execute_input": "2023-10-05T10:09:01.527478Z",
     "iopub.status.busy": "2023-10-05T10:09:01.526845Z",
     "iopub.status.idle": "2023-10-05T10:09:01.531681Z",
     "shell.execute_reply": "2023-10-05T10:09:01.531061Z"
    },
    "papermill": {
     "duration": 0.033594,
     "end_time": "2023-10-05T10:09:01.533545",
     "exception": false,
     "start_time": "2023-10-05T10:09:01.499951",
     "status": "completed"
    },
    "tags": []
   },
   "outputs": [
    {
     "data": {
      "text/plain": [
       "bs4.element.NavigableString"
      ]
     },
     "execution_count": 21,
     "metadata": {},
     "output_type": "execute_result"
    }
   ],
   "source": [
    "type(tag_string)"
   ]
  },
  {
   "cell_type": "markdown",
   "id": "fa037864",
   "metadata": {
    "papermill": {
     "duration": 0.025109,
     "end_time": "2023-10-05T10:09:01.583722",
     "exception": false,
     "start_time": "2023-10-05T10:09:01.558613",
     "status": "completed"
    },
    "tags": []
   },
   "source": [
    "A NavigableString is just like a Python string or Unicode string, to be more precise. The main difference is that it also supports some  <code>BeautifulSoup</code> features. We can covert it to sting object in Python:\n"
   ]
  },
  {
   "cell_type": "code",
   "execution_count": 22,
   "id": "9566866f",
   "metadata": {
    "execution": {
     "iopub.execute_input": "2023-10-05T10:09:01.634796Z",
     "iopub.status.busy": "2023-10-05T10:09:01.634406Z",
     "iopub.status.idle": "2023-10-05T10:09:01.640468Z",
     "shell.execute_reply": "2023-10-05T10:09:01.639534Z"
    },
    "papermill": {
     "duration": 0.033688,
     "end_time": "2023-10-05T10:09:01.642344",
     "exception": false,
     "start_time": "2023-10-05T10:09:01.608656",
     "status": "completed"
    },
    "tags": []
   },
   "outputs": [
    {
     "data": {
      "text/plain": [
       "'Lebron James'"
      ]
     },
     "execution_count": 22,
     "metadata": {},
     "output_type": "execute_result"
    }
   ],
   "source": [
    "unicode_string = str(tag_string)\n",
    "unicode_string"
   ]
  },
  {
   "cell_type": "markdown",
   "id": "61735efd",
   "metadata": {
    "papermill": {
     "duration": 0.025288,
     "end_time": "2023-10-05T10:09:01.693000",
     "exception": false,
     "start_time": "2023-10-05T10:09:01.667712",
     "status": "completed"
    },
    "tags": []
   },
   "source": [
    "<h2 id=\"filter\">Filter</h2>\n"
   ]
  },
  {
   "cell_type": "markdown",
   "id": "e5c4aebe",
   "metadata": {
    "papermill": {
     "duration": 0.024228,
     "end_time": "2023-10-05T10:09:01.742388",
     "exception": false,
     "start_time": "2023-10-05T10:09:01.718160",
     "status": "completed"
    },
    "tags": []
   },
   "source": [
    "Filters allow you to find complex patterns, the simplest filter is a string. In this section we will pass a string to a different filter method and Beautiful Soup will perform a match against that exact string.  Consider the following HTML of rocket launchs:\n"
   ]
  },
  {
   "cell_type": "code",
   "execution_count": 23,
   "id": "b8d4493f",
   "metadata": {
    "execution": {
     "iopub.execute_input": "2023-10-05T10:09:01.794299Z",
     "iopub.status.busy": "2023-10-05T10:09:01.793691Z",
     "iopub.status.idle": "2023-10-05T10:09:01.801169Z",
     "shell.execute_reply": "2023-10-05T10:09:01.800109Z"
    },
    "papermill": {
     "duration": 0.036069,
     "end_time": "2023-10-05T10:09:01.803324",
     "exception": false,
     "start_time": "2023-10-05T10:09:01.767255",
     "status": "completed"
    },
    "tags": []
   },
   "outputs": [
    {
     "data": {
      "text/html": [
       "<table>\n",
       "  <tr>\n",
       "    <td id='flight' >Flight No</td>\n",
       "    <td>Launch site</td> \n",
       "    <td>Payload mass</td>\n",
       "   </tr>\n",
       "  <tr> \n",
       "    <td>1</td>\n",
       "    <td><a href='https://en.wikipedia.org/wiki/Florida'>Florida</a></td>\n",
       "    <td>300 kg</td>\n",
       "  </tr>\n",
       "  <tr>\n",
       "    <td>2</td>\n",
       "    <td><a href='https://en.wikipedia.org/wiki/Texas'>Texas</a></td>\n",
       "    <td>94 kg</td>\n",
       "  </tr>\n",
       "  <tr>\n",
       "    <td>3</td>\n",
       "    <td><a href='https://en.wikipedia.org/wiki/Florida'>Florida<a> </td>\n",
       "    <td>80 kg</td>\n",
       "  </tr>\n",
       "</table>\n"
      ],
      "text/plain": [
       "<IPython.core.display.HTML object>"
      ]
     },
     "metadata": {},
     "output_type": "display_data"
    }
   ],
   "source": [
    "%%html\n",
    "<table>\n",
    "  <tr>\n",
    "    <td id='flight' >Flight No</td>\n",
    "    <td>Launch site</td> \n",
    "    <td>Payload mass</td>\n",
    "   </tr>\n",
    "  <tr> \n",
    "    <td>1</td>\n",
    "    <td><a href='https://en.wikipedia.org/wiki/Florida'>Florida</a></td>\n",
    "    <td>300 kg</td>\n",
    "  </tr>\n",
    "  <tr>\n",
    "    <td>2</td>\n",
    "    <td><a href='https://en.wikipedia.org/wiki/Texas'>Texas</a></td>\n",
    "    <td>94 kg</td>\n",
    "  </tr>\n",
    "  <tr>\n",
    "    <td>3</td>\n",
    "    <td><a href='https://en.wikipedia.org/wiki/Florida'>Florida<a> </td>\n",
    "    <td>80 kg</td>\n",
    "  </tr>\n",
    "</table>"
   ]
  },
  {
   "cell_type": "markdown",
   "id": "80b284f5",
   "metadata": {
    "papermill": {
     "duration": 0.024452,
     "end_time": "2023-10-05T10:09:01.853331",
     "exception": false,
     "start_time": "2023-10-05T10:09:01.828879",
     "status": "completed"
    },
    "tags": []
   },
   "source": [
    "We can store it as a string in the variable <code>table</code>:\n"
   ]
  },
  {
   "cell_type": "code",
   "execution_count": 24,
   "id": "72cc2f00",
   "metadata": {
    "execution": {
     "iopub.execute_input": "2023-10-05T10:09:01.906272Z",
     "iopub.status.busy": "2023-10-05T10:09:01.905898Z",
     "iopub.status.idle": "2023-10-05T10:09:01.911131Z",
     "shell.execute_reply": "2023-10-05T10:09:01.909810Z"
    },
    "papermill": {
     "duration": 0.034165,
     "end_time": "2023-10-05T10:09:01.913372",
     "exception": false,
     "start_time": "2023-10-05T10:09:01.879207",
     "status": "completed"
    },
    "tags": []
   },
   "outputs": [],
   "source": [
    "table=\"<table><tr><td id='flight'>Flight No</td><td>Launch site</td> <td>Payload mass</td></tr><tr> <td>1</td><td><a href='https://en.wikipedia.org/wiki/Florida'>Florida<a></td><td>300 kg</td></tr><tr><td>2</td><td><a href='https://en.wikipedia.org/wiki/Texas'>Texas</a></td><td>94 kg</td></tr><tr><td>3</td><td><a href='https://en.wikipedia.org/wiki/Florida'>Florida<a> </td><td>80 kg</td></tr></table>\""
   ]
  },
  {
   "cell_type": "code",
   "execution_count": 25,
   "id": "70676545",
   "metadata": {
    "execution": {
     "iopub.execute_input": "2023-10-05T10:09:01.967123Z",
     "iopub.status.busy": "2023-10-05T10:09:01.966100Z",
     "iopub.status.idle": "2023-10-05T10:09:01.971278Z",
     "shell.execute_reply": "2023-10-05T10:09:01.970418Z"
    },
    "papermill": {
     "duration": 0.033968,
     "end_time": "2023-10-05T10:09:01.973523",
     "exception": false,
     "start_time": "2023-10-05T10:09:01.939555",
     "status": "completed"
    },
    "tags": []
   },
   "outputs": [],
   "source": [
    "table_bs = BeautifulSoup(table, \"html.parser\")"
   ]
  },
  {
   "cell_type": "markdown",
   "id": "41892c1c",
   "metadata": {
    "papermill": {
     "duration": 0.033745,
     "end_time": "2023-10-05T10:09:02.033499",
     "exception": false,
     "start_time": "2023-10-05T10:09:01.999754",
     "status": "completed"
    },
    "tags": []
   },
   "source": [
    "## find All\n"
   ]
  },
  {
   "cell_type": "markdown",
   "id": "5501807e",
   "metadata": {
    "papermill": {
     "duration": 0.024712,
     "end_time": "2023-10-05T10:09:02.083575",
     "exception": false,
     "start_time": "2023-10-05T10:09:02.058863",
     "status": "completed"
    },
    "tags": []
   },
   "source": [
    "The <code>find_all()</code> method looks through a tag’s descendants and retrieves all descendants that match your filters.\n",
    "\n",
    "<p>\n",
    "The Method signature for <code>find_all(name, attrs, recursive, string, limit, **kwargs)<c/ode>\n",
    "</p>\n"
   ]
  },
  {
   "cell_type": "markdown",
   "id": "76844204",
   "metadata": {
    "papermill": {
     "duration": 0.024494,
     "end_time": "2023-10-05T10:09:02.133283",
     "exception": false,
     "start_time": "2023-10-05T10:09:02.108789",
     "status": "completed"
    },
    "tags": []
   },
   "source": [
    "### Name\n"
   ]
  },
  {
   "cell_type": "markdown",
   "id": "802ae9a8",
   "metadata": {
    "papermill": {
     "duration": 0.024598,
     "end_time": "2023-10-05T10:09:02.182843",
     "exception": false,
     "start_time": "2023-10-05T10:09:02.158245",
     "status": "completed"
    },
    "tags": []
   },
   "source": [
    "When we set the <code>name</code> parameter to a tag name, the method will extract all the tags with that name and its children.\n"
   ]
  },
  {
   "cell_type": "code",
   "execution_count": 26,
   "id": "43185bfb",
   "metadata": {
    "execution": {
     "iopub.execute_input": "2023-10-05T10:09:02.234212Z",
     "iopub.status.busy": "2023-10-05T10:09:02.233795Z",
     "iopub.status.idle": "2023-10-05T10:09:02.240877Z",
     "shell.execute_reply": "2023-10-05T10:09:02.239769Z"
    },
    "papermill": {
     "duration": 0.035504,
     "end_time": "2023-10-05T10:09:02.243233",
     "exception": false,
     "start_time": "2023-10-05T10:09:02.207729",
     "status": "completed"
    },
    "tags": []
   },
   "outputs": [
    {
     "data": {
      "text/plain": [
       "[<tr><td id=\"flight\">Flight No</td><td>Launch site</td> <td>Payload mass</td></tr>,\n",
       " <tr> <td>1</td><td><a href=\"https://en.wikipedia.org/wiki/Florida\">Florida<a></a></a></td><td>300 kg</td></tr>,\n",
       " <tr><td>2</td><td><a href=\"https://en.wikipedia.org/wiki/Texas\">Texas</a></td><td>94 kg</td></tr>,\n",
       " <tr><td>3</td><td><a href=\"https://en.wikipedia.org/wiki/Florida\">Florida<a> </a></a></td><td>80 kg</td></tr>]"
      ]
     },
     "execution_count": 26,
     "metadata": {},
     "output_type": "execute_result"
    }
   ],
   "source": [
    "table_rows=table_bs.find_all('tr')\n",
    "table_rows"
   ]
  },
  {
   "cell_type": "markdown",
   "id": "dad02be0",
   "metadata": {
    "papermill": {
     "duration": 0.024818,
     "end_time": "2023-10-05T10:09:02.293753",
     "exception": false,
     "start_time": "2023-10-05T10:09:02.268935",
     "status": "completed"
    },
    "tags": []
   },
   "source": [
    "The result is a Python Iterable just like a list, each element is a <code>tag</code> object:\n"
   ]
  },
  {
   "cell_type": "code",
   "execution_count": 27,
   "id": "e4fab510",
   "metadata": {
    "execution": {
     "iopub.execute_input": "2023-10-05T10:09:02.346523Z",
     "iopub.status.busy": "2023-10-05T10:09:02.346140Z",
     "iopub.status.idle": "2023-10-05T10:09:02.352643Z",
     "shell.execute_reply": "2023-10-05T10:09:02.351646Z"
    },
    "papermill": {
     "duration": 0.035515,
     "end_time": "2023-10-05T10:09:02.354959",
     "exception": false,
     "start_time": "2023-10-05T10:09:02.319444",
     "status": "completed"
    },
    "tags": []
   },
   "outputs": [
    {
     "data": {
      "text/plain": [
       "<tr><td id=\"flight\">Flight No</td><td>Launch site</td> <td>Payload mass</td></tr>"
      ]
     },
     "execution_count": 27,
     "metadata": {},
     "output_type": "execute_result"
    }
   ],
   "source": [
    "first_row =table_rows[0]\n",
    "first_row"
   ]
  },
  {
   "cell_type": "markdown",
   "id": "25681e9b",
   "metadata": {
    "papermill": {
     "duration": 0.025912,
     "end_time": "2023-10-05T10:09:02.406311",
     "exception": false,
     "start_time": "2023-10-05T10:09:02.380399",
     "status": "completed"
    },
    "tags": []
   },
   "source": [
    "The type is <code>tag</code>\n"
   ]
  },
  {
   "cell_type": "code",
   "execution_count": 28,
   "id": "75f22054",
   "metadata": {
    "execution": {
     "iopub.execute_input": "2023-10-05T10:09:02.460573Z",
     "iopub.status.busy": "2023-10-05T10:09:02.459751Z",
     "iopub.status.idle": "2023-10-05T10:09:02.465544Z",
     "shell.execute_reply": "2023-10-05T10:09:02.464666Z"
    },
    "papermill": {
     "duration": 0.034791,
     "end_time": "2023-10-05T10:09:02.467493",
     "exception": false,
     "start_time": "2023-10-05T10:09:02.432702",
     "status": "completed"
    },
    "tags": []
   },
   "outputs": [
    {
     "name": "stdout",
     "output_type": "stream",
     "text": [
      "<class 'bs4.element.Tag'>\n"
     ]
    }
   ],
   "source": [
    "print(type(first_row))"
   ]
  },
  {
   "cell_type": "markdown",
   "id": "cd49e321",
   "metadata": {
    "papermill": {
     "duration": 0.025142,
     "end_time": "2023-10-05T10:09:02.518779",
     "exception": false,
     "start_time": "2023-10-05T10:09:02.493637",
     "status": "completed"
    },
    "tags": []
   },
   "source": [
    "we can obtain the child\n"
   ]
  },
  {
   "cell_type": "code",
   "execution_count": 29,
   "id": "672d86e6",
   "metadata": {
    "execution": {
     "iopub.execute_input": "2023-10-05T10:09:02.572760Z",
     "iopub.status.busy": "2023-10-05T10:09:02.572012Z",
     "iopub.status.idle": "2023-10-05T10:09:02.577902Z",
     "shell.execute_reply": "2023-10-05T10:09:02.576800Z"
    },
    "papermill": {
     "duration": 0.035459,
     "end_time": "2023-10-05T10:09:02.579916",
     "exception": false,
     "start_time": "2023-10-05T10:09:02.544457",
     "status": "completed"
    },
    "tags": []
   },
   "outputs": [
    {
     "data": {
      "text/plain": [
       "<td id=\"flight\">Flight No</td>"
      ]
     },
     "execution_count": 29,
     "metadata": {},
     "output_type": "execute_result"
    }
   ],
   "source": [
    "first_row.td"
   ]
  },
  {
   "cell_type": "markdown",
   "id": "30824d7f",
   "metadata": {
    "papermill": {
     "duration": 0.025203,
     "end_time": "2023-10-05T10:09:02.630548",
     "exception": false,
     "start_time": "2023-10-05T10:09:02.605345",
     "status": "completed"
    },
    "tags": []
   },
   "source": [
    "If we iterate through the list, each element corresponds to a row in the table:\n"
   ]
  },
  {
   "cell_type": "code",
   "execution_count": 30,
   "id": "97a5f968",
   "metadata": {
    "execution": {
     "iopub.execute_input": "2023-10-05T10:09:02.683973Z",
     "iopub.status.busy": "2023-10-05T10:09:02.683627Z",
     "iopub.status.idle": "2023-10-05T10:09:02.688440Z",
     "shell.execute_reply": "2023-10-05T10:09:02.687799Z"
    },
    "papermill": {
     "duration": 0.034801,
     "end_time": "2023-10-05T10:09:02.691500",
     "exception": false,
     "start_time": "2023-10-05T10:09:02.656699",
     "status": "completed"
    },
    "tags": []
   },
   "outputs": [
    {
     "name": "stdout",
     "output_type": "stream",
     "text": [
      "row 0 is <tr><td id=\"flight\">Flight No</td><td>Launch site</td> <td>Payload mass</td></tr>\n",
      "row 1 is <tr> <td>1</td><td><a href=\"https://en.wikipedia.org/wiki/Florida\">Florida<a></a></a></td><td>300 kg</td></tr>\n",
      "row 2 is <tr><td>2</td><td><a href=\"https://en.wikipedia.org/wiki/Texas\">Texas</a></td><td>94 kg</td></tr>\n",
      "row 3 is <tr><td>3</td><td><a href=\"https://en.wikipedia.org/wiki/Florida\">Florida<a> </a></a></td><td>80 kg</td></tr>\n"
     ]
    }
   ],
   "source": [
    "for i,row in enumerate(table_rows):\n",
    "    print(\"row\",i,\"is\",row)\n",
    "    "
   ]
  },
  {
   "cell_type": "markdown",
   "id": "360e9898",
   "metadata": {
    "papermill": {
     "duration": 0.025554,
     "end_time": "2023-10-05T10:09:02.743115",
     "exception": false,
     "start_time": "2023-10-05T10:09:02.717561",
     "status": "completed"
    },
    "tags": []
   },
   "source": [
    "As <code>row</code> is a <code>cell</code> object, we can apply the method <code>find_all</code> to it and extract table cells in the object <code>cells</code> using the tag <code>td</code>, this is all the children with the name <code>td</code>. The result is a list, each element corresponds to a cell and is a <code>Tag</code> object, we can iterate through this list as well. We can extract the content using the <code>string</code>  attribute.\n"
   ]
  },
  {
   "cell_type": "code",
   "execution_count": 31,
   "id": "2b2655c2",
   "metadata": {
    "execution": {
     "iopub.execute_input": "2023-10-05T10:09:02.797253Z",
     "iopub.status.busy": "2023-10-05T10:09:02.796600Z",
     "iopub.status.idle": "2023-10-05T10:09:02.802810Z",
     "shell.execute_reply": "2023-10-05T10:09:02.801509Z"
    },
    "papermill": {
     "duration": 0.035466,
     "end_time": "2023-10-05T10:09:02.805076",
     "exception": false,
     "start_time": "2023-10-05T10:09:02.769610",
     "status": "completed"
    },
    "tags": []
   },
   "outputs": [
    {
     "name": "stdout",
     "output_type": "stream",
     "text": [
      "row 0\n",
      "colunm 0 cell <td id=\"flight\">Flight No</td>\n",
      "colunm 1 cell <td>Launch site</td>\n",
      "colunm 2 cell <td>Payload mass</td>\n",
      "row 1\n",
      "colunm 0 cell <td>1</td>\n",
      "colunm 1 cell <td><a href=\"https://en.wikipedia.org/wiki/Florida\">Florida<a></a></a></td>\n",
      "colunm 2 cell <td>300 kg</td>\n",
      "row 2\n",
      "colunm 0 cell <td>2</td>\n",
      "colunm 1 cell <td><a href=\"https://en.wikipedia.org/wiki/Texas\">Texas</a></td>\n",
      "colunm 2 cell <td>94 kg</td>\n",
      "row 3\n",
      "colunm 0 cell <td>3</td>\n",
      "colunm 1 cell <td><a href=\"https://en.wikipedia.org/wiki/Florida\">Florida<a> </a></a></td>\n",
      "colunm 2 cell <td>80 kg</td>\n"
     ]
    }
   ],
   "source": [
    "for i,row in enumerate(table_rows):\n",
    "    print(\"row\",i)\n",
    "    cells=row.find_all('td')\n",
    "    for j,cell in enumerate(cells):\n",
    "        print('colunm',j,\"cell\",cell)"
   ]
  },
  {
   "cell_type": "markdown",
   "id": "37383cfb",
   "metadata": {
    "papermill": {
     "duration": 0.025653,
     "end_time": "2023-10-05T10:09:02.857617",
     "exception": false,
     "start_time": "2023-10-05T10:09:02.831964",
     "status": "completed"
    },
    "tags": []
   },
   "source": [
    "If we use a list we can match against any item in that list.\n"
   ]
  },
  {
   "cell_type": "code",
   "execution_count": 32,
   "id": "74942e2e",
   "metadata": {
    "execution": {
     "iopub.execute_input": "2023-10-05T10:09:02.912562Z",
     "iopub.status.busy": "2023-10-05T10:09:02.911716Z",
     "iopub.status.idle": "2023-10-05T10:09:02.920262Z",
     "shell.execute_reply": "2023-10-05T10:09:02.919254Z"
    },
    "papermill": {
     "duration": 0.038136,
     "end_time": "2023-10-05T10:09:02.922284",
     "exception": false,
     "start_time": "2023-10-05T10:09:02.884148",
     "status": "completed"
    },
    "tags": []
   },
   "outputs": [
    {
     "data": {
      "text/plain": [
       "[<tr><td id=\"flight\">Flight No</td><td>Launch site</td> <td>Payload mass</td></tr>,\n",
       " <td id=\"flight\">Flight No</td>,\n",
       " <td>Launch site</td>,\n",
       " <td>Payload mass</td>,\n",
       " <tr> <td>1</td><td><a href=\"https://en.wikipedia.org/wiki/Florida\">Florida<a></a></a></td><td>300 kg</td></tr>,\n",
       " <td>1</td>,\n",
       " <td><a href=\"https://en.wikipedia.org/wiki/Florida\">Florida<a></a></a></td>,\n",
       " <td>300 kg</td>,\n",
       " <tr><td>2</td><td><a href=\"https://en.wikipedia.org/wiki/Texas\">Texas</a></td><td>94 kg</td></tr>,\n",
       " <td>2</td>,\n",
       " <td><a href=\"https://en.wikipedia.org/wiki/Texas\">Texas</a></td>,\n",
       " <td>94 kg</td>,\n",
       " <tr><td>3</td><td><a href=\"https://en.wikipedia.org/wiki/Florida\">Florida<a> </a></a></td><td>80 kg</td></tr>,\n",
       " <td>3</td>,\n",
       " <td><a href=\"https://en.wikipedia.org/wiki/Florida\">Florida<a> </a></a></td>,\n",
       " <td>80 kg</td>]"
      ]
     },
     "execution_count": 32,
     "metadata": {},
     "output_type": "execute_result"
    }
   ],
   "source": [
    "list_input=table_bs .find_all(name=[\"tr\", \"td\"])\n",
    "list_input"
   ]
  },
  {
   "cell_type": "markdown",
   "id": "94a44711",
   "metadata": {
    "papermill": {
     "duration": 0.026425,
     "end_time": "2023-10-05T10:09:02.975928",
     "exception": false,
     "start_time": "2023-10-05T10:09:02.949503",
     "status": "completed"
    },
    "tags": []
   },
   "source": [
    "## Attributes\n"
   ]
  },
  {
   "cell_type": "markdown",
   "id": "56512313",
   "metadata": {
    "papermill": {
     "duration": 0.030043,
     "end_time": "2023-10-05T10:09:03.033475",
     "exception": false,
     "start_time": "2023-10-05T10:09:03.003432",
     "status": "completed"
    },
    "tags": []
   },
   "source": [
    "If the argument is not recognized it will be turned into a filter on the tag’s attributes. For example the <code>id</code>  argument, Beautiful Soup will filter against each tag’s <code>id</code> attribute. For example, the first <code>td</code> elements have a value of <code>id</code> of <code>flight</code>, therefore we can filter based on that <code>id</code> value.\n"
   ]
  },
  {
   "cell_type": "code",
   "execution_count": 33,
   "id": "879f9994",
   "metadata": {
    "execution": {
     "iopub.execute_input": "2023-10-05T10:09:03.099161Z",
     "iopub.status.busy": "2023-10-05T10:09:03.098742Z",
     "iopub.status.idle": "2023-10-05T10:09:03.104756Z",
     "shell.execute_reply": "2023-10-05T10:09:03.103996Z"
    },
    "papermill": {
     "duration": 0.03912,
     "end_time": "2023-10-05T10:09:03.106508",
     "exception": false,
     "start_time": "2023-10-05T10:09:03.067388",
     "status": "completed"
    },
    "tags": []
   },
   "outputs": [
    {
     "data": {
      "text/plain": [
       "[<td id=\"flight\">Flight No</td>]"
      ]
     },
     "execution_count": 33,
     "metadata": {},
     "output_type": "execute_result"
    }
   ],
   "source": [
    "table_bs.find_all(id=\"flight\")"
   ]
  },
  {
   "cell_type": "markdown",
   "id": "48e7b710",
   "metadata": {
    "papermill": {
     "duration": 0.025153,
     "end_time": "2023-10-05T10:09:03.159706",
     "exception": false,
     "start_time": "2023-10-05T10:09:03.134553",
     "status": "completed"
    },
    "tags": []
   },
   "source": [
    "We can find all the elements that have links to the Florida Wikipedia page:\n"
   ]
  },
  {
   "cell_type": "code",
   "execution_count": 34,
   "id": "2e55c3a5",
   "metadata": {
    "execution": {
     "iopub.execute_input": "2023-10-05T10:09:03.212866Z",
     "iopub.status.busy": "2023-10-05T10:09:03.211591Z",
     "iopub.status.idle": "2023-10-05T10:09:03.218975Z",
     "shell.execute_reply": "2023-10-05T10:09:03.218207Z"
    },
    "papermill": {
     "duration": 0.036474,
     "end_time": "2023-10-05T10:09:03.220907",
     "exception": false,
     "start_time": "2023-10-05T10:09:03.184433",
     "status": "completed"
    },
    "tags": []
   },
   "outputs": [
    {
     "data": {
      "text/plain": [
       "[<a href=\"https://en.wikipedia.org/wiki/Florida\">Florida<a></a></a>,\n",
       " <a href=\"https://en.wikipedia.org/wiki/Florida\">Florida<a> </a></a>]"
      ]
     },
     "execution_count": 34,
     "metadata": {},
     "output_type": "execute_result"
    }
   ],
   "source": [
    "list_input=table_bs.find_all(href=\"https://en.wikipedia.org/wiki/Florida\")\n",
    "list_input"
   ]
  },
  {
   "cell_type": "markdown",
   "id": "07c6da40",
   "metadata": {
    "papermill": {
     "duration": 0.025872,
     "end_time": "2023-10-05T10:09:03.271767",
     "exception": false,
     "start_time": "2023-10-05T10:09:03.245895",
     "status": "completed"
    },
    "tags": []
   },
   "source": [
    "If we set the  <code>href</code> attribute to True, regardless of what the value is, the code finds all tags with <code>href</code> value:\n"
   ]
  },
  {
   "cell_type": "code",
   "execution_count": 35,
   "id": "0fdb59c3",
   "metadata": {
    "execution": {
     "iopub.execute_input": "2023-10-05T10:09:03.323867Z",
     "iopub.status.busy": "2023-10-05T10:09:03.323246Z",
     "iopub.status.idle": "2023-10-05T10:09:03.329865Z",
     "shell.execute_reply": "2023-10-05T10:09:03.329124Z"
    },
    "papermill": {
     "duration": 0.035244,
     "end_time": "2023-10-05T10:09:03.331882",
     "exception": false,
     "start_time": "2023-10-05T10:09:03.296638",
     "status": "completed"
    },
    "tags": []
   },
   "outputs": [
    {
     "data": {
      "text/plain": [
       "[<a href=\"https://en.wikipedia.org/wiki/Florida\">Florida<a></a></a>,\n",
       " <a href=\"https://en.wikipedia.org/wiki/Texas\">Texas</a>,\n",
       " <a href=\"https://en.wikipedia.org/wiki/Florida\">Florida<a> </a></a>]"
      ]
     },
     "execution_count": 35,
     "metadata": {},
     "output_type": "execute_result"
    }
   ],
   "source": [
    "table_bs.find_all(href=True)"
   ]
  },
  {
   "cell_type": "markdown",
   "id": "d55b13c4",
   "metadata": {
    "papermill": {
     "duration": 0.024577,
     "end_time": "2023-10-05T10:09:03.381804",
     "exception": false,
     "start_time": "2023-10-05T10:09:03.357227",
     "status": "completed"
    },
    "tags": []
   },
   "source": [
    "There are other methods for dealing with attributes and other related methods; Check out the following <a href='https://www.crummy.com/software/BeautifulSoup/bs4/doc/?utm_medium=Exinfluencer&utm_source=Exinfluencer&utm_content=000026UJ&utm_term=10006555&utm_id=NA-SkillsNetwork-Channel-SkillsNetworkCoursesIBMDeveloperSkillsNetworkPY0220ENSkillsNetwork23455606-2021-01-01#css-selectors'>link</a>\n"
   ]
  },
  {
   "cell_type": "markdown",
   "id": "c41eb025",
   "metadata": {
    "papermill": {
     "duration": 0.02477,
     "end_time": "2023-10-05T10:09:03.431845",
     "exception": false,
     "start_time": "2023-10-05T10:09:03.407075",
     "status": "completed"
    },
    "tags": []
   },
   "source": [
    "<h3 id=\"exer_type\">Exercise: <code>find_all</code></h3>\n"
   ]
  },
  {
   "cell_type": "markdown",
   "id": "88628db5",
   "metadata": {
    "papermill": {
     "duration": 0.025293,
     "end_time": "2023-10-05T10:09:03.482897",
     "exception": false,
     "start_time": "2023-10-05T10:09:03.457604",
     "status": "completed"
    },
    "tags": []
   },
   "source": [
    "Using the logic above, find all the elements without <code>href</code> value\n"
   ]
  },
  {
   "cell_type": "code",
   "execution_count": 36,
   "id": "87ef1c3c",
   "metadata": {
    "execution": {
     "iopub.execute_input": "2023-10-05T10:09:03.536956Z",
     "iopub.status.busy": "2023-10-05T10:09:03.536250Z",
     "iopub.status.idle": "2023-10-05T10:09:03.544484Z",
     "shell.execute_reply": "2023-10-05T10:09:03.543373Z"
    },
    "papermill": {
     "duration": 0.03679,
     "end_time": "2023-10-05T10:09:03.546525",
     "exception": false,
     "start_time": "2023-10-05T10:09:03.509735",
     "status": "completed"
    },
    "tags": []
   },
   "outputs": [
    {
     "data": {
      "text/plain": [
       "[<table><tr><td id=\"flight\">Flight No</td><td>Launch site</td> <td>Payload mass</td></tr><tr> <td>1</td><td><a href=\"https://en.wikipedia.org/wiki/Florida\">Florida<a></a></a></td><td>300 kg</td></tr><tr><td>2</td><td><a href=\"https://en.wikipedia.org/wiki/Texas\">Texas</a></td><td>94 kg</td></tr><tr><td>3</td><td><a href=\"https://en.wikipedia.org/wiki/Florida\">Florida<a> </a></a></td><td>80 kg</td></tr></table>,\n",
       " <tr><td id=\"flight\">Flight No</td><td>Launch site</td> <td>Payload mass</td></tr>,\n",
       " <td id=\"flight\">Flight No</td>,\n",
       " <td>Launch site</td>,\n",
       " <td>Payload mass</td>,\n",
       " <tr> <td>1</td><td><a href=\"https://en.wikipedia.org/wiki/Florida\">Florida<a></a></a></td><td>300 kg</td></tr>,\n",
       " <td>1</td>,\n",
       " <td><a href=\"https://en.wikipedia.org/wiki/Florida\">Florida<a></a></a></td>,\n",
       " <a></a>,\n",
       " <td>300 kg</td>,\n",
       " <tr><td>2</td><td><a href=\"https://en.wikipedia.org/wiki/Texas\">Texas</a></td><td>94 kg</td></tr>,\n",
       " <td>2</td>,\n",
       " <td><a href=\"https://en.wikipedia.org/wiki/Texas\">Texas</a></td>,\n",
       " <td>94 kg</td>,\n",
       " <tr><td>3</td><td><a href=\"https://en.wikipedia.org/wiki/Florida\">Florida<a> </a></a></td><td>80 kg</td></tr>,\n",
       " <td>3</td>,\n",
       " <td><a href=\"https://en.wikipedia.org/wiki/Florida\">Florida<a> </a></a></td>,\n",
       " <a> </a>,\n",
       " <td>80 kg</td>]"
      ]
     },
     "execution_count": 36,
     "metadata": {},
     "output_type": "execute_result"
    }
   ],
   "source": [
    "table_bs.find_all(href=False)"
   ]
  },
  {
   "cell_type": "markdown",
   "id": "bbe9304b",
   "metadata": {
    "papermill": {
     "duration": 0.025434,
     "end_time": "2023-10-05T10:09:03.596800",
     "exception": false,
     "start_time": "2023-10-05T10:09:03.571366",
     "status": "completed"
    },
    "tags": []
   },
   "source": [
    "<details><summary>Click here for the solution</summary>\n",
    "\n",
    "```\n",
    "table_bs.find_all(href=False)\n",
    "\n",
    "```\n",
    "\n",
    "</details>\n"
   ]
  },
  {
   "cell_type": "markdown",
   "id": "86ad34ef",
   "metadata": {
    "papermill": {
     "duration": 0.025145,
     "end_time": "2023-10-05T10:09:03.646890",
     "exception": false,
     "start_time": "2023-10-05T10:09:03.621745",
     "status": "completed"
    },
    "tags": []
   },
   "source": [
    "Using the soup object <code>soup</code>, find the element with the <code>id</code> attribute content set to <code>\"boldest\"</code>.\n"
   ]
  },
  {
   "cell_type": "code",
   "execution_count": 37,
   "id": "ebfb3161",
   "metadata": {
    "execution": {
     "iopub.execute_input": "2023-10-05T10:09:03.698548Z",
     "iopub.status.busy": "2023-10-05T10:09:03.697585Z",
     "iopub.status.idle": "2023-10-05T10:09:03.704898Z",
     "shell.execute_reply": "2023-10-05T10:09:03.703917Z"
    },
    "papermill": {
     "duration": 0.035105,
     "end_time": "2023-10-05T10:09:03.706703",
     "exception": false,
     "start_time": "2023-10-05T10:09:03.671598",
     "status": "completed"
    },
    "tags": []
   },
   "outputs": [
    {
     "data": {
      "text/plain": [
       "[<b id=\"boldest\">Lebron James</b>]"
      ]
     },
     "execution_count": 37,
     "metadata": {},
     "output_type": "execute_result"
    }
   ],
   "source": [
    "soup.find_all(id=\"boldest\")"
   ]
  },
  {
   "cell_type": "markdown",
   "id": "a42e6888",
   "metadata": {
    "papermill": {
     "duration": 0.024815,
     "end_time": "2023-10-05T10:09:03.756749",
     "exception": false,
     "start_time": "2023-10-05T10:09:03.731934",
     "status": "completed"
    },
    "tags": []
   },
   "source": [
    "<details><summary>Click here for the solution</summary>\n",
    "\n",
    "```\n",
    "soup.find_all(id=\"boldest\")\n",
    "\n",
    "```\n",
    "\n",
    "</details>\n"
   ]
  },
  {
   "cell_type": "markdown",
   "id": "64f5438c",
   "metadata": {
    "papermill": {
     "duration": 0.02488,
     "end_time": "2023-10-05T10:09:03.806430",
     "exception": false,
     "start_time": "2023-10-05T10:09:03.781550",
     "status": "completed"
    },
    "tags": []
   },
   "source": [
    "### string\n"
   ]
  },
  {
   "cell_type": "markdown",
   "id": "92e77d05",
   "metadata": {
    "papermill": {
     "duration": 0.032781,
     "end_time": "2023-10-05T10:09:03.870960",
     "exception": false,
     "start_time": "2023-10-05T10:09:03.838179",
     "status": "completed"
    },
    "tags": []
   },
   "source": [
    "With string you can search for strings instead of tags, where we find all the elments with Florida:\n"
   ]
  },
  {
   "cell_type": "code",
   "execution_count": 38,
   "id": "af396c47",
   "metadata": {
    "execution": {
     "iopub.execute_input": "2023-10-05T10:09:03.929716Z",
     "iopub.status.busy": "2023-10-05T10:09:03.928935Z",
     "iopub.status.idle": "2023-10-05T10:09:03.934824Z",
     "shell.execute_reply": "2023-10-05T10:09:03.934115Z"
    },
    "papermill": {
     "duration": 0.034943,
     "end_time": "2023-10-05T10:09:03.936712",
     "exception": false,
     "start_time": "2023-10-05T10:09:03.901769",
     "status": "completed"
    },
    "tags": []
   },
   "outputs": [
    {
     "data": {
      "text/plain": [
       "['Florida', 'Florida']"
      ]
     },
     "execution_count": 38,
     "metadata": {},
     "output_type": "execute_result"
    }
   ],
   "source": [
    "table_bs.find_all(string=\"Florida\")"
   ]
  },
  {
   "cell_type": "markdown",
   "id": "f589d98e",
   "metadata": {
    "papermill": {
     "duration": 0.026082,
     "end_time": "2023-10-05T10:09:03.989717",
     "exception": false,
     "start_time": "2023-10-05T10:09:03.963635",
     "status": "completed"
    },
    "tags": []
   },
   "source": [
    "## find\n"
   ]
  },
  {
   "cell_type": "markdown",
   "id": "0487aefe",
   "metadata": {
    "papermill": {
     "duration": 0.035738,
     "end_time": "2023-10-05T10:09:04.056073",
     "exception": false,
     "start_time": "2023-10-05T10:09:04.020335",
     "status": "completed"
    },
    "tags": []
   },
   "source": [
    "The <code>find_all()</code> method scans the entire document looking for results, it’s if you are looking for one element you can use the <code>find()</code> method to find the first element in the document. Consider the following two table:\n"
   ]
  },
  {
   "cell_type": "code",
   "execution_count": 39,
   "id": "ae647816",
   "metadata": {
    "execution": {
     "iopub.execute_input": "2023-10-05T10:09:04.121368Z",
     "iopub.status.busy": "2023-10-05T10:09:04.120814Z",
     "iopub.status.idle": "2023-10-05T10:09:04.129631Z",
     "shell.execute_reply": "2023-10-05T10:09:04.128295Z"
    },
    "papermill": {
     "duration": 0.044834,
     "end_time": "2023-10-05T10:09:04.132490",
     "exception": false,
     "start_time": "2023-10-05T10:09:04.087656",
     "status": "completed"
    },
    "tags": []
   },
   "outputs": [
    {
     "data": {
      "text/html": [
       "<h3>Rocket Launch </h3>\n",
       "\n",
       "<p>\n",
       "<table class='rocket'>\n",
       "  <tr>\n",
       "    <td>Flight No</td>\n",
       "    <td>Launch site</td> \n",
       "    <td>Payload mass</td>\n",
       "  </tr>\n",
       "  <tr>\n",
       "    <td>1</td>\n",
       "    <td>Florida</td>\n",
       "    <td>300 kg</td>\n",
       "  </tr>\n",
       "  <tr>\n",
       "    <td>2</td>\n",
       "    <td>Texas</td>\n",
       "    <td>94 kg</td>\n",
       "  </tr>\n",
       "  <tr>\n",
       "    <td>3</td>\n",
       "    <td>Florida </td>\n",
       "    <td>80 kg</td>\n",
       "  </tr>\n",
       "</table>\n",
       "</p>\n",
       "<p>\n",
       "\n",
       "<h3>Pizza Party  </h3>\n",
       "  \n",
       "    \n",
       "<table class='pizza'>\n",
       "  <tr>\n",
       "    <td>Pizza Place</td>\n",
       "    <td>Orders</td> \n",
       "    <td>Slices </td>\n",
       "   </tr>\n",
       "  <tr>\n",
       "    <td>Domino's Pizza</td>\n",
       "    <td>10</td>\n",
       "    <td>100</td>\n",
       "  </tr>\n",
       "  <tr>\n",
       "    <td>Little Caesars</td>\n",
       "    <td>12</td>\n",
       "    <td >144 </td>\n",
       "  </tr>\n",
       "  <tr>\n",
       "    <td>Papa John's </td>\n",
       "    <td>15 </td>\n",
       "    <td>165</td>\n",
       "  </tr>\n"
      ],
      "text/plain": [
       "<IPython.core.display.HTML object>"
      ]
     },
     "metadata": {},
     "output_type": "display_data"
    }
   ],
   "source": [
    "%%html\n",
    "<h3>Rocket Launch </h3>\n",
    "\n",
    "<p>\n",
    "<table class='rocket'>\n",
    "  <tr>\n",
    "    <td>Flight No</td>\n",
    "    <td>Launch site</td> \n",
    "    <td>Payload mass</td>\n",
    "  </tr>\n",
    "  <tr>\n",
    "    <td>1</td>\n",
    "    <td>Florida</td>\n",
    "    <td>300 kg</td>\n",
    "  </tr>\n",
    "  <tr>\n",
    "    <td>2</td>\n",
    "    <td>Texas</td>\n",
    "    <td>94 kg</td>\n",
    "  </tr>\n",
    "  <tr>\n",
    "    <td>3</td>\n",
    "    <td>Florida </td>\n",
    "    <td>80 kg</td>\n",
    "  </tr>\n",
    "</table>\n",
    "</p>\n",
    "<p>\n",
    "\n",
    "<h3>Pizza Party  </h3>\n",
    "  \n",
    "    \n",
    "<table class='pizza'>\n",
    "  <tr>\n",
    "    <td>Pizza Place</td>\n",
    "    <td>Orders</td> \n",
    "    <td>Slices </td>\n",
    "   </tr>\n",
    "  <tr>\n",
    "    <td>Domino's Pizza</td>\n",
    "    <td>10</td>\n",
    "    <td>100</td>\n",
    "  </tr>\n",
    "  <tr>\n",
    "    <td>Little Caesars</td>\n",
    "    <td>12</td>\n",
    "    <td >144 </td>\n",
    "  </tr>\n",
    "  <tr>\n",
    "    <td>Papa John's </td>\n",
    "    <td>15 </td>\n",
    "    <td>165</td>\n",
    "  </tr>\n"
   ]
  },
  {
   "cell_type": "markdown",
   "id": "3a2b3e40",
   "metadata": {
    "papermill": {
     "duration": 0.032214,
     "end_time": "2023-10-05T10:09:04.204873",
     "exception": false,
     "start_time": "2023-10-05T10:09:04.172659",
     "status": "completed"
    },
    "tags": []
   },
   "source": [
    "We store the HTML as a Python string and assign <code>two_tables</code>:\n"
   ]
  },
  {
   "cell_type": "code",
   "execution_count": 40,
   "id": "d1e3c4e1",
   "metadata": {
    "execution": {
     "iopub.execute_input": "2023-10-05T10:09:04.265084Z",
     "iopub.status.busy": "2023-10-05T10:09:04.263946Z",
     "iopub.status.idle": "2023-10-05T10:09:04.268927Z",
     "shell.execute_reply": "2023-10-05T10:09:04.268141Z"
    },
    "papermill": {
     "duration": 0.034307,
     "end_time": "2023-10-05T10:09:04.270897",
     "exception": false,
     "start_time": "2023-10-05T10:09:04.236590",
     "status": "completed"
    },
    "tags": []
   },
   "outputs": [],
   "source": [
    "two_tables=\"<h3>Rocket Launch </h3><p><table class='rocket'><tr><td>Flight No</td><td>Launch site</td> <td>Payload mass</td></tr><tr><td>1</td><td>Florida</td><td>300 kg</td></tr><tr><td>2</td><td>Texas</td><td>94 kg</td></tr><tr><td>3</td><td>Florida </td><td>80 kg</td></tr></table></p><p><h3>Pizza Party  </h3><table class='pizza'><tr><td>Pizza Place</td><td>Orders</td> <td>Slices </td></tr><tr><td>Domino's Pizza</td><td>10</td><td>100</td></tr><tr><td>Little Caesars</td><td>12</td><td >144 </td></tr><tr><td>Papa John's </td><td>15 </td><td>165</td></tr>\""
   ]
  },
  {
   "cell_type": "markdown",
   "id": "a36b49d8",
   "metadata": {
    "papermill": {
     "duration": 0.028683,
     "end_time": "2023-10-05T10:09:04.325238",
     "exception": false,
     "start_time": "2023-10-05T10:09:04.296555",
     "status": "completed"
    },
    "tags": []
   },
   "source": [
    "We create a <code>BeautifulSoup</code> object  <code>two_tables_bs</code>\n"
   ]
  },
  {
   "cell_type": "code",
   "execution_count": 41,
   "id": "936ce3cc",
   "metadata": {
    "execution": {
     "iopub.execute_input": "2023-10-05T10:09:04.382872Z",
     "iopub.status.busy": "2023-10-05T10:09:04.381373Z",
     "iopub.status.idle": "2023-10-05T10:09:04.388281Z",
     "shell.execute_reply": "2023-10-05T10:09:04.387132Z"
    },
    "papermill": {
     "duration": 0.037732,
     "end_time": "2023-10-05T10:09:04.390346",
     "exception": false,
     "start_time": "2023-10-05T10:09:04.352614",
     "status": "completed"
    },
    "tags": []
   },
   "outputs": [],
   "source": [
    "two_tables_bs= BeautifulSoup(two_tables, 'html.parser')"
   ]
  },
  {
   "cell_type": "markdown",
   "id": "aa4de675",
   "metadata": {
    "papermill": {
     "duration": 0.025264,
     "end_time": "2023-10-05T10:09:04.444954",
     "exception": false,
     "start_time": "2023-10-05T10:09:04.419690",
     "status": "completed"
    },
    "tags": []
   },
   "source": [
    "We can find the first table using the tag name table\n"
   ]
  },
  {
   "cell_type": "code",
   "execution_count": 42,
   "id": "d06334db",
   "metadata": {
    "execution": {
     "iopub.execute_input": "2023-10-05T10:09:04.498006Z",
     "iopub.status.busy": "2023-10-05T10:09:04.497371Z",
     "iopub.status.idle": "2023-10-05T10:09:04.503952Z",
     "shell.execute_reply": "2023-10-05T10:09:04.503188Z"
    },
    "papermill": {
     "duration": 0.035354,
     "end_time": "2023-10-05T10:09:04.505750",
     "exception": false,
     "start_time": "2023-10-05T10:09:04.470396",
     "status": "completed"
    },
    "tags": []
   },
   "outputs": [
    {
     "data": {
      "text/plain": [
       "<table class=\"rocket\"><tr><td>Flight No</td><td>Launch site</td> <td>Payload mass</td></tr><tr><td>1</td><td>Florida</td><td>300 kg</td></tr><tr><td>2</td><td>Texas</td><td>94 kg</td></tr><tr><td>3</td><td>Florida </td><td>80 kg</td></tr></table>"
      ]
     },
     "execution_count": 42,
     "metadata": {},
     "output_type": "execute_result"
    }
   ],
   "source": [
    "two_tables_bs.find(\"table\")"
   ]
  },
  {
   "cell_type": "markdown",
   "id": "934d4576",
   "metadata": {
    "papermill": {
     "duration": 0.025082,
     "end_time": "2023-10-05T10:09:04.556318",
     "exception": false,
     "start_time": "2023-10-05T10:09:04.531236",
     "status": "completed"
    },
    "tags": []
   },
   "source": [
    "We can filter on the class attribute to find the second table, but because class is a keyword in Python, we add an underscore.\n"
   ]
  },
  {
   "cell_type": "code",
   "execution_count": 43,
   "id": "9f0b57fc",
   "metadata": {
    "execution": {
     "iopub.execute_input": "2023-10-05T10:09:04.609621Z",
     "iopub.status.busy": "2023-10-05T10:09:04.608977Z",
     "iopub.status.idle": "2023-10-05T10:09:04.616026Z",
     "shell.execute_reply": "2023-10-05T10:09:04.615202Z"
    },
    "papermill": {
     "duration": 0.035958,
     "end_time": "2023-10-05T10:09:04.617764",
     "exception": false,
     "start_time": "2023-10-05T10:09:04.581806",
     "status": "completed"
    },
    "tags": []
   },
   "outputs": [
    {
     "data": {
      "text/plain": [
       "<table class=\"pizza\"><tr><td>Pizza Place</td><td>Orders</td> <td>Slices </td></tr><tr><td>Domino's Pizza</td><td>10</td><td>100</td></tr><tr><td>Little Caesars</td><td>12</td><td>144 </td></tr><tr><td>Papa John's </td><td>15 </td><td>165</td></tr></table>"
      ]
     },
     "execution_count": 43,
     "metadata": {},
     "output_type": "execute_result"
    }
   ],
   "source": [
    "two_tables_bs.find(\"table\",class_='pizza')"
   ]
  },
  {
   "cell_type": "markdown",
   "id": "ed1d6f4f",
   "metadata": {
    "papermill": {
     "duration": 0.025431,
     "end_time": "2023-10-05T10:09:04.668696",
     "exception": false,
     "start_time": "2023-10-05T10:09:04.643265",
     "status": "completed"
    },
    "tags": []
   },
   "source": [
    "<h2 id=\"DSCW\">Downloading And Scraping The Contents Of A Web Page</h2> \n"
   ]
  },
  {
   "cell_type": "markdown",
   "id": "2fdf9ae1",
   "metadata": {
    "papermill": {
     "duration": 0.026386,
     "end_time": "2023-10-05T10:09:04.721978",
     "exception": false,
     "start_time": "2023-10-05T10:09:04.695592",
     "status": "completed"
    },
    "tags": []
   },
   "source": [
    "We Download the contents of the web page:\n"
   ]
  },
  {
   "cell_type": "code",
   "execution_count": 44,
   "id": "ca24d1f6",
   "metadata": {
    "execution": {
     "iopub.execute_input": "2023-10-05T10:09:04.775722Z",
     "iopub.status.busy": "2023-10-05T10:09:04.774838Z",
     "iopub.status.idle": "2023-10-05T10:09:04.779009Z",
     "shell.execute_reply": "2023-10-05T10:09:04.778242Z"
    },
    "papermill": {
     "duration": 0.032677,
     "end_time": "2023-10-05T10:09:04.780754",
     "exception": false,
     "start_time": "2023-10-05T10:09:04.748077",
     "status": "completed"
    },
    "tags": []
   },
   "outputs": [],
   "source": [
    "url = \"http://www.ibm.com\""
   ]
  },
  {
   "cell_type": "markdown",
   "id": "81ddaaea",
   "metadata": {
    "papermill": {
     "duration": 0.025038,
     "end_time": "2023-10-05T10:09:04.831186",
     "exception": false,
     "start_time": "2023-10-05T10:09:04.806148",
     "status": "completed"
    },
    "tags": []
   },
   "source": [
    "We use <code>get</code> to download the contents of the webpage in text format and store in a variable called <code>data</code>:\n"
   ]
  },
  {
   "cell_type": "code",
   "execution_count": 45,
   "id": "b6e722de",
   "metadata": {
    "execution": {
     "iopub.execute_input": "2023-10-05T10:09:04.887118Z",
     "iopub.status.busy": "2023-10-05T10:09:04.886488Z",
     "iopub.status.idle": "2023-10-05T10:09:05.363382Z",
     "shell.execute_reply": "2023-10-05T10:09:05.362415Z"
    },
    "papermill": {
     "duration": 0.509185,
     "end_time": "2023-10-05T10:09:05.365654",
     "exception": false,
     "start_time": "2023-10-05T10:09:04.856469",
     "status": "completed"
    },
    "tags": []
   },
   "outputs": [],
   "source": [
    "data  = requests.get(url).text "
   ]
  },
  {
   "cell_type": "markdown",
   "id": "fc6f5bd1",
   "metadata": {
    "papermill": {
     "duration": 0.026463,
     "end_time": "2023-10-05T10:09:05.418487",
     "exception": false,
     "start_time": "2023-10-05T10:09:05.392024",
     "status": "completed"
    },
    "tags": []
   },
   "source": [
    "We create a <code>BeautifulSoup</code> object using the <code>BeautifulSoup</code> constructor\n"
   ]
  },
  {
   "cell_type": "code",
   "execution_count": 46,
   "id": "c74f4d68",
   "metadata": {
    "execution": {
     "iopub.execute_input": "2023-10-05T10:09:05.472942Z",
     "iopub.status.busy": "2023-10-05T10:09:05.472328Z",
     "iopub.status.idle": "2023-10-05T10:09:05.495245Z",
     "shell.execute_reply": "2023-10-05T10:09:05.494150Z"
    },
    "papermill": {
     "duration": 0.052866,
     "end_time": "2023-10-05T10:09:05.497824",
     "exception": false,
     "start_time": "2023-10-05T10:09:05.444958",
     "status": "completed"
    },
    "tags": []
   },
   "outputs": [],
   "source": [
    "soup = BeautifulSoup(data,\"html.parser\")  # create a soup object using the variable 'data'"
   ]
  },
  {
   "cell_type": "markdown",
   "id": "dbabeb14",
   "metadata": {
    "papermill": {
     "duration": 0.025297,
     "end_time": "2023-10-05T10:09:05.548893",
     "exception": false,
     "start_time": "2023-10-05T10:09:05.523596",
     "status": "completed"
    },
    "tags": []
   },
   "source": [
    "Scrape all links\n"
   ]
  },
  {
   "cell_type": "code",
   "execution_count": 47,
   "id": "ba0d8f95",
   "metadata": {
    "execution": {
     "iopub.execute_input": "2023-10-05T10:09:05.604510Z",
     "iopub.status.busy": "2023-10-05T10:09:05.603386Z",
     "iopub.status.idle": "2023-10-05T10:09:05.609815Z",
     "shell.execute_reply": "2023-10-05T10:09:05.609008Z"
    },
    "papermill": {
     "duration": 0.03665,
     "end_time": "2023-10-05T10:09:05.612034",
     "exception": false,
     "start_time": "2023-10-05T10:09:05.575384",
     "status": "completed"
    },
    "tags": []
   },
   "outputs": [
    {
     "name": "stdout",
     "output_type": "stream",
     "text": [
      "https://www.ibm.com/thought-leadership/institute-business-value/en-us/report/ceo-generative-ai/application-modernization/\n",
      "https://www.ibm.com/downloads/cas/WYMOR8E5\n",
      "https://www.ibm.com/products/watsonx-ai\n",
      "https://www.ibm.com/products/storage-protect-for-cloud\n",
      "https://www.ibm.com/products/spss-statistics/pricing\n",
      "https://www.ibm.com/aws/sustainability\n",
      "https://www.ibm.com/cloud?lnk=flatitem\n",
      "https://www.ibm.com/products\n",
      "https://www.ibm.com/consulting\n",
      "https://www.ibm.com/about\n",
      "https://www.ibm.com/\n"
     ]
    }
   ],
   "source": [
    "for link in soup.find_all('a',href=True):  # in html anchor/link is represented by the tag <a>\n",
    "\n",
    "    print(link.get('href'))\n"
   ]
  },
  {
   "cell_type": "markdown",
   "id": "27e52594",
   "metadata": {
    "papermill": {
     "duration": 0.025207,
     "end_time": "2023-10-05T10:09:05.662979",
     "exception": false,
     "start_time": "2023-10-05T10:09:05.637772",
     "status": "completed"
    },
    "tags": []
   },
   "source": [
    "## Scrape  all images  Tags\n"
   ]
  },
  {
   "cell_type": "code",
   "execution_count": 48,
   "id": "b8b00a8c",
   "metadata": {
    "execution": {
     "iopub.execute_input": "2023-10-05T10:09:05.717422Z",
     "iopub.status.busy": "2023-10-05T10:09:05.715948Z",
     "iopub.status.idle": "2023-10-05T10:09:05.723989Z",
     "shell.execute_reply": "2023-10-05T10:09:05.722624Z"
    },
    "papermill": {
     "duration": 0.037363,
     "end_time": "2023-10-05T10:09:05.726150",
     "exception": false,
     "start_time": "2023-10-05T10:09:05.688787",
     "status": "completed"
    },
    "tags": []
   },
   "outputs": [
    {
     "name": "stdout",
     "output_type": "stream",
     "text": [
      "<img alt=\"Product image for watsonx overview page\" class=\"bx--image__img\" src=\"https://1.dam.s81c.com/p/0c9c5faa18c5c7cf/watsonx-overview-leadspace-super-hybrid-ui-homepage.png.global.xl_1x1.jpg\"/>\n",
      "https://1.dam.s81c.com/p/0c9c5faa18c5c7cf/watsonx-overview-leadspace-super-hybrid-ui-homepage.png.global.xl_1x1.jpg\n",
      "<img alt=\"Concentric illustration showing watsonx.ai capabilities\" aria-describedby=\"bx--image-3\" class=\"bx--image__img\" src=\"https://1.dam.s81c.com/p/0c3ce2dfcccd1f24/watsonx-data-square.jpg\"/>\n",
      "https://1.dam.s81c.com/p/0c3ce2dfcccd1f24/watsonx-data-square.jpg\n",
      "<img alt=\"Storage Protect Cloud hybrid UI illustration\" aria-describedby=\"bx--image-4\" class=\"bx--image__img\" src=\"https://1.dam.s81c.com/p/0cc7f5abaeae065e/storage-protect-p0c6278d1922da841.jpg\"/>\n",
      "https://1.dam.s81c.com/p/0cc7f5abaeae065e/storage-protect-p0c6278d1922da841.jpg\n",
      "<img alt=\"Illustration of people at large digital dashboard\" aria-describedby=\"bx--image-5\" class=\"bx--image__img\" src=\"https://1.dam.s81c.com/p/0b5258b292cc8c3c/ibm-SPSS-home-card.png.global.xs_1x1.png\"/>\n",
      "https://1.dam.s81c.com/p/0b5258b292cc8c3c/ibm-SPSS-home-card.png.global.xs_1x1.png\n",
      "<img alt=\"Envizi hybrid-UI illustration dashboard with charts and graphs\" aria-describedby=\"bx--image-6\" class=\"bx--image__img\" src=\"https://1.dam.s81c.com/p/0c627169c3ad5dfd/0b5258b3394c8d62-envizi-overview-leadspace-illustration-homepage.jpg.global.s_1x1.jpg\"/>\n",
      "https://1.dam.s81c.com/p/0c627169c3ad5dfd/0b5258b3394c8d62-envizi-overview-leadspace-illustration-homepage.jpg.global.s_1x1.jpg\n",
      "<img alt=\"Grid of IBM consultant portraits\" class=\"bx--image__img\" src=\"https://1.dam.s81c.com/p/0aac9cf57bcbf324/dotcom-1-overview.jpg\"/>\n",
      "https://1.dam.s81c.com/p/0aac9cf57bcbf324/dotcom-1-overview.jpg\n"
     ]
    }
   ],
   "source": [
    "for link in soup.find_all('img'):# in html image is represented by the tag <img>\n",
    "    print(link)\n",
    "    print(link.get('src'))"
   ]
  },
  {
   "cell_type": "markdown",
   "id": "7c5eedd4",
   "metadata": {
    "papermill": {
     "duration": 0.025568,
     "end_time": "2023-10-05T10:09:05.777345",
     "exception": false,
     "start_time": "2023-10-05T10:09:05.751777",
     "status": "completed"
    },
    "tags": []
   },
   "source": [
    "## Scrape data from HTML tables\n"
   ]
  },
  {
   "cell_type": "code",
   "execution_count": 49,
   "id": "8e460433",
   "metadata": {
    "execution": {
     "iopub.execute_input": "2023-10-05T10:09:05.831822Z",
     "iopub.status.busy": "2023-10-05T10:09:05.831471Z",
     "iopub.status.idle": "2023-10-05T10:09:05.836463Z",
     "shell.execute_reply": "2023-10-05T10:09:05.835307Z"
    },
    "papermill": {
     "duration": 0.035028,
     "end_time": "2023-10-05T10:09:05.838605",
     "exception": false,
     "start_time": "2023-10-05T10:09:05.803577",
     "status": "completed"
    },
    "tags": []
   },
   "outputs": [],
   "source": [
    "#The below url contains an html table with data about colors and color codes.\n",
    "url = \"https://cf-courses-data.s3.us.cloud-object-storage.appdomain.cloud/IBM-DA0321EN-SkillsNetwork/labs/datasets/HTMLColorCodes.html\""
   ]
  },
  {
   "cell_type": "markdown",
   "id": "a24dbc17",
   "metadata": {
    "papermill": {
     "duration": 0.027659,
     "end_time": "2023-10-05T10:09:05.892606",
     "exception": false,
     "start_time": "2023-10-05T10:09:05.864947",
     "status": "completed"
    },
    "tags": []
   },
   "source": [
    "Before proceeding to scrape a web site, you need to examine the contents, and the way data is organized on the website. Open the above url in your browser and check how many rows and columns are there in the color table.\n"
   ]
  },
  {
   "cell_type": "code",
   "execution_count": 50,
   "id": "8409940e",
   "metadata": {
    "execution": {
     "iopub.execute_input": "2023-10-05T10:09:05.946527Z",
     "iopub.status.busy": "2023-10-05T10:09:05.946089Z",
     "iopub.status.idle": "2023-10-05T10:09:06.388354Z",
     "shell.execute_reply": "2023-10-05T10:09:06.387177Z"
    },
    "papermill": {
     "duration": 0.472398,
     "end_time": "2023-10-05T10:09:06.390726",
     "exception": false,
     "start_time": "2023-10-05T10:09:05.918328",
     "status": "completed"
    },
    "tags": []
   },
   "outputs": [],
   "source": [
    "# get the contents of the webpage in text format and store in a variable called data\n",
    "data  = requests.get(url).text"
   ]
  },
  {
   "cell_type": "code",
   "execution_count": 51,
   "id": "bc524879",
   "metadata": {
    "execution": {
     "iopub.execute_input": "2023-10-05T10:09:06.445701Z",
     "iopub.status.busy": "2023-10-05T10:09:06.445369Z",
     "iopub.status.idle": "2023-10-05T10:09:06.459576Z",
     "shell.execute_reply": "2023-10-05T10:09:06.458339Z"
    },
    "papermill": {
     "duration": 0.045213,
     "end_time": "2023-10-05T10:09:06.461913",
     "exception": false,
     "start_time": "2023-10-05T10:09:06.416700",
     "status": "completed"
    },
    "tags": []
   },
   "outputs": [],
   "source": [
    "soup = BeautifulSoup(data,\"html.parser\")"
   ]
  },
  {
   "cell_type": "code",
   "execution_count": 52,
   "id": "6d772580",
   "metadata": {
    "execution": {
     "iopub.execute_input": "2023-10-05T10:09:06.517343Z",
     "iopub.status.busy": "2023-10-05T10:09:06.516954Z",
     "iopub.status.idle": "2023-10-05T10:09:06.522027Z",
     "shell.execute_reply": "2023-10-05T10:09:06.520843Z"
    },
    "papermill": {
     "duration": 0.035122,
     "end_time": "2023-10-05T10:09:06.524240",
     "exception": false,
     "start_time": "2023-10-05T10:09:06.489118",
     "status": "completed"
    },
    "tags": []
   },
   "outputs": [],
   "source": [
    "#find a html table in the web page\n",
    "table = soup.find('table') # in html table is represented by the tag <table>"
   ]
  },
  {
   "cell_type": "code",
   "execution_count": 53,
   "id": "489e6508",
   "metadata": {
    "execution": {
     "iopub.execute_input": "2023-10-05T10:09:06.579388Z",
     "iopub.status.busy": "2023-10-05T10:09:06.578917Z",
     "iopub.status.idle": "2023-10-05T10:09:06.586547Z",
     "shell.execute_reply": "2023-10-05T10:09:06.584885Z"
    },
    "papermill": {
     "duration": 0.038225,
     "end_time": "2023-10-05T10:09:06.588766",
     "exception": false,
     "start_time": "2023-10-05T10:09:06.550541",
     "status": "completed"
    },
    "tags": []
   },
   "outputs": [
    {
     "name": "stdout",
     "output_type": "stream",
     "text": [
      "Color Name--->None\n",
      "lightsalmon--->#FFA07A\n",
      "salmon--->#FA8072\n",
      "darksalmon--->#E9967A\n",
      "lightcoral--->#F08080\n",
      "coral--->#FF7F50\n",
      "tomato--->#FF6347\n",
      "orangered--->#FF4500\n",
      "gold--->#FFD700\n",
      "orange--->#FFA500\n",
      "darkorange--->#FF8C00\n",
      "lightyellow--->#FFFFE0\n",
      "lemonchiffon--->#FFFACD\n",
      "papayawhip--->#FFEFD5\n",
      "moccasin--->#FFE4B5\n",
      "peachpuff--->#FFDAB9\n",
      "palegoldenrod--->#EEE8AA\n",
      "khaki--->#F0E68C\n",
      "darkkhaki--->#BDB76B\n",
      "yellow--->#FFFF00\n",
      "lawngreen--->#7CFC00\n",
      "chartreuse--->#7FFF00\n",
      "limegreen--->#32CD32\n",
      "lime--->#00FF00\n",
      "forestgreen--->#228B22\n",
      "green--->#008000\n",
      "powderblue--->#B0E0E6\n",
      "lightblue--->#ADD8E6\n",
      "lightskyblue--->#87CEFA\n",
      "skyblue--->#87CEEB\n",
      "deepskyblue--->#00BFFF\n",
      "lightsteelblue--->#B0C4DE\n",
      "dodgerblue--->#1E90FF\n"
     ]
    }
   ],
   "source": [
    "#Get all rows from the table\n",
    "for row in table.find_all('tr'): # in html table row is represented by the tag <tr>\n",
    "    # Get all columns in each row.\n",
    "    cols = row.find_all('td') # in html a column is represented by the tag <td>\n",
    "    color_name = cols[2].string # store the value in column 3 as color_name\n",
    "    color_code = cols[3].string # store the value in column 4 as color_code\n",
    "    print(\"{}--->{}\".format(color_name,color_code))"
   ]
  },
  {
   "cell_type": "markdown",
   "id": "f62e4889",
   "metadata": {
    "papermill": {
     "duration": 0.025644,
     "end_time": "2023-10-05T10:09:06.640828",
     "exception": false,
     "start_time": "2023-10-05T10:09:06.615184",
     "status": "completed"
    },
    "tags": []
   },
   "source": [
    "## Scrape data from HTML tables into a DataFrame using BeautifulSoup and Pandas\n"
   ]
  },
  {
   "cell_type": "code",
   "execution_count": 54,
   "id": "d43f5848",
   "metadata": {
    "execution": {
     "iopub.execute_input": "2023-10-05T10:09:06.694972Z",
     "iopub.status.busy": "2023-10-05T10:09:06.694523Z",
     "iopub.status.idle": "2023-10-05T10:09:07.138318Z",
     "shell.execute_reply": "2023-10-05T10:09:07.137114Z"
    },
    "papermill": {
     "duration": 0.47446,
     "end_time": "2023-10-05T10:09:07.141176",
     "exception": false,
     "start_time": "2023-10-05T10:09:06.666716",
     "status": "completed"
    },
    "tags": []
   },
   "outputs": [],
   "source": [
    "import pandas as pd"
   ]
  },
  {
   "cell_type": "code",
   "execution_count": 55,
   "id": "78c5a8c1",
   "metadata": {
    "execution": {
     "iopub.execute_input": "2023-10-05T10:09:07.200195Z",
     "iopub.status.busy": "2023-10-05T10:09:07.199553Z",
     "iopub.status.idle": "2023-10-05T10:09:07.204882Z",
     "shell.execute_reply": "2023-10-05T10:09:07.203386Z"
    },
    "papermill": {
     "duration": 0.03795,
     "end_time": "2023-10-05T10:09:07.207448",
     "exception": false,
     "start_time": "2023-10-05T10:09:07.169498",
     "status": "completed"
    },
    "tags": []
   },
   "outputs": [],
   "source": [
    "#The below url contains html tables with data about world population.\n",
    "url = \"https://en.wikipedia.org/wiki/World_population\""
   ]
  },
  {
   "cell_type": "markdown",
   "id": "2fda798a",
   "metadata": {
    "papermill": {
     "duration": 0.025849,
     "end_time": "2023-10-05T10:09:07.260641",
     "exception": false,
     "start_time": "2023-10-05T10:09:07.234792",
     "status": "completed"
    },
    "tags": []
   },
   "source": [
    "Before proceeding to scrape a web site, you need to examine the contents, and the way data is organized on the website. Open the above url in your browser and check the tables on the webpage.\n"
   ]
  },
  {
   "cell_type": "code",
   "execution_count": 56,
   "id": "964b0b70",
   "metadata": {
    "execution": {
     "iopub.execute_input": "2023-10-05T10:09:07.316858Z",
     "iopub.status.busy": "2023-10-05T10:09:07.316446Z",
     "iopub.status.idle": "2023-10-05T10:09:07.477430Z",
     "shell.execute_reply": "2023-10-05T10:09:07.476163Z"
    },
    "papermill": {
     "duration": 0.191191,
     "end_time": "2023-10-05T10:09:07.480035",
     "exception": false,
     "start_time": "2023-10-05T10:09:07.288844",
     "status": "completed"
    },
    "tags": []
   },
   "outputs": [],
   "source": [
    "# get the contents of the webpage in text format and store in a variable called data\n",
    "data  = requests.get(url).text"
   ]
  },
  {
   "cell_type": "code",
   "execution_count": 57,
   "id": "6a47c73e",
   "metadata": {
    "execution": {
     "iopub.execute_input": "2023-10-05T10:09:07.536287Z",
     "iopub.status.busy": "2023-10-05T10:09:07.535575Z",
     "iopub.status.idle": "2023-10-05T10:09:07.961742Z",
     "shell.execute_reply": "2023-10-05T10:09:07.960307Z"
    },
    "papermill": {
     "duration": 0.458132,
     "end_time": "2023-10-05T10:09:07.964448",
     "exception": false,
     "start_time": "2023-10-05T10:09:07.506316",
     "status": "completed"
    },
    "tags": []
   },
   "outputs": [],
   "source": [
    "soup = BeautifulSoup(data,\"html.parser\")"
   ]
  },
  {
   "cell_type": "code",
   "execution_count": 58,
   "id": "bb26388c",
   "metadata": {
    "execution": {
     "iopub.execute_input": "2023-10-05T10:09:08.021392Z",
     "iopub.status.busy": "2023-10-05T10:09:08.020953Z",
     "iopub.status.idle": "2023-10-05T10:09:08.034564Z",
     "shell.execute_reply": "2023-10-05T10:09:08.033071Z"
    },
    "papermill": {
     "duration": 0.045455,
     "end_time": "2023-10-05T10:09:08.036615",
     "exception": false,
     "start_time": "2023-10-05T10:09:07.991160",
     "status": "completed"
    },
    "tags": []
   },
   "outputs": [],
   "source": [
    "#find all html tables in the web page\n",
    "tables = soup.find_all('table') # in html table is represented by the tag <table>"
   ]
  },
  {
   "cell_type": "code",
   "execution_count": 59,
   "id": "a932366d",
   "metadata": {
    "execution": {
     "iopub.execute_input": "2023-10-05T10:09:08.161688Z",
     "iopub.status.busy": "2023-10-05T10:09:08.159155Z",
     "iopub.status.idle": "2023-10-05T10:09:08.167659Z",
     "shell.execute_reply": "2023-10-05T10:09:08.166683Z"
    },
    "papermill": {
     "duration": 0.044069,
     "end_time": "2023-10-05T10:09:08.169692",
     "exception": false,
     "start_time": "2023-10-05T10:09:08.125623",
     "status": "completed"
    },
    "tags": []
   },
   "outputs": [
    {
     "data": {
      "text/plain": [
       "29"
      ]
     },
     "execution_count": 59,
     "metadata": {},
     "output_type": "execute_result"
    }
   ],
   "source": [
    "# we can see how many tables were found by checking the length of the tables list\n",
    "len(tables)"
   ]
  },
  {
   "cell_type": "markdown",
   "id": "2103e59a",
   "metadata": {
    "papermill": {
     "duration": 0.026924,
     "end_time": "2023-10-05T10:09:08.223950",
     "exception": false,
     "start_time": "2023-10-05T10:09:08.197026",
     "status": "completed"
    },
    "tags": []
   },
   "source": [
    "Assume that we are looking for the `10 most densly populated countries` table, we can look through the tables list and find the right one we are look for based on the data in each table or we can search for the table name if it is in the table but this option might not always work.\n"
   ]
  },
  {
   "cell_type": "code",
   "execution_count": 60,
   "id": "c4511f42",
   "metadata": {
    "execution": {
     "iopub.execute_input": "2023-10-05T10:09:08.282697Z",
     "iopub.status.busy": "2023-10-05T10:09:08.281836Z",
     "iopub.status.idle": "2023-10-05T10:09:08.361227Z",
     "shell.execute_reply": "2023-10-05T10:09:08.360120Z"
    },
    "papermill": {
     "duration": 0.111581,
     "end_time": "2023-10-05T10:09:08.364383",
     "exception": false,
     "start_time": "2023-10-05T10:09:08.252802",
     "status": "completed"
    },
    "tags": []
   },
   "outputs": [
    {
     "name": "stdout",
     "output_type": "stream",
     "text": [
      "7\n"
     ]
    }
   ],
   "source": [
    "for index,table in enumerate(tables):\n",
    "    if (\"10 most densely populated countries\" in str(table)):\n",
    "        table_index = index\n",
    "print(table_index)"
   ]
  },
  {
   "cell_type": "markdown",
   "id": "48d25fb4",
   "metadata": {
    "papermill": {
     "duration": 0.027357,
     "end_time": "2023-10-05T10:09:08.419283",
     "exception": false,
     "start_time": "2023-10-05T10:09:08.391926",
     "status": "completed"
    },
    "tags": []
   },
   "source": [
    "See if you can locate the table name of the table, `10 most densly populated countries`, below.\n"
   ]
  },
  {
   "cell_type": "code",
   "execution_count": 61,
   "id": "3153b712",
   "metadata": {
    "execution": {
     "iopub.execute_input": "2023-10-05T10:09:08.481426Z",
     "iopub.status.busy": "2023-10-05T10:09:08.480919Z",
     "iopub.status.idle": "2023-10-05T10:09:08.492603Z",
     "shell.execute_reply": "2023-10-05T10:09:08.489285Z"
    },
    "papermill": {
     "duration": 0.045673,
     "end_time": "2023-10-05T10:09:08.495373",
     "exception": false,
     "start_time": "2023-10-05T10:09:08.449700",
     "status": "completed"
    },
    "tags": []
   },
   "outputs": [
    {
     "name": "stdout",
     "output_type": "stream",
     "text": [
      "<table class=\"wikitable sortable\" style=\"text-align:right\">\n",
      " <caption>\n",
      "  10 most densely populated countries\n",
      "  <small>\n",
      "   (with population above 5 million)\n",
      "  </small>\n",
      "  <sup class=\"reference\" id=\"cite_ref-:10_106-0\">\n",
      "   <a href=\"#cite_note-:10-106\">\n",
      "    [102]\n",
      "   </a>\n",
      "  </sup>\n",
      " </caption>\n",
      " <tbody>\n",
      "  <tr>\n",
      "   <th scope=\"col\">\n",
      "    Rank\n",
      "   </th>\n",
      "   <th scope=\"col\">\n",
      "    Country\n",
      "   </th>\n",
      "   <th scope=\"col\">\n",
      "    Population\n",
      "   </th>\n",
      "   <th scope=\"col\">\n",
      "    Area\n",
      "    <br/>\n",
      "    <small>\n",
      "     (km\n",
      "     <sup>\n",
      "      2\n",
      "     </sup>\n",
      "     )\n",
      "    </small>\n",
      "   </th>\n",
      "   <th scope=\"col\">\n",
      "    Density\n",
      "    <br/>\n",
      "    <small>\n",
      "     (pop/km\n",
      "     <sup>\n",
      "      2\n",
      "     </sup>\n",
      "     )\n",
      "    </small>\n",
      "   </th>\n",
      "  </tr>\n",
      "  <tr>\n",
      "   <td>\n",
      "    1\n",
      "   </td>\n",
      "   <td align=\"left\">\n",
      "    <span class=\"flagicon\">\n",
      "     <span class=\"mw-image-border\" typeof=\"mw:File\">\n",
      "      <span>\n",
      "       <img alt=\"\" class=\"mw-file-element\" data-file-height=\"600\" data-file-width=\"900\" decoding=\"async\" height=\"15\" src=\"//upload.wikimedia.org/wikipedia/commons/thumb/4/48/Flag_of_Singapore.svg/23px-Flag_of_Singapore.svg.png\" srcset=\"//upload.wikimedia.org/wikipedia/commons/thumb/4/48/Flag_of_Singapore.svg/35px-Flag_of_Singapore.svg.png 1.5x, //upload.wikimedia.org/wikipedia/commons/thumb/4/48/Flag_of_Singapore.svg/45px-Flag_of_Singapore.svg.png 2x\" width=\"23\"/>\n",
      "      </span>\n",
      "     </span>\n",
      "    </span>\n",
      "    <a href=\"/wiki/Singapore\" title=\"Singapore\">\n",
      "     Singapore\n",
      "    </a>\n",
      "   </td>\n",
      "   <td>\n",
      "    5,921,231\n",
      "   </td>\n",
      "   <td>\n",
      "    719\n",
      "   </td>\n",
      "   <td>\n",
      "    8,235\n",
      "   </td>\n",
      "  </tr>\n",
      "  <tr>\n",
      "   <td>\n",
      "    2\n",
      "   </td>\n",
      "   <td align=\"left\">\n",
      "    <span class=\"flagicon\">\n",
      "     <span class=\"mw-image-border\" typeof=\"mw:File\">\n",
      "      <span>\n",
      "       <img alt=\"\" class=\"mw-file-element\" data-file-height=\"600\" data-file-width=\"1000\" decoding=\"async\" height=\"14\" src=\"//upload.wikimedia.org/wikipedia/commons/thumb/f/f9/Flag_of_Bangladesh.svg/23px-Flag_of_Bangladesh.svg.png\" srcset=\"//upload.wikimedia.org/wikipedia/commons/thumb/f/f9/Flag_of_Bangladesh.svg/35px-Flag_of_Bangladesh.svg.png 1.5x, //upload.wikimedia.org/wikipedia/commons/thumb/f/f9/Flag_of_Bangladesh.svg/46px-Flag_of_Bangladesh.svg.png 2x\" width=\"23\"/>\n",
      "      </span>\n",
      "     </span>\n",
      "    </span>\n",
      "    <a href=\"/wiki/Bangladesh\" title=\"Bangladesh\">\n",
      "     Bangladesh\n",
      "    </a>\n",
      "   </td>\n",
      "   <td>\n",
      "    165,650,475\n",
      "   </td>\n",
      "   <td>\n",
      "    148,460\n",
      "   </td>\n",
      "   <td>\n",
      "    1,116\n",
      "   </td>\n",
      "  </tr>\n",
      "  <tr>\n",
      "   <td>\n",
      "    3\n",
      "   </td>\n",
      "   <td align=\"left\">\n",
      "    <p>\n",
      "     <span class=\"flagicon\">\n",
      "      <span class=\"mw-image-border\" typeof=\"mw:File\">\n",
      "       <span>\n",
      "        <img alt=\"\" class=\"mw-file-element\" data-file-height=\"600\" data-file-width=\"1200\" decoding=\"async\" height=\"12\" src=\"//upload.wikimedia.org/wikipedia/commons/thumb/0/00/Flag_of_Palestine.svg/23px-Flag_of_Palestine.svg.png\" srcset=\"//upload.wikimedia.org/wikipedia/commons/thumb/0/00/Flag_of_Palestine.svg/35px-Flag_of_Palestine.svg.png 1.5x, //upload.wikimedia.org/wikipedia/commons/thumb/0/00/Flag_of_Palestine.svg/46px-Flag_of_Palestine.svg.png 2x\" width=\"23\"/>\n",
      "       </span>\n",
      "      </span>\n",
      "     </span>\n",
      "     <a href=\"/wiki/State_of_Palestine\" title=\"State of Palestine\">\n",
      "      Palestine\n",
      "     </a>\n",
      "     <sup class=\"reference\" id=\"cite_ref-107\">\n",
      "      <a href=\"#cite_note-107\">\n",
      "       [note 3]\n",
      "      </a>\n",
      "     </sup>\n",
      "     <sup class=\"reference\" id=\"cite_ref-108\">\n",
      "      <a href=\"#cite_note-108\">\n",
      "       [103]\n",
      "      </a>\n",
      "     </sup>\n",
      "    </p>\n",
      "   </td>\n",
      "   <td>\n",
      "    5,223,000\n",
      "   </td>\n",
      "   <td>\n",
      "    6,025\n",
      "   </td>\n",
      "   <td>\n",
      "    867\n",
      "   </td>\n",
      "  </tr>\n",
      "  <tr>\n",
      "   <td>\n",
      "    4\n",
      "   </td>\n",
      "   <td align=\"left\">\n",
      "    <span class=\"flagicon\">\n",
      "     <span class=\"mw-image-border\" typeof=\"mw:File\">\n",
      "      <span>\n",
      "       <img alt=\"\" class=\"mw-file-element\" data-file-height=\"600\" data-file-width=\"900\" decoding=\"async\" height=\"15\" src=\"//upload.wikimedia.org/wikipedia/commons/thumb/7/72/Flag_of_the_Republic_of_China.svg/23px-Flag_of_the_Republic_of_China.svg.png\" srcset=\"//upload.wikimedia.org/wikipedia/commons/thumb/7/72/Flag_of_the_Republic_of_China.svg/35px-Flag_of_the_Republic_of_China.svg.png 1.5x, //upload.wikimedia.org/wikipedia/commons/thumb/7/72/Flag_of_the_Republic_of_China.svg/45px-Flag_of_the_Republic_of_China.svg.png 2x\" width=\"23\"/>\n",
      "      </span>\n",
      "     </span>\n",
      "    </span>\n",
      "    <a href=\"/wiki/Taiwan\" title=\"Taiwan\">\n",
      "     Taiwan\n",
      "    </a>\n",
      "    <sup class=\"reference\" id=\"cite_ref-109\">\n",
      "     <a href=\"#cite_note-109\">\n",
      "      [note 4]\n",
      "     </a>\n",
      "    </sup>\n",
      "   </td>\n",
      "   <td>\n",
      "    23,580,712\n",
      "   </td>\n",
      "   <td>\n",
      "    35,980\n",
      "   </td>\n",
      "   <td>\n",
      "    655\n",
      "   </td>\n",
      "  </tr>\n",
      "  <tr>\n",
      "   <td>\n",
      "    5\n",
      "   </td>\n",
      "   <td align=\"left\">\n",
      "    <span class=\"flagicon\">\n",
      "     <span class=\"mw-image-border\" typeof=\"mw:File\">\n",
      "      <span>\n",
      "       <img alt=\"\" class=\"mw-file-element\" data-file-height=\"600\" data-file-width=\"900\" decoding=\"async\" height=\"15\" src=\"//upload.wikimedia.org/wikipedia/commons/thumb/0/09/Flag_of_South_Korea.svg/23px-Flag_of_South_Korea.svg.png\" srcset=\"//upload.wikimedia.org/wikipedia/commons/thumb/0/09/Flag_of_South_Korea.svg/35px-Flag_of_South_Korea.svg.png 1.5x, //upload.wikimedia.org/wikipedia/commons/thumb/0/09/Flag_of_South_Korea.svg/45px-Flag_of_South_Korea.svg.png 2x\" width=\"23\"/>\n",
      "      </span>\n",
      "     </span>\n",
      "    </span>\n",
      "    <a href=\"/wiki/South_Korea\" title=\"South Korea\">\n",
      "     South Korea\n",
      "    </a>\n",
      "   </td>\n",
      "   <td>\n",
      "    51,844,834\n",
      "   </td>\n",
      "   <td>\n",
      "    99,720\n",
      "   </td>\n",
      "   <td>\n",
      "    520\n",
      "   </td>\n",
      "  </tr>\n",
      "  <tr>\n",
      "   <td>\n",
      "    6\n",
      "   </td>\n",
      "   <td align=\"left\">\n",
      "    <span class=\"flagicon\">\n",
      "     <span class=\"mw-image-border\" typeof=\"mw:File\">\n",
      "      <span>\n",
      "       <img alt=\"\" class=\"mw-file-element\" data-file-height=\"600\" data-file-width=\"900\" decoding=\"async\" height=\"15\" src=\"//upload.wikimedia.org/wikipedia/commons/thumb/5/59/Flag_of_Lebanon.svg/23px-Flag_of_Lebanon.svg.png\" srcset=\"//upload.wikimedia.org/wikipedia/commons/thumb/5/59/Flag_of_Lebanon.svg/35px-Flag_of_Lebanon.svg.png 1.5x, //upload.wikimedia.org/wikipedia/commons/thumb/5/59/Flag_of_Lebanon.svg/45px-Flag_of_Lebanon.svg.png 2x\" width=\"23\"/>\n",
      "      </span>\n",
      "     </span>\n",
      "    </span>\n",
      "    <a href=\"/wiki/Lebanon\" title=\"Lebanon\">\n",
      "     Lebanon\n",
      "    </a>\n",
      "   </td>\n",
      "   <td>\n",
      "    5,296,814\n",
      "   </td>\n",
      "   <td>\n",
      "    10,400\n",
      "   </td>\n",
      "   <td>\n",
      "    509\n",
      "   </td>\n",
      "  </tr>\n",
      "  <tr>\n",
      "   <td>\n",
      "    7\n",
      "   </td>\n",
      "   <td align=\"left\">\n",
      "    <span class=\"flagicon\">\n",
      "     <span class=\"mw-image-border\" typeof=\"mw:File\">\n",
      "      <span>\n",
      "       <img alt=\"\" class=\"mw-file-element\" data-file-height=\"600\" data-file-width=\"900\" decoding=\"async\" height=\"15\" src=\"//upload.wikimedia.org/wikipedia/commons/thumb/1/17/Flag_of_Rwanda.svg/23px-Flag_of_Rwanda.svg.png\" srcset=\"//upload.wikimedia.org/wikipedia/commons/thumb/1/17/Flag_of_Rwanda.svg/35px-Flag_of_Rwanda.svg.png 1.5x, //upload.wikimedia.org/wikipedia/commons/thumb/1/17/Flag_of_Rwanda.svg/45px-Flag_of_Rwanda.svg.png 2x\" width=\"23\"/>\n",
      "      </span>\n",
      "     </span>\n",
      "    </span>\n",
      "    <a href=\"/wiki/Rwanda\" title=\"Rwanda\">\n",
      "     Rwanda\n",
      "    </a>\n",
      "   </td>\n",
      "   <td>\n",
      "    13,173,730\n",
      "   </td>\n",
      "   <td>\n",
      "    26,338\n",
      "   </td>\n",
      "   <td>\n",
      "    500\n",
      "   </td>\n",
      "  </tr>\n",
      "  <tr>\n",
      "   <td>\n",
      "    8\n",
      "   </td>\n",
      "   <td align=\"left\">\n",
      "    <span class=\"flagicon\">\n",
      "     <span class=\"mw-image-border\" typeof=\"mw:File\">\n",
      "      <span>\n",
      "       <img alt=\"\" class=\"mw-file-element\" data-file-height=\"600\" data-file-width=\"1000\" decoding=\"async\" height=\"14\" src=\"//upload.wikimedia.org/wikipedia/commons/thumb/5/50/Flag_of_Burundi.svg/23px-Flag_of_Burundi.svg.png\" srcset=\"//upload.wikimedia.org/wikipedia/commons/thumb/5/50/Flag_of_Burundi.svg/35px-Flag_of_Burundi.svg.png 1.5x, //upload.wikimedia.org/wikipedia/commons/thumb/5/50/Flag_of_Burundi.svg/46px-Flag_of_Burundi.svg.png 2x\" width=\"23\"/>\n",
      "      </span>\n",
      "     </span>\n",
      "    </span>\n",
      "    <a href=\"/wiki/Burundi\" title=\"Burundi\">\n",
      "     Burundi\n",
      "    </a>\n",
      "   </td>\n",
      "   <td>\n",
      "    12,696,478\n",
      "   </td>\n",
      "   <td>\n",
      "    27,830\n",
      "   </td>\n",
      "   <td>\n",
      "    456\n",
      "   </td>\n",
      "  </tr>\n",
      "  <tr>\n",
      "   <td>\n",
      "    9\n",
      "   </td>\n",
      "   <td align=\"left\">\n",
      "    <span class=\"flagicon\">\n",
      "     <span class=\"mw-image-border\" typeof=\"mw:File\">\n",
      "      <span>\n",
      "       <img alt=\"\" class=\"mw-file-element\" data-file-height=\"600\" data-file-width=\"900\" decoding=\"async\" height=\"15\" src=\"//upload.wikimedia.org/wikipedia/en/thumb/4/41/Flag_of_India.svg/23px-Flag_of_India.svg.png\" srcset=\"//upload.wikimedia.org/wikipedia/en/thumb/4/41/Flag_of_India.svg/35px-Flag_of_India.svg.png 1.5x, //upload.wikimedia.org/wikipedia/en/thumb/4/41/Flag_of_India.svg/45px-Flag_of_India.svg.png 2x\" width=\"23\"/>\n",
      "      </span>\n",
      "     </span>\n",
      "    </span>\n",
      "    <a href=\"/wiki/India\" title=\"India\">\n",
      "     India\n",
      "    </a>\n",
      "   </td>\n",
      "   <td>\n",
      "    1,389,637,446\n",
      "   </td>\n",
      "   <td>\n",
      "    3,287,263\n",
      "   </td>\n",
      "   <td>\n",
      "    423\n",
      "   </td>\n",
      "  </tr>\n",
      "  <tr>\n",
      "   <td>\n",
      "    10\n",
      "   </td>\n",
      "   <td align=\"left\">\n",
      "    <span class=\"flagicon\">\n",
      "     <span class=\"mw-image-border\" typeof=\"mw:File\">\n",
      "      <span>\n",
      "       <img alt=\"\" class=\"mw-file-element\" data-file-height=\"600\" data-file-width=\"900\" decoding=\"async\" height=\"15\" src=\"//upload.wikimedia.org/wikipedia/commons/thumb/2/20/Flag_of_the_Netherlands.svg/23px-Flag_of_the_Netherlands.svg.png\" srcset=\"//upload.wikimedia.org/wikipedia/commons/thumb/2/20/Flag_of_the_Netherlands.svg/35px-Flag_of_the_Netherlands.svg.png 1.5x, //upload.wikimedia.org/wikipedia/commons/thumb/2/20/Flag_of_the_Netherlands.svg/45px-Flag_of_the_Netherlands.svg.png 2x\" width=\"23\"/>\n",
      "      </span>\n",
      "     </span>\n",
      "    </span>\n",
      "    <a href=\"/wiki/Netherlands\" title=\"Netherlands\">\n",
      "     Netherlands\n",
      "    </a>\n",
      "   </td>\n",
      "   <td>\n",
      "    17,400,824\n",
      "   </td>\n",
      "   <td>\n",
      "    41,543\n",
      "   </td>\n",
      "   <td>\n",
      "    419\n",
      "   </td>\n",
      "  </tr>\n",
      " </tbody>\n",
      "</table>\n",
      "\n"
     ]
    }
   ],
   "source": [
    "print(tables[table_index].prettify())"
   ]
  },
  {
   "cell_type": "code",
   "execution_count": 62,
   "id": "c4d45671",
   "metadata": {
    "execution": {
     "iopub.execute_input": "2023-10-05T10:09:08.554852Z",
     "iopub.status.busy": "2023-10-05T10:09:08.553597Z",
     "iopub.status.idle": "2023-10-05T10:09:08.582629Z",
     "shell.execute_reply": "2023-10-05T10:09:08.581852Z"
    },
    "papermill": {
     "duration": 0.060974,
     "end_time": "2023-10-05T10:09:08.584568",
     "exception": false,
     "start_time": "2023-10-05T10:09:08.523594",
     "status": "completed"
    },
    "tags": []
   },
   "outputs": [
    {
     "data": {
      "text/html": [
       "<div>\n",
       "<style scoped>\n",
       "    .dataframe tbody tr th:only-of-type {\n",
       "        vertical-align: middle;\n",
       "    }\n",
       "\n",
       "    .dataframe tbody tr th {\n",
       "        vertical-align: top;\n",
       "    }\n",
       "\n",
       "    .dataframe thead th {\n",
       "        text-align: right;\n",
       "    }\n",
       "</style>\n",
       "<table border=\"1\" class=\"dataframe\">\n",
       "  <thead>\n",
       "    <tr style=\"text-align: right;\">\n",
       "      <th></th>\n",
       "      <th>Rank</th>\n",
       "      <th>Country</th>\n",
       "      <th>Population</th>\n",
       "      <th>Area</th>\n",
       "      <th>Density</th>\n",
       "    </tr>\n",
       "  </thead>\n",
       "  <tbody>\n",
       "    <tr>\n",
       "      <th>0</th>\n",
       "      <td>1</td>\n",
       "      <td>Singapore</td>\n",
       "      <td>5,921,231</td>\n",
       "      <td>719</td>\n",
       "      <td>8,235</td>\n",
       "    </tr>\n",
       "    <tr>\n",
       "      <th>1</th>\n",
       "      <td>2</td>\n",
       "      <td>Bangladesh</td>\n",
       "      <td>165,650,475</td>\n",
       "      <td>148,460</td>\n",
       "      <td>1,116</td>\n",
       "    </tr>\n",
       "    <tr>\n",
       "      <th>2</th>\n",
       "      <td>3</td>\n",
       "      <td>Palestine[note 3][103]</td>\n",
       "      <td>5,223,000</td>\n",
       "      <td>6,025</td>\n",
       "      <td>867</td>\n",
       "    </tr>\n",
       "    <tr>\n",
       "      <th>3</th>\n",
       "      <td>4</td>\n",
       "      <td>Taiwan[note 4]</td>\n",
       "      <td>23,580,712</td>\n",
       "      <td>35,980</td>\n",
       "      <td>655</td>\n",
       "    </tr>\n",
       "    <tr>\n",
       "      <th>4</th>\n",
       "      <td>5</td>\n",
       "      <td>South Korea</td>\n",
       "      <td>51,844,834</td>\n",
       "      <td>99,720</td>\n",
       "      <td>520</td>\n",
       "    </tr>\n",
       "    <tr>\n",
       "      <th>5</th>\n",
       "      <td>6</td>\n",
       "      <td>Lebanon</td>\n",
       "      <td>5,296,814</td>\n",
       "      <td>10,400</td>\n",
       "      <td>509</td>\n",
       "    </tr>\n",
       "    <tr>\n",
       "      <th>6</th>\n",
       "      <td>7</td>\n",
       "      <td>Rwanda</td>\n",
       "      <td>13,173,730</td>\n",
       "      <td>26,338</td>\n",
       "      <td>500</td>\n",
       "    </tr>\n",
       "    <tr>\n",
       "      <th>7</th>\n",
       "      <td>8</td>\n",
       "      <td>Burundi</td>\n",
       "      <td>12,696,478</td>\n",
       "      <td>27,830</td>\n",
       "      <td>456</td>\n",
       "    </tr>\n",
       "    <tr>\n",
       "      <th>8</th>\n",
       "      <td>9</td>\n",
       "      <td>India</td>\n",
       "      <td>1,389,637,446</td>\n",
       "      <td>3,287,263</td>\n",
       "      <td>423</td>\n",
       "    </tr>\n",
       "    <tr>\n",
       "      <th>9</th>\n",
       "      <td>10</td>\n",
       "      <td>Netherlands</td>\n",
       "      <td>17,400,824</td>\n",
       "      <td>41,543</td>\n",
       "      <td>419</td>\n",
       "    </tr>\n",
       "  </tbody>\n",
       "</table>\n",
       "</div>"
      ],
      "text/plain": [
       "  Rank                 Country     Population       Area Density\n",
       "0    1               Singapore      5,921,231        719   8,235\n",
       "1    2              Bangladesh    165,650,475    148,460   1,116\n",
       "2    3  Palestine[note 3][103]      5,223,000      6,025     867\n",
       "3    4          Taiwan[note 4]     23,580,712     35,980     655\n",
       "4    5             South Korea     51,844,834     99,720     520\n",
       "5    6                 Lebanon      5,296,814     10,400     509\n",
       "6    7                  Rwanda     13,173,730     26,338     500\n",
       "7    8                 Burundi     12,696,478     27,830     456\n",
       "8    9                   India  1,389,637,446  3,287,263     423\n",
       "9   10             Netherlands     17,400,824     41,543     419"
      ]
     },
     "execution_count": 62,
     "metadata": {},
     "output_type": "execute_result"
    }
   ],
   "source": [
    "#population_data = pd.DataFrame(columns=[\"Rank\", \"Country\", \"Population\", \"Area\", \"Density\"])\n",
    "temp_dict = {\"Rank\":[], \"Country\":[], \"Population\":[], \"Area\":[], \"Density\":[]}\n",
    "\n",
    "for row in tables[table_index].tbody.find_all(\"tr\"):\n",
    "    col = row.find_all(\"td\")\n",
    "    if (col != []):\n",
    "        rank = col[0].text\n",
    "        country = col[1].text.strip()\n",
    "        population = col[2].text.strip()\n",
    "        area = col[3].text.strip()\n",
    "        density = col[4].text.strip()\n",
    "        #population_data = population_data.append({\"Rank\":rank, \"Country\":country, \"Population\":population, \"Area\":area, \"Density\":density}, ignore_index=True)\n",
    "        temp_dict[\"Rank\"].append(rank)\n",
    "        temp_dict[\"Country\"].append(country)\n",
    "        temp_dict[\"Population\"].append(population)\n",
    "        temp_dict[\"Area\"].append(area)\n",
    "        temp_dict[\"Density\"].append(density)\n",
    "\n",
    "population_data = pd.DataFrame.from_dict(temp_dict)\n",
    "population_data"
   ]
  },
  {
   "cell_type": "markdown",
   "id": "57049b75",
   "metadata": {
    "papermill": {
     "duration": 0.028539,
     "end_time": "2023-10-05T10:09:08.641574",
     "exception": false,
     "start_time": "2023-10-05T10:09:08.613035",
     "status": "completed"
    },
    "tags": []
   },
   "source": [
    "## Scrape data from HTML tables into a DataFrame using BeautifulSoup and read_html\n"
   ]
  },
  {
   "cell_type": "markdown",
   "id": "0298cb0b",
   "metadata": {
    "papermill": {
     "duration": 0.027567,
     "end_time": "2023-10-05T10:09:08.697934",
     "exception": false,
     "start_time": "2023-10-05T10:09:08.670367",
     "status": "completed"
    },
    "tags": []
   },
   "source": [
    "Using the same `url`, `data`, `soup`, and `tables` object as in the last section we can use the `read_html` function to create a DataFrame.\n",
    "\n",
    "Remember the table we need is located in `tables[table_index]`\n",
    "\n",
    "We can now use the `pandas` function `read_html` and give it the string version of the table as well as the `flavor` which is the parsing engine `bs4`.\n"
   ]
  },
  {
   "cell_type": "code",
   "execution_count": 63,
   "id": "d47d75ad",
   "metadata": {
    "execution": {
     "iopub.execute_input": "2023-10-05T10:09:08.756965Z",
     "iopub.status.busy": "2023-10-05T10:09:08.755865Z",
     "iopub.status.idle": "2023-10-05T10:09:08.832487Z",
     "shell.execute_reply": "2023-10-05T10:09:08.831207Z"
    },
    "papermill": {
     "duration": 0.108267,
     "end_time": "2023-10-05T10:09:08.834851",
     "exception": false,
     "start_time": "2023-10-05T10:09:08.726584",
     "status": "completed"
    },
    "tags": []
   },
   "outputs": [
    {
     "data": {
      "text/plain": [
       "[                                                             #  \\\n",
       "    Graphs are temporarily unavailable due to technical issues.   \n",
       "    Graphs are temporarily unavailable due to technical issues.   \n",
       "    Graphs are temporarily unavailable due to technical issues.   \n",
       "    Graphs are temporarily unavailable due to technical issues.   \n",
       "    Graphs are temporarily unavailable due to technical issues.   \n",
       "    Graphs are temporarily unavailable due to technical issues.   \n",
       "    Graphs are temporarily unavailable due to technical issues.   \n",
       "    Graphs are temporarily unavailable due to technical issues.   \n",
       "    Graphs are temporarily unavailable due to technical issues.   \n",
       "    Graphs are temporarily unavailable due to technical issues.   \n",
       "    Graphs are temporarily unavailable due to technical issues.   \n",
       " 0                                                 NaN            \n",
       " 1                                                   1            \n",
       " 2                                                   2            \n",
       " 3                                                   3            \n",
       " 4                                                   4            \n",
       " 5                                                   5            \n",
       " 6                                                   6            \n",
       " 7                                                   7            \n",
       " 8                                                   8            \n",
       " 9                                                   9            \n",
       " 10                                                 10            \n",
       " 11                                                NaN            \n",
       " 12  Notes: .mw-parser-output .reflist{font-size:90...            \n",
       " \n",
       "                               Most populous countries  \\\n",
       "                                    Unnamed: 1_level_1   \n",
       "                                    Unnamed: 1_level_2   \n",
       "                                    Unnamed: 1_level_3   \n",
       "                                    Unnamed: 1_level_4   \n",
       "                                    Unnamed: 1_level_5   \n",
       "                                    Unnamed: 1_level_6   \n",
       "                                    Unnamed: 1_level_7   \n",
       "                                    Unnamed: 1_level_8   \n",
       "                                    Unnamed: 1_level_9   \n",
       "                                   Unnamed: 1_level_10   \n",
       "                                   Unnamed: 1_level_11   \n",
       " 0   Graphs are temporarily unavailable due to tech...   \n",
       " 1                                            China[B]   \n",
       " 2                                               India   \n",
       " 3                                       United States   \n",
       " 4                                           Indonesia   \n",
       " 5                                            Pakistan   \n",
       " 6                                              Brazil   \n",
       " 7                                             Nigeria   \n",
       " 8                                          Bangladesh   \n",
       " 9                                              Russia   \n",
       " 10                                             Mexico   \n",
       " 11                                        World total   \n",
       " 12  Notes: .mw-parser-output .reflist{font-size:90...   \n",
       " \n",
       "                                                  2000  \\\n",
       "                                    Unnamed: 2_level_1   \n",
       "                                    Unnamed: 2_level_2   \n",
       "                                    Unnamed: 2_level_3   \n",
       "                                    Unnamed: 2_level_4   \n",
       "                                    Unnamed: 2_level_5   \n",
       "                                    Unnamed: 2_level_6   \n",
       "                                    Unnamed: 2_level_7   \n",
       "                                    Unnamed: 2_level_8   \n",
       "                                    Unnamed: 2_level_9   \n",
       "                                   Unnamed: 2_level_10   \n",
       "                                   Unnamed: 2_level_11   \n",
       " 0                                                 NaN   \n",
       " 1                                                1270   \n",
       " 2                                                1053   \n",
       " 3                                                 283   \n",
       " 4                                                 212   \n",
       " 5                                                 136   \n",
       " 6                                                 176   \n",
       " 7                                                 123   \n",
       " 8                                                 131   \n",
       " 9                                                 146   \n",
       " 10                                                103   \n",
       " 11                                               6127   \n",
       " 12  Notes: .mw-parser-output .reflist{font-size:90...   \n",
       " \n",
       "                                                  2015  \\\n",
       "                                    Unnamed: 3_level_1   \n",
       "                                    Unnamed: 3_level_2   \n",
       "                                    Unnamed: 3_level_3   \n",
       "                                    Unnamed: 3_level_4   \n",
       "                                    Unnamed: 3_level_5   \n",
       "                                    Unnamed: 3_level_6   \n",
       "                                    Unnamed: 3_level_7   \n",
       "                                    Unnamed: 3_level_8   \n",
       "                                    Unnamed: 3_level_9   \n",
       "                                   Unnamed: 3_level_10   \n",
       "                                   Unnamed: 3_level_11   \n",
       " 0                                                 NaN   \n",
       " 1                                                1376   \n",
       " 2                                                1311   \n",
       " 3                                                 322   \n",
       " 4                                                 258   \n",
       " 5                                                 208   \n",
       " 6                                                 206   \n",
       " 7                                                 182   \n",
       " 8                                                 161   \n",
       " 9                                                 146   \n",
       " 10                                                127   \n",
       " 11                                               7349   \n",
       " 12  Notes: .mw-parser-output .reflist{font-size:90...   \n",
       " \n",
       "                                               2030[A]  \\\n",
       "                                    Unnamed: 4_level_1   \n",
       "                                    Unnamed: 4_level_2   \n",
       "                                    Unnamed: 4_level_3   \n",
       "                                    Unnamed: 4_level_4   \n",
       "                                    Unnamed: 4_level_5   \n",
       "                                    Unnamed: 4_level_6   \n",
       "                                    Unnamed: 4_level_7   \n",
       "                                    Unnamed: 4_level_8   \n",
       "                                    Unnamed: 4_level_9   \n",
       "                                   Unnamed: 4_level_10   \n",
       "                                   Unnamed: 4_level_11   \n",
       " 0                                                 NaN   \n",
       " 1                                                1416   \n",
       " 2                                                1528   \n",
       " 3                                                 356   \n",
       " 4                                                 295   \n",
       " 5                                                 245   \n",
       " 6                                                 228   \n",
       " 7                                                 263   \n",
       " 8                                                 186   \n",
       " 9                                                 149   \n",
       " 10                                                148   \n",
       " 11                                               8501   \n",
       " 12  Notes: .mw-parser-output .reflist{font-size:90...   \n",
       " \n",
       "    Graphs are temporarily unavailable due to technical issues.  \n",
       "                                             Unnamed: 5_level_1  \n",
       "                                             Unnamed: 5_level_2  \n",
       "                                             Unnamed: 5_level_3  \n",
       "                                             Unnamed: 5_level_4  \n",
       "                                             Unnamed: 5_level_5  \n",
       "                                             Unnamed: 5_level_6  \n",
       "                                             Unnamed: 5_level_7  \n",
       "                                             Unnamed: 5_level_8  \n",
       "                                             Unnamed: 5_level_9  \n",
       "                                            Unnamed: 5_level_10  \n",
       "                                            Unnamed: 5_level_11  \n",
       " 0                                                 NaN           \n",
       " 1                                                 NaN           \n",
       " 2                                                 NaN           \n",
       " 3                                                 NaN           \n",
       " 4                                                 NaN           \n",
       " 5                                                 NaN           \n",
       " 6                                                 NaN           \n",
       " 7                                                 NaN           \n",
       " 8                                                 NaN           \n",
       " 9                                                 NaN           \n",
       " 10                                                NaN           \n",
       " 11                                                NaN           \n",
       " 12  Notes: .mw-parser-output .reflist{font-size:90...           ,\n",
       "     0                                                  1\n",
       " 0 NaN  Graphs are temporarily unavailable due to tech...]"
      ]
     },
     "execution_count": 63,
     "metadata": {},
     "output_type": "execute_result"
    }
   ],
   "source": [
    "pd.read_html(str(tables[5]), flavor='bs4')"
   ]
  },
  {
   "cell_type": "markdown",
   "id": "8cb84c26",
   "metadata": {
    "papermill": {
     "duration": 0.031015,
     "end_time": "2023-10-05T10:09:08.894306",
     "exception": false,
     "start_time": "2023-10-05T10:09:08.863291",
     "status": "completed"
    },
    "tags": []
   },
   "source": [
    "The function `read_html` always returns a list of DataFrames so we must pick the one we want out of the list.\n"
   ]
  },
  {
   "cell_type": "code",
   "execution_count": 64,
   "id": "9455985d",
   "metadata": {
    "execution": {
     "iopub.execute_input": "2023-10-05T10:09:08.953243Z",
     "iopub.status.busy": "2023-10-05T10:09:08.952834Z",
     "iopub.status.idle": "2023-10-05T10:09:09.018463Z",
     "shell.execute_reply": "2023-10-05T10:09:09.017116Z"
    },
    "papermill": {
     "duration": 0.098037,
     "end_time": "2023-10-05T10:09:09.020835",
     "exception": false,
     "start_time": "2023-10-05T10:09:08.922798",
     "status": "completed"
    },
    "tags": []
   },
   "outputs": [
    {
     "data": {
      "text/html": [
       "<div>\n",
       "<style scoped>\n",
       "    .dataframe tbody tr th:only-of-type {\n",
       "        vertical-align: middle;\n",
       "    }\n",
       "\n",
       "    .dataframe tbody tr th {\n",
       "        vertical-align: top;\n",
       "    }\n",
       "\n",
       "    .dataframe thead tr th {\n",
       "        text-align: left;\n",
       "    }\n",
       "</style>\n",
       "<table border=\"1\" class=\"dataframe\">\n",
       "  <thead>\n",
       "    <tr>\n",
       "      <th></th>\n",
       "      <th>#</th>\n",
       "      <th>Most populous countries</th>\n",
       "      <th>2000</th>\n",
       "      <th>2015</th>\n",
       "      <th>2030[A]</th>\n",
       "      <th>Graphs are temporarily unavailable due to technical issues.</th>\n",
       "    </tr>\n",
       "    <tr>\n",
       "      <th></th>\n",
       "      <th>Graphs are temporarily unavailable due to technical issues.</th>\n",
       "      <th>Unnamed: 1_level_1</th>\n",
       "      <th>Unnamed: 2_level_1</th>\n",
       "      <th>Unnamed: 3_level_1</th>\n",
       "      <th>Unnamed: 4_level_1</th>\n",
       "      <th>Unnamed: 5_level_1</th>\n",
       "    </tr>\n",
       "    <tr>\n",
       "      <th></th>\n",
       "      <th>Graphs are temporarily unavailable due to technical issues.</th>\n",
       "      <th>Unnamed: 1_level_2</th>\n",
       "      <th>Unnamed: 2_level_2</th>\n",
       "      <th>Unnamed: 3_level_2</th>\n",
       "      <th>Unnamed: 4_level_2</th>\n",
       "      <th>Unnamed: 5_level_2</th>\n",
       "    </tr>\n",
       "    <tr>\n",
       "      <th></th>\n",
       "      <th>Graphs are temporarily unavailable due to technical issues.</th>\n",
       "      <th>Unnamed: 1_level_3</th>\n",
       "      <th>Unnamed: 2_level_3</th>\n",
       "      <th>Unnamed: 3_level_3</th>\n",
       "      <th>Unnamed: 4_level_3</th>\n",
       "      <th>Unnamed: 5_level_3</th>\n",
       "    </tr>\n",
       "    <tr>\n",
       "      <th></th>\n",
       "      <th>Graphs are temporarily unavailable due to technical issues.</th>\n",
       "      <th>Unnamed: 1_level_4</th>\n",
       "      <th>Unnamed: 2_level_4</th>\n",
       "      <th>Unnamed: 3_level_4</th>\n",
       "      <th>Unnamed: 4_level_4</th>\n",
       "      <th>Unnamed: 5_level_4</th>\n",
       "    </tr>\n",
       "    <tr>\n",
       "      <th></th>\n",
       "      <th>Graphs are temporarily unavailable due to technical issues.</th>\n",
       "      <th>Unnamed: 1_level_5</th>\n",
       "      <th>Unnamed: 2_level_5</th>\n",
       "      <th>Unnamed: 3_level_5</th>\n",
       "      <th>Unnamed: 4_level_5</th>\n",
       "      <th>Unnamed: 5_level_5</th>\n",
       "    </tr>\n",
       "    <tr>\n",
       "      <th></th>\n",
       "      <th>Graphs are temporarily unavailable due to technical issues.</th>\n",
       "      <th>Unnamed: 1_level_6</th>\n",
       "      <th>Unnamed: 2_level_6</th>\n",
       "      <th>Unnamed: 3_level_6</th>\n",
       "      <th>Unnamed: 4_level_6</th>\n",
       "      <th>Unnamed: 5_level_6</th>\n",
       "    </tr>\n",
       "    <tr>\n",
       "      <th></th>\n",
       "      <th>Graphs are temporarily unavailable due to technical issues.</th>\n",
       "      <th>Unnamed: 1_level_7</th>\n",
       "      <th>Unnamed: 2_level_7</th>\n",
       "      <th>Unnamed: 3_level_7</th>\n",
       "      <th>Unnamed: 4_level_7</th>\n",
       "      <th>Unnamed: 5_level_7</th>\n",
       "    </tr>\n",
       "    <tr>\n",
       "      <th></th>\n",
       "      <th>Graphs are temporarily unavailable due to technical issues.</th>\n",
       "      <th>Unnamed: 1_level_8</th>\n",
       "      <th>Unnamed: 2_level_8</th>\n",
       "      <th>Unnamed: 3_level_8</th>\n",
       "      <th>Unnamed: 4_level_8</th>\n",
       "      <th>Unnamed: 5_level_8</th>\n",
       "    </tr>\n",
       "    <tr>\n",
       "      <th></th>\n",
       "      <th>Graphs are temporarily unavailable due to technical issues.</th>\n",
       "      <th>Unnamed: 1_level_9</th>\n",
       "      <th>Unnamed: 2_level_9</th>\n",
       "      <th>Unnamed: 3_level_9</th>\n",
       "      <th>Unnamed: 4_level_9</th>\n",
       "      <th>Unnamed: 5_level_9</th>\n",
       "    </tr>\n",
       "    <tr>\n",
       "      <th></th>\n",
       "      <th>Graphs are temporarily unavailable due to technical issues.</th>\n",
       "      <th>Unnamed: 1_level_10</th>\n",
       "      <th>Unnamed: 2_level_10</th>\n",
       "      <th>Unnamed: 3_level_10</th>\n",
       "      <th>Unnamed: 4_level_10</th>\n",
       "      <th>Unnamed: 5_level_10</th>\n",
       "    </tr>\n",
       "    <tr>\n",
       "      <th></th>\n",
       "      <th>Graphs are temporarily unavailable due to technical issues.</th>\n",
       "      <th>Unnamed: 1_level_11</th>\n",
       "      <th>Unnamed: 2_level_11</th>\n",
       "      <th>Unnamed: 3_level_11</th>\n",
       "      <th>Unnamed: 4_level_11</th>\n",
       "      <th>Unnamed: 5_level_11</th>\n",
       "    </tr>\n",
       "  </thead>\n",
       "  <tbody>\n",
       "    <tr>\n",
       "      <th>0</th>\n",
       "      <td>NaN</td>\n",
       "      <td>Graphs are temporarily unavailable due to tech...</td>\n",
       "      <td>NaN</td>\n",
       "      <td>NaN</td>\n",
       "      <td>NaN</td>\n",
       "      <td>NaN</td>\n",
       "    </tr>\n",
       "    <tr>\n",
       "      <th>1</th>\n",
       "      <td>1</td>\n",
       "      <td>China[B]</td>\n",
       "      <td>1270</td>\n",
       "      <td>1376</td>\n",
       "      <td>1416</td>\n",
       "      <td>NaN</td>\n",
       "    </tr>\n",
       "    <tr>\n",
       "      <th>2</th>\n",
       "      <td>2</td>\n",
       "      <td>India</td>\n",
       "      <td>1053</td>\n",
       "      <td>1311</td>\n",
       "      <td>1528</td>\n",
       "      <td>NaN</td>\n",
       "    </tr>\n",
       "    <tr>\n",
       "      <th>3</th>\n",
       "      <td>3</td>\n",
       "      <td>United States</td>\n",
       "      <td>283</td>\n",
       "      <td>322</td>\n",
       "      <td>356</td>\n",
       "      <td>NaN</td>\n",
       "    </tr>\n",
       "    <tr>\n",
       "      <th>4</th>\n",
       "      <td>4</td>\n",
       "      <td>Indonesia</td>\n",
       "      <td>212</td>\n",
       "      <td>258</td>\n",
       "      <td>295</td>\n",
       "      <td>NaN</td>\n",
       "    </tr>\n",
       "    <tr>\n",
       "      <th>5</th>\n",
       "      <td>5</td>\n",
       "      <td>Pakistan</td>\n",
       "      <td>136</td>\n",
       "      <td>208</td>\n",
       "      <td>245</td>\n",
       "      <td>NaN</td>\n",
       "    </tr>\n",
       "    <tr>\n",
       "      <th>6</th>\n",
       "      <td>6</td>\n",
       "      <td>Brazil</td>\n",
       "      <td>176</td>\n",
       "      <td>206</td>\n",
       "      <td>228</td>\n",
       "      <td>NaN</td>\n",
       "    </tr>\n",
       "    <tr>\n",
       "      <th>7</th>\n",
       "      <td>7</td>\n",
       "      <td>Nigeria</td>\n",
       "      <td>123</td>\n",
       "      <td>182</td>\n",
       "      <td>263</td>\n",
       "      <td>NaN</td>\n",
       "    </tr>\n",
       "    <tr>\n",
       "      <th>8</th>\n",
       "      <td>8</td>\n",
       "      <td>Bangladesh</td>\n",
       "      <td>131</td>\n",
       "      <td>161</td>\n",
       "      <td>186</td>\n",
       "      <td>NaN</td>\n",
       "    </tr>\n",
       "    <tr>\n",
       "      <th>9</th>\n",
       "      <td>9</td>\n",
       "      <td>Russia</td>\n",
       "      <td>146</td>\n",
       "      <td>146</td>\n",
       "      <td>149</td>\n",
       "      <td>NaN</td>\n",
       "    </tr>\n",
       "    <tr>\n",
       "      <th>10</th>\n",
       "      <td>10</td>\n",
       "      <td>Mexico</td>\n",
       "      <td>103</td>\n",
       "      <td>127</td>\n",
       "      <td>148</td>\n",
       "      <td>NaN</td>\n",
       "    </tr>\n",
       "    <tr>\n",
       "      <th>11</th>\n",
       "      <td>NaN</td>\n",
       "      <td>World total</td>\n",
       "      <td>6127</td>\n",
       "      <td>7349</td>\n",
       "      <td>8501</td>\n",
       "      <td>NaN</td>\n",
       "    </tr>\n",
       "    <tr>\n",
       "      <th>12</th>\n",
       "      <td>Notes: .mw-parser-output .reflist{font-size:90...</td>\n",
       "      <td>Notes: .mw-parser-output .reflist{font-size:90...</td>\n",
       "      <td>Notes: .mw-parser-output .reflist{font-size:90...</td>\n",
       "      <td>Notes: .mw-parser-output .reflist{font-size:90...</td>\n",
       "      <td>Notes: .mw-parser-output .reflist{font-size:90...</td>\n",
       "      <td>Notes: .mw-parser-output .reflist{font-size:90...</td>\n",
       "    </tr>\n",
       "  </tbody>\n",
       "</table>\n",
       "</div>"
      ],
      "text/plain": [
       "                                                             #  \\\n",
       "   Graphs are temporarily unavailable due to technical issues.   \n",
       "   Graphs are temporarily unavailable due to technical issues.   \n",
       "   Graphs are temporarily unavailable due to technical issues.   \n",
       "   Graphs are temporarily unavailable due to technical issues.   \n",
       "   Graphs are temporarily unavailable due to technical issues.   \n",
       "   Graphs are temporarily unavailable due to technical issues.   \n",
       "   Graphs are temporarily unavailable due to technical issues.   \n",
       "   Graphs are temporarily unavailable due to technical issues.   \n",
       "   Graphs are temporarily unavailable due to technical issues.   \n",
       "   Graphs are temporarily unavailable due to technical issues.   \n",
       "   Graphs are temporarily unavailable due to technical issues.   \n",
       "0                                                 NaN            \n",
       "1                                                   1            \n",
       "2                                                   2            \n",
       "3                                                   3            \n",
       "4                                                   4            \n",
       "5                                                   5            \n",
       "6                                                   6            \n",
       "7                                                   7            \n",
       "8                                                   8            \n",
       "9                                                   9            \n",
       "10                                                 10            \n",
       "11                                                NaN            \n",
       "12  Notes: .mw-parser-output .reflist{font-size:90...            \n",
       "\n",
       "                              Most populous countries  \\\n",
       "                                   Unnamed: 1_level_1   \n",
       "                                   Unnamed: 1_level_2   \n",
       "                                   Unnamed: 1_level_3   \n",
       "                                   Unnamed: 1_level_4   \n",
       "                                   Unnamed: 1_level_5   \n",
       "                                   Unnamed: 1_level_6   \n",
       "                                   Unnamed: 1_level_7   \n",
       "                                   Unnamed: 1_level_8   \n",
       "                                   Unnamed: 1_level_9   \n",
       "                                  Unnamed: 1_level_10   \n",
       "                                  Unnamed: 1_level_11   \n",
       "0   Graphs are temporarily unavailable due to tech...   \n",
       "1                                            China[B]   \n",
       "2                                               India   \n",
       "3                                       United States   \n",
       "4                                           Indonesia   \n",
       "5                                            Pakistan   \n",
       "6                                              Brazil   \n",
       "7                                             Nigeria   \n",
       "8                                          Bangladesh   \n",
       "9                                              Russia   \n",
       "10                                             Mexico   \n",
       "11                                        World total   \n",
       "12  Notes: .mw-parser-output .reflist{font-size:90...   \n",
       "\n",
       "                                                 2000  \\\n",
       "                                   Unnamed: 2_level_1   \n",
       "                                   Unnamed: 2_level_2   \n",
       "                                   Unnamed: 2_level_3   \n",
       "                                   Unnamed: 2_level_4   \n",
       "                                   Unnamed: 2_level_5   \n",
       "                                   Unnamed: 2_level_6   \n",
       "                                   Unnamed: 2_level_7   \n",
       "                                   Unnamed: 2_level_8   \n",
       "                                   Unnamed: 2_level_9   \n",
       "                                  Unnamed: 2_level_10   \n",
       "                                  Unnamed: 2_level_11   \n",
       "0                                                 NaN   \n",
       "1                                                1270   \n",
       "2                                                1053   \n",
       "3                                                 283   \n",
       "4                                                 212   \n",
       "5                                                 136   \n",
       "6                                                 176   \n",
       "7                                                 123   \n",
       "8                                                 131   \n",
       "9                                                 146   \n",
       "10                                                103   \n",
       "11                                               6127   \n",
       "12  Notes: .mw-parser-output .reflist{font-size:90...   \n",
       "\n",
       "                                                 2015  \\\n",
       "                                   Unnamed: 3_level_1   \n",
       "                                   Unnamed: 3_level_2   \n",
       "                                   Unnamed: 3_level_3   \n",
       "                                   Unnamed: 3_level_4   \n",
       "                                   Unnamed: 3_level_5   \n",
       "                                   Unnamed: 3_level_6   \n",
       "                                   Unnamed: 3_level_7   \n",
       "                                   Unnamed: 3_level_8   \n",
       "                                   Unnamed: 3_level_9   \n",
       "                                  Unnamed: 3_level_10   \n",
       "                                  Unnamed: 3_level_11   \n",
       "0                                                 NaN   \n",
       "1                                                1376   \n",
       "2                                                1311   \n",
       "3                                                 322   \n",
       "4                                                 258   \n",
       "5                                                 208   \n",
       "6                                                 206   \n",
       "7                                                 182   \n",
       "8                                                 161   \n",
       "9                                                 146   \n",
       "10                                                127   \n",
       "11                                               7349   \n",
       "12  Notes: .mw-parser-output .reflist{font-size:90...   \n",
       "\n",
       "                                              2030[A]  \\\n",
       "                                   Unnamed: 4_level_1   \n",
       "                                   Unnamed: 4_level_2   \n",
       "                                   Unnamed: 4_level_3   \n",
       "                                   Unnamed: 4_level_4   \n",
       "                                   Unnamed: 4_level_5   \n",
       "                                   Unnamed: 4_level_6   \n",
       "                                   Unnamed: 4_level_7   \n",
       "                                   Unnamed: 4_level_8   \n",
       "                                   Unnamed: 4_level_9   \n",
       "                                  Unnamed: 4_level_10   \n",
       "                                  Unnamed: 4_level_11   \n",
       "0                                                 NaN   \n",
       "1                                                1416   \n",
       "2                                                1528   \n",
       "3                                                 356   \n",
       "4                                                 295   \n",
       "5                                                 245   \n",
       "6                                                 228   \n",
       "7                                                 263   \n",
       "8                                                 186   \n",
       "9                                                 149   \n",
       "10                                                148   \n",
       "11                                               8501   \n",
       "12  Notes: .mw-parser-output .reflist{font-size:90...   \n",
       "\n",
       "   Graphs are temporarily unavailable due to technical issues.  \n",
       "                                            Unnamed: 5_level_1  \n",
       "                                            Unnamed: 5_level_2  \n",
       "                                            Unnamed: 5_level_3  \n",
       "                                            Unnamed: 5_level_4  \n",
       "                                            Unnamed: 5_level_5  \n",
       "                                            Unnamed: 5_level_6  \n",
       "                                            Unnamed: 5_level_7  \n",
       "                                            Unnamed: 5_level_8  \n",
       "                                            Unnamed: 5_level_9  \n",
       "                                           Unnamed: 5_level_10  \n",
       "                                           Unnamed: 5_level_11  \n",
       "0                                                 NaN           \n",
       "1                                                 NaN           \n",
       "2                                                 NaN           \n",
       "3                                                 NaN           \n",
       "4                                                 NaN           \n",
       "5                                                 NaN           \n",
       "6                                                 NaN           \n",
       "7                                                 NaN           \n",
       "8                                                 NaN           \n",
       "9                                                 NaN           \n",
       "10                                                NaN           \n",
       "11                                                NaN           \n",
       "12  Notes: .mw-parser-output .reflist{font-size:90...           "
      ]
     },
     "execution_count": 64,
     "metadata": {},
     "output_type": "execute_result"
    }
   ],
   "source": [
    "population_data_read_html = pd.read_html(str(tables[5]), flavor='bs4')[0]\n",
    "\n",
    "population_data_read_html"
   ]
  },
  {
   "cell_type": "markdown",
   "id": "16b7b63e",
   "metadata": {
    "papermill": {
     "duration": 0.029198,
     "end_time": "2023-10-05T10:09:09.079088",
     "exception": false,
     "start_time": "2023-10-05T10:09:09.049890",
     "status": "completed"
    },
    "tags": []
   },
   "source": [
    "## Scrape data from HTML tables into a DataFrame using read_html\n"
   ]
  },
  {
   "cell_type": "markdown",
   "id": "406aa259",
   "metadata": {
    "papermill": {
     "duration": 0.029073,
     "end_time": "2023-10-05T10:09:09.137409",
     "exception": false,
     "start_time": "2023-10-05T10:09:09.108336",
     "status": "completed"
    },
    "tags": []
   },
   "source": [
    "We can also use the `read_html` function to directly get DataFrames from a `url`.\n"
   ]
  },
  {
   "cell_type": "code",
   "execution_count": 65,
   "id": "3d5ab228",
   "metadata": {
    "execution": {
     "iopub.execute_input": "2023-10-05T10:09:09.197970Z",
     "iopub.status.busy": "2023-10-05T10:09:09.197563Z",
     "iopub.status.idle": "2023-10-05T10:09:10.529729Z",
     "shell.execute_reply": "2023-10-05T10:09:10.528502Z"
    },
    "papermill": {
     "duration": 1.365315,
     "end_time": "2023-10-05T10:09:10.532551",
     "exception": false,
     "start_time": "2023-10-05T10:09:09.167236",
     "status": "completed"
    },
    "tags": []
   },
   "outputs": [],
   "source": [
    "dataframe_list = pd.read_html(url, flavor='bs4')"
   ]
  },
  {
   "cell_type": "markdown",
   "id": "12675984",
   "metadata": {
    "papermill": {
     "duration": 0.030381,
     "end_time": "2023-10-05T10:09:10.593786",
     "exception": false,
     "start_time": "2023-10-05T10:09:10.563405",
     "status": "completed"
    },
    "tags": []
   },
   "source": [
    "We can see there are 25 DataFrames just like when we used `find_all` on the `soup` object.\n"
   ]
  },
  {
   "cell_type": "code",
   "execution_count": 66,
   "id": "6e34347d",
   "metadata": {
    "execution": {
     "iopub.execute_input": "2023-10-05T10:09:10.656082Z",
     "iopub.status.busy": "2023-10-05T10:09:10.655410Z",
     "iopub.status.idle": "2023-10-05T10:09:10.662007Z",
     "shell.execute_reply": "2023-10-05T10:09:10.661033Z"
    },
    "papermill": {
     "duration": 0.040657,
     "end_time": "2023-10-05T10:09:10.664120",
     "exception": false,
     "start_time": "2023-10-05T10:09:10.623463",
     "status": "completed"
    },
    "tags": []
   },
   "outputs": [
    {
     "data": {
      "text/plain": [
       "26"
      ]
     },
     "execution_count": 66,
     "metadata": {},
     "output_type": "execute_result"
    }
   ],
   "source": [
    "len(dataframe_list)"
   ]
  },
  {
   "cell_type": "markdown",
   "id": "e432d1a0",
   "metadata": {
    "papermill": {
     "duration": 0.029005,
     "end_time": "2023-10-05T10:09:10.723490",
     "exception": false,
     "start_time": "2023-10-05T10:09:10.694485",
     "status": "completed"
    },
    "tags": []
   },
   "source": [
    "Finally we can pick the DataFrame we need out of the list.\n"
   ]
  },
  {
   "cell_type": "code",
   "execution_count": 67,
   "id": "4691fecc",
   "metadata": {
    "execution": {
     "iopub.execute_input": "2023-10-05T10:09:10.784433Z",
     "iopub.status.busy": "2023-10-05T10:09:10.784069Z",
     "iopub.status.idle": "2023-10-05T10:09:10.803789Z",
     "shell.execute_reply": "2023-10-05T10:09:10.802621Z"
    },
    "papermill": {
     "duration": 0.053487,
     "end_time": "2023-10-05T10:09:10.806657",
     "exception": false,
     "start_time": "2023-10-05T10:09:10.753170",
     "status": "completed"
    },
    "tags": []
   },
   "outputs": [
    {
     "data": {
      "text/html": [
       "<div>\n",
       "<style scoped>\n",
       "    .dataframe tbody tr th:only-of-type {\n",
       "        vertical-align: middle;\n",
       "    }\n",
       "\n",
       "    .dataframe tbody tr th {\n",
       "        vertical-align: top;\n",
       "    }\n",
       "\n",
       "    .dataframe thead tr th {\n",
       "        text-align: left;\n",
       "    }\n",
       "</style>\n",
       "<table border=\"1\" class=\"dataframe\">\n",
       "  <thead>\n",
       "    <tr>\n",
       "      <th></th>\n",
       "      <th>#</th>\n",
       "      <th>Most populous countries</th>\n",
       "      <th>2000</th>\n",
       "      <th>2015</th>\n",
       "      <th>2030[A]</th>\n",
       "      <th>Graphs are temporarily unavailable due to technical issues.</th>\n",
       "    </tr>\n",
       "    <tr>\n",
       "      <th></th>\n",
       "      <th>Graphs are temporarily unavailable due to technical issues.</th>\n",
       "      <th>Unnamed: 1_level_1</th>\n",
       "      <th>Unnamed: 2_level_1</th>\n",
       "      <th>Unnamed: 3_level_1</th>\n",
       "      <th>Unnamed: 4_level_1</th>\n",
       "      <th>Unnamed: 5_level_1</th>\n",
       "    </tr>\n",
       "    <tr>\n",
       "      <th></th>\n",
       "      <th>Graphs are temporarily unavailable due to technical issues.</th>\n",
       "      <th>Unnamed: 1_level_2</th>\n",
       "      <th>Unnamed: 2_level_2</th>\n",
       "      <th>Unnamed: 3_level_2</th>\n",
       "      <th>Unnamed: 4_level_2</th>\n",
       "      <th>Unnamed: 5_level_2</th>\n",
       "    </tr>\n",
       "    <tr>\n",
       "      <th></th>\n",
       "      <th>Graphs are temporarily unavailable due to technical issues.</th>\n",
       "      <th>Unnamed: 1_level_3</th>\n",
       "      <th>Unnamed: 2_level_3</th>\n",
       "      <th>Unnamed: 3_level_3</th>\n",
       "      <th>Unnamed: 4_level_3</th>\n",
       "      <th>Unnamed: 5_level_3</th>\n",
       "    </tr>\n",
       "    <tr>\n",
       "      <th></th>\n",
       "      <th>Graphs are temporarily unavailable due to technical issues.</th>\n",
       "      <th>Unnamed: 1_level_4</th>\n",
       "      <th>Unnamed: 2_level_4</th>\n",
       "      <th>Unnamed: 3_level_4</th>\n",
       "      <th>Unnamed: 4_level_4</th>\n",
       "      <th>Unnamed: 5_level_4</th>\n",
       "    </tr>\n",
       "    <tr>\n",
       "      <th></th>\n",
       "      <th>Graphs are temporarily unavailable due to technical issues.</th>\n",
       "      <th>Unnamed: 1_level_5</th>\n",
       "      <th>Unnamed: 2_level_5</th>\n",
       "      <th>Unnamed: 3_level_5</th>\n",
       "      <th>Unnamed: 4_level_5</th>\n",
       "      <th>Unnamed: 5_level_5</th>\n",
       "    </tr>\n",
       "    <tr>\n",
       "      <th></th>\n",
       "      <th>Graphs are temporarily unavailable due to technical issues.</th>\n",
       "      <th>Unnamed: 1_level_6</th>\n",
       "      <th>Unnamed: 2_level_6</th>\n",
       "      <th>Unnamed: 3_level_6</th>\n",
       "      <th>Unnamed: 4_level_6</th>\n",
       "      <th>Unnamed: 5_level_6</th>\n",
       "    </tr>\n",
       "    <tr>\n",
       "      <th></th>\n",
       "      <th>Graphs are temporarily unavailable due to technical issues.</th>\n",
       "      <th>Unnamed: 1_level_7</th>\n",
       "      <th>Unnamed: 2_level_7</th>\n",
       "      <th>Unnamed: 3_level_7</th>\n",
       "      <th>Unnamed: 4_level_7</th>\n",
       "      <th>Unnamed: 5_level_7</th>\n",
       "    </tr>\n",
       "    <tr>\n",
       "      <th></th>\n",
       "      <th>Graphs are temporarily unavailable due to technical issues.</th>\n",
       "      <th>Unnamed: 1_level_8</th>\n",
       "      <th>Unnamed: 2_level_8</th>\n",
       "      <th>Unnamed: 3_level_8</th>\n",
       "      <th>Unnamed: 4_level_8</th>\n",
       "      <th>Unnamed: 5_level_8</th>\n",
       "    </tr>\n",
       "    <tr>\n",
       "      <th></th>\n",
       "      <th>Graphs are temporarily unavailable due to technical issues.</th>\n",
       "      <th>Unnamed: 1_level_9</th>\n",
       "      <th>Unnamed: 2_level_9</th>\n",
       "      <th>Unnamed: 3_level_9</th>\n",
       "      <th>Unnamed: 4_level_9</th>\n",
       "      <th>Unnamed: 5_level_9</th>\n",
       "    </tr>\n",
       "    <tr>\n",
       "      <th></th>\n",
       "      <th>Graphs are temporarily unavailable due to technical issues.</th>\n",
       "      <th>Unnamed: 1_level_10</th>\n",
       "      <th>Unnamed: 2_level_10</th>\n",
       "      <th>Unnamed: 3_level_10</th>\n",
       "      <th>Unnamed: 4_level_10</th>\n",
       "      <th>Unnamed: 5_level_10</th>\n",
       "    </tr>\n",
       "    <tr>\n",
       "      <th></th>\n",
       "      <th>Graphs are temporarily unavailable due to technical issues.</th>\n",
       "      <th>Unnamed: 1_level_11</th>\n",
       "      <th>Unnamed: 2_level_11</th>\n",
       "      <th>Unnamed: 3_level_11</th>\n",
       "      <th>Unnamed: 4_level_11</th>\n",
       "      <th>Unnamed: 5_level_11</th>\n",
       "    </tr>\n",
       "  </thead>\n",
       "  <tbody>\n",
       "    <tr>\n",
       "      <th>0</th>\n",
       "      <td>NaN</td>\n",
       "      <td>Graphs are temporarily unavailable due to tech...</td>\n",
       "      <td>NaN</td>\n",
       "      <td>NaN</td>\n",
       "      <td>NaN</td>\n",
       "      <td>NaN</td>\n",
       "    </tr>\n",
       "    <tr>\n",
       "      <th>1</th>\n",
       "      <td>1</td>\n",
       "      <td>China[B]</td>\n",
       "      <td>1270</td>\n",
       "      <td>1376</td>\n",
       "      <td>1416</td>\n",
       "      <td>NaN</td>\n",
       "    </tr>\n",
       "    <tr>\n",
       "      <th>2</th>\n",
       "      <td>2</td>\n",
       "      <td>India</td>\n",
       "      <td>1053</td>\n",
       "      <td>1311</td>\n",
       "      <td>1528</td>\n",
       "      <td>NaN</td>\n",
       "    </tr>\n",
       "    <tr>\n",
       "      <th>3</th>\n",
       "      <td>3</td>\n",
       "      <td>United States</td>\n",
       "      <td>283</td>\n",
       "      <td>322</td>\n",
       "      <td>356</td>\n",
       "      <td>NaN</td>\n",
       "    </tr>\n",
       "    <tr>\n",
       "      <th>4</th>\n",
       "      <td>4</td>\n",
       "      <td>Indonesia</td>\n",
       "      <td>212</td>\n",
       "      <td>258</td>\n",
       "      <td>295</td>\n",
       "      <td>NaN</td>\n",
       "    </tr>\n",
       "    <tr>\n",
       "      <th>5</th>\n",
       "      <td>5</td>\n",
       "      <td>Pakistan</td>\n",
       "      <td>136</td>\n",
       "      <td>208</td>\n",
       "      <td>245</td>\n",
       "      <td>NaN</td>\n",
       "    </tr>\n",
       "    <tr>\n",
       "      <th>6</th>\n",
       "      <td>6</td>\n",
       "      <td>Brazil</td>\n",
       "      <td>176</td>\n",
       "      <td>206</td>\n",
       "      <td>228</td>\n",
       "      <td>NaN</td>\n",
       "    </tr>\n",
       "    <tr>\n",
       "      <th>7</th>\n",
       "      <td>7</td>\n",
       "      <td>Nigeria</td>\n",
       "      <td>123</td>\n",
       "      <td>182</td>\n",
       "      <td>263</td>\n",
       "      <td>NaN</td>\n",
       "    </tr>\n",
       "    <tr>\n",
       "      <th>8</th>\n",
       "      <td>8</td>\n",
       "      <td>Bangladesh</td>\n",
       "      <td>131</td>\n",
       "      <td>161</td>\n",
       "      <td>186</td>\n",
       "      <td>NaN</td>\n",
       "    </tr>\n",
       "    <tr>\n",
       "      <th>9</th>\n",
       "      <td>9</td>\n",
       "      <td>Russia</td>\n",
       "      <td>146</td>\n",
       "      <td>146</td>\n",
       "      <td>149</td>\n",
       "      <td>NaN</td>\n",
       "    </tr>\n",
       "    <tr>\n",
       "      <th>10</th>\n",
       "      <td>10</td>\n",
       "      <td>Mexico</td>\n",
       "      <td>103</td>\n",
       "      <td>127</td>\n",
       "      <td>148</td>\n",
       "      <td>NaN</td>\n",
       "    </tr>\n",
       "    <tr>\n",
       "      <th>11</th>\n",
       "      <td>NaN</td>\n",
       "      <td>World total</td>\n",
       "      <td>6127</td>\n",
       "      <td>7349</td>\n",
       "      <td>8501</td>\n",
       "      <td>NaN</td>\n",
       "    </tr>\n",
       "    <tr>\n",
       "      <th>12</th>\n",
       "      <td>Notes: .mw-parser-output .reflist{font-size:90...</td>\n",
       "      <td>Notes: .mw-parser-output .reflist{font-size:90...</td>\n",
       "      <td>Notes: .mw-parser-output .reflist{font-size:90...</td>\n",
       "      <td>Notes: .mw-parser-output .reflist{font-size:90...</td>\n",
       "      <td>Notes: .mw-parser-output .reflist{font-size:90...</td>\n",
       "      <td>Notes: .mw-parser-output .reflist{font-size:90...</td>\n",
       "    </tr>\n",
       "  </tbody>\n",
       "</table>\n",
       "</div>"
      ],
      "text/plain": [
       "                                                             #  \\\n",
       "   Graphs are temporarily unavailable due to technical issues.   \n",
       "   Graphs are temporarily unavailable due to technical issues.   \n",
       "   Graphs are temporarily unavailable due to technical issues.   \n",
       "   Graphs are temporarily unavailable due to technical issues.   \n",
       "   Graphs are temporarily unavailable due to technical issues.   \n",
       "   Graphs are temporarily unavailable due to technical issues.   \n",
       "   Graphs are temporarily unavailable due to technical issues.   \n",
       "   Graphs are temporarily unavailable due to technical issues.   \n",
       "   Graphs are temporarily unavailable due to technical issues.   \n",
       "   Graphs are temporarily unavailable due to technical issues.   \n",
       "   Graphs are temporarily unavailable due to technical issues.   \n",
       "0                                                 NaN            \n",
       "1                                                   1            \n",
       "2                                                   2            \n",
       "3                                                   3            \n",
       "4                                                   4            \n",
       "5                                                   5            \n",
       "6                                                   6            \n",
       "7                                                   7            \n",
       "8                                                   8            \n",
       "9                                                   9            \n",
       "10                                                 10            \n",
       "11                                                NaN            \n",
       "12  Notes: .mw-parser-output .reflist{font-size:90...            \n",
       "\n",
       "                              Most populous countries  \\\n",
       "                                   Unnamed: 1_level_1   \n",
       "                                   Unnamed: 1_level_2   \n",
       "                                   Unnamed: 1_level_3   \n",
       "                                   Unnamed: 1_level_4   \n",
       "                                   Unnamed: 1_level_5   \n",
       "                                   Unnamed: 1_level_6   \n",
       "                                   Unnamed: 1_level_7   \n",
       "                                   Unnamed: 1_level_8   \n",
       "                                   Unnamed: 1_level_9   \n",
       "                                  Unnamed: 1_level_10   \n",
       "                                  Unnamed: 1_level_11   \n",
       "0   Graphs are temporarily unavailable due to tech...   \n",
       "1                                            China[B]   \n",
       "2                                               India   \n",
       "3                                       United States   \n",
       "4                                           Indonesia   \n",
       "5                                            Pakistan   \n",
       "6                                              Brazil   \n",
       "7                                             Nigeria   \n",
       "8                                          Bangladesh   \n",
       "9                                              Russia   \n",
       "10                                             Mexico   \n",
       "11                                        World total   \n",
       "12  Notes: .mw-parser-output .reflist{font-size:90...   \n",
       "\n",
       "                                                 2000  \\\n",
       "                                   Unnamed: 2_level_1   \n",
       "                                   Unnamed: 2_level_2   \n",
       "                                   Unnamed: 2_level_3   \n",
       "                                   Unnamed: 2_level_4   \n",
       "                                   Unnamed: 2_level_5   \n",
       "                                   Unnamed: 2_level_6   \n",
       "                                   Unnamed: 2_level_7   \n",
       "                                   Unnamed: 2_level_8   \n",
       "                                   Unnamed: 2_level_9   \n",
       "                                  Unnamed: 2_level_10   \n",
       "                                  Unnamed: 2_level_11   \n",
       "0                                                 NaN   \n",
       "1                                                1270   \n",
       "2                                                1053   \n",
       "3                                                 283   \n",
       "4                                                 212   \n",
       "5                                                 136   \n",
       "6                                                 176   \n",
       "7                                                 123   \n",
       "8                                                 131   \n",
       "9                                                 146   \n",
       "10                                                103   \n",
       "11                                               6127   \n",
       "12  Notes: .mw-parser-output .reflist{font-size:90...   \n",
       "\n",
       "                                                 2015  \\\n",
       "                                   Unnamed: 3_level_1   \n",
       "                                   Unnamed: 3_level_2   \n",
       "                                   Unnamed: 3_level_3   \n",
       "                                   Unnamed: 3_level_4   \n",
       "                                   Unnamed: 3_level_5   \n",
       "                                   Unnamed: 3_level_6   \n",
       "                                   Unnamed: 3_level_7   \n",
       "                                   Unnamed: 3_level_8   \n",
       "                                   Unnamed: 3_level_9   \n",
       "                                  Unnamed: 3_level_10   \n",
       "                                  Unnamed: 3_level_11   \n",
       "0                                                 NaN   \n",
       "1                                                1376   \n",
       "2                                                1311   \n",
       "3                                                 322   \n",
       "4                                                 258   \n",
       "5                                                 208   \n",
       "6                                                 206   \n",
       "7                                                 182   \n",
       "8                                                 161   \n",
       "9                                                 146   \n",
       "10                                                127   \n",
       "11                                               7349   \n",
       "12  Notes: .mw-parser-output .reflist{font-size:90...   \n",
       "\n",
       "                                              2030[A]  \\\n",
       "                                   Unnamed: 4_level_1   \n",
       "                                   Unnamed: 4_level_2   \n",
       "                                   Unnamed: 4_level_3   \n",
       "                                   Unnamed: 4_level_4   \n",
       "                                   Unnamed: 4_level_5   \n",
       "                                   Unnamed: 4_level_6   \n",
       "                                   Unnamed: 4_level_7   \n",
       "                                   Unnamed: 4_level_8   \n",
       "                                   Unnamed: 4_level_9   \n",
       "                                  Unnamed: 4_level_10   \n",
       "                                  Unnamed: 4_level_11   \n",
       "0                                                 NaN   \n",
       "1                                                1416   \n",
       "2                                                1528   \n",
       "3                                                 356   \n",
       "4                                                 295   \n",
       "5                                                 245   \n",
       "6                                                 228   \n",
       "7                                                 263   \n",
       "8                                                 186   \n",
       "9                                                 149   \n",
       "10                                                148   \n",
       "11                                               8501   \n",
       "12  Notes: .mw-parser-output .reflist{font-size:90...   \n",
       "\n",
       "   Graphs are temporarily unavailable due to technical issues.  \n",
       "                                            Unnamed: 5_level_1  \n",
       "                                            Unnamed: 5_level_2  \n",
       "                                            Unnamed: 5_level_3  \n",
       "                                            Unnamed: 5_level_4  \n",
       "                                            Unnamed: 5_level_5  \n",
       "                                            Unnamed: 5_level_6  \n",
       "                                            Unnamed: 5_level_7  \n",
       "                                            Unnamed: 5_level_8  \n",
       "                                            Unnamed: 5_level_9  \n",
       "                                           Unnamed: 5_level_10  \n",
       "                                           Unnamed: 5_level_11  \n",
       "0                                                 NaN           \n",
       "1                                                 NaN           \n",
       "2                                                 NaN           \n",
       "3                                                 NaN           \n",
       "4                                                 NaN           \n",
       "5                                                 NaN           \n",
       "6                                                 NaN           \n",
       "7                                                 NaN           \n",
       "8                                                 NaN           \n",
       "9                                                 NaN           \n",
       "10                                                NaN           \n",
       "11                                                NaN           \n",
       "12  Notes: .mw-parser-output .reflist{font-size:90...           "
      ]
     },
     "execution_count": 67,
     "metadata": {},
     "output_type": "execute_result"
    }
   ],
   "source": [
    "dataframe_list[5]"
   ]
  },
  {
   "cell_type": "markdown",
   "id": "43144855",
   "metadata": {
    "papermill": {
     "duration": 0.030687,
     "end_time": "2023-10-05T10:09:10.867886",
     "exception": false,
     "start_time": "2023-10-05T10:09:10.837199",
     "status": "completed"
    },
    "tags": []
   },
   "source": [
    "We can also use the `match` parameter to select the specific table we want. If the table contains a string matching the text it will be read.\n"
   ]
  },
  {
   "cell_type": "code",
   "execution_count": 68,
   "id": "83cc83ed",
   "metadata": {
    "execution": {
     "iopub.execute_input": "2023-10-05T10:09:10.932571Z",
     "iopub.status.busy": "2023-10-05T10:09:10.931285Z",
     "iopub.status.idle": "2023-10-05T10:09:12.167027Z",
     "shell.execute_reply": "2023-10-05T10:09:12.165865Z"
    },
    "papermill": {
     "duration": 1.271005,
     "end_time": "2023-10-05T10:09:12.169757",
     "exception": false,
     "start_time": "2023-10-05T10:09:10.898752",
     "status": "completed"
    },
    "tags": []
   },
   "outputs": [
    {
     "data": {
      "text/html": [
       "<div>\n",
       "<style scoped>\n",
       "    .dataframe tbody tr th:only-of-type {\n",
       "        vertical-align: middle;\n",
       "    }\n",
       "\n",
       "    .dataframe tbody tr th {\n",
       "        vertical-align: top;\n",
       "    }\n",
       "\n",
       "    .dataframe thead th {\n",
       "        text-align: right;\n",
       "    }\n",
       "</style>\n",
       "<table border=\"1\" class=\"dataframe\">\n",
       "  <thead>\n",
       "    <tr style=\"text-align: right;\">\n",
       "      <th></th>\n",
       "      <th>Rank</th>\n",
       "      <th>Country</th>\n",
       "      <th>Population</th>\n",
       "      <th>Area (km2)</th>\n",
       "      <th>Density (pop/km2)</th>\n",
       "    </tr>\n",
       "  </thead>\n",
       "  <tbody>\n",
       "    <tr>\n",
       "      <th>0</th>\n",
       "      <td>1</td>\n",
       "      <td>Singapore</td>\n",
       "      <td>5921231</td>\n",
       "      <td>719</td>\n",
       "      <td>8235</td>\n",
       "    </tr>\n",
       "    <tr>\n",
       "      <th>1</th>\n",
       "      <td>2</td>\n",
       "      <td>Bangladesh</td>\n",
       "      <td>165650475</td>\n",
       "      <td>148460</td>\n",
       "      <td>1116</td>\n",
       "    </tr>\n",
       "    <tr>\n",
       "      <th>2</th>\n",
       "      <td>3</td>\n",
       "      <td>Palestine[note 3][103]</td>\n",
       "      <td>5223000</td>\n",
       "      <td>6025</td>\n",
       "      <td>867</td>\n",
       "    </tr>\n",
       "    <tr>\n",
       "      <th>3</th>\n",
       "      <td>4</td>\n",
       "      <td>Taiwan[note 4]</td>\n",
       "      <td>23580712</td>\n",
       "      <td>35980</td>\n",
       "      <td>655</td>\n",
       "    </tr>\n",
       "    <tr>\n",
       "      <th>4</th>\n",
       "      <td>5</td>\n",
       "      <td>South Korea</td>\n",
       "      <td>51844834</td>\n",
       "      <td>99720</td>\n",
       "      <td>520</td>\n",
       "    </tr>\n",
       "    <tr>\n",
       "      <th>5</th>\n",
       "      <td>6</td>\n",
       "      <td>Lebanon</td>\n",
       "      <td>5296814</td>\n",
       "      <td>10400</td>\n",
       "      <td>509</td>\n",
       "    </tr>\n",
       "    <tr>\n",
       "      <th>6</th>\n",
       "      <td>7</td>\n",
       "      <td>Rwanda</td>\n",
       "      <td>13173730</td>\n",
       "      <td>26338</td>\n",
       "      <td>500</td>\n",
       "    </tr>\n",
       "    <tr>\n",
       "      <th>7</th>\n",
       "      <td>8</td>\n",
       "      <td>Burundi</td>\n",
       "      <td>12696478</td>\n",
       "      <td>27830</td>\n",
       "      <td>456</td>\n",
       "    </tr>\n",
       "    <tr>\n",
       "      <th>8</th>\n",
       "      <td>9</td>\n",
       "      <td>India</td>\n",
       "      <td>1389637446</td>\n",
       "      <td>3287263</td>\n",
       "      <td>423</td>\n",
       "    </tr>\n",
       "    <tr>\n",
       "      <th>9</th>\n",
       "      <td>10</td>\n",
       "      <td>Netherlands</td>\n",
       "      <td>17400824</td>\n",
       "      <td>41543</td>\n",
       "      <td>419</td>\n",
       "    </tr>\n",
       "  </tbody>\n",
       "</table>\n",
       "</div>"
      ],
      "text/plain": [
       "   Rank                 Country  Population  Area (km2)  Density (pop/km2)\n",
       "0     1               Singapore     5921231         719               8235\n",
       "1     2              Bangladesh   165650475      148460               1116\n",
       "2     3  Palestine[note 3][103]     5223000        6025                867\n",
       "3     4          Taiwan[note 4]    23580712       35980                655\n",
       "4     5             South Korea    51844834       99720                520\n",
       "5     6                 Lebanon     5296814       10400                509\n",
       "6     7                  Rwanda    13173730       26338                500\n",
       "7     8                 Burundi    12696478       27830                456\n",
       "8     9                   India  1389637446     3287263                423\n",
       "9    10             Netherlands    17400824       41543                419"
      ]
     },
     "execution_count": 68,
     "metadata": {},
     "output_type": "execute_result"
    }
   ],
   "source": [
    "pd.read_html(url, match=\"10 most densely populated countries\", flavor='bs4')[0]"
   ]
  },
  {
   "cell_type": "markdown",
   "id": "274b328f",
   "metadata": {
    "papermill": {
     "duration": 0.029116,
     "end_time": "2023-10-05T10:09:12.229841",
     "exception": false,
     "start_time": "2023-10-05T10:09:12.200725",
     "status": "completed"
    },
    "tags": []
   },
   "source": [
    "## Authors\n"
   ]
  },
  {
   "cell_type": "markdown",
   "id": "a429b232",
   "metadata": {
    "papermill": {
     "duration": 0.030293,
     "end_time": "2023-10-05T10:09:12.289790",
     "exception": false,
     "start_time": "2023-10-05T10:09:12.259497",
     "status": "completed"
    },
    "tags": []
   },
   "source": [
    "Ramesh Sannareddy\n"
   ]
  },
  {
   "cell_type": "markdown",
   "id": "cc537216",
   "metadata": {
    "papermill": {
     "duration": 0.029117,
     "end_time": "2023-10-05T10:09:12.348639",
     "exception": false,
     "start_time": "2023-10-05T10:09:12.319522",
     "status": "completed"
    },
    "tags": []
   },
   "source": [
    "### Other Contributors\n"
   ]
  },
  {
   "cell_type": "markdown",
   "id": "fb477a0e",
   "metadata": {
    "papermill": {
     "duration": 0.029025,
     "end_time": "2023-10-05T10:09:12.406885",
     "exception": false,
     "start_time": "2023-10-05T10:09:12.377860",
     "status": "completed"
    },
    "tags": []
   },
   "source": [
    "Rav Ahuja\n"
   ]
  },
  {
   "cell_type": "markdown",
   "id": "26097c04",
   "metadata": {
    "papermill": {
     "duration": 0.031721,
     "end_time": "2023-10-05T10:09:12.470689",
     "exception": false,
     "start_time": "2023-10-05T10:09:12.438968",
     "status": "completed"
    },
    "tags": []
   },
   "source": [
    "## Change Log\n"
   ]
  },
  {
   "cell_type": "markdown",
   "id": "c8c01eb6",
   "metadata": {
    "papermill": {
     "duration": 0.030121,
     "end_time": "2023-10-05T10:09:12.530954",
     "exception": false,
     "start_time": "2023-10-05T10:09:12.500833",
     "status": "completed"
    },
    "tags": []
   },
   "source": [
    "| Date (YYYY-MM-DD) | Version | Changed By                                               | Change Description |\n",
    "| ----------------- | ------- | -------------------------------------------------------- | ------------------ |\n",
    "| 2021-08-04        | 0.2     | Made changes to markdown of nextsibling                  |                    |\n",
    "| 2020-10-17        | 0.1     | Joseph Santarcangelo  Created initial version of the lab |                    |\n"
   ]
  },
  {
   "cell_type": "markdown",
   "id": "de678011",
   "metadata": {
    "papermill": {
     "duration": 0.029793,
     "end_time": "2023-10-05T10:09:12.591412",
     "exception": false,
     "start_time": "2023-10-05T10:09:12.561619",
     "status": "completed"
    },
    "tags": []
   },
   "source": [
    "Copyright © 2020 IBM Corporation. This notebook and its source code are released under the terms of the [MIT License](https://cognitiveclass.ai/mit-license?utm_medium=Exinfluencer&utm_source=Exinfluencer&utm_content=000026UJ&utm_term=10006555&utm_id=NA-SkillsNetwork-Channel-SkillsNetworkCoursesIBMDeveloperSkillsNetworkPY0220ENSkillsNetwork23455606-2021-01-01&cm_mmc=Email_Newsletter-_-Developer_Ed%2BTech-_-WW_WW-_-SkillsNetwork-Courses-IBMDeveloperSkillsNetwork-PY0101EN-SkillsNetwork-19487395&cm_mmca1=000026UJ&cm_mmca2=10006555&cm_mmca3=M12345678&cvosrc=email.Newsletter.M12345678&cvo_campaign=000026UJ).\n"
   ]
  },
  {
   "cell_type": "code",
   "execution_count": null,
   "id": "f19ca494",
   "metadata": {
    "papermill": {
     "duration": 0.030741,
     "end_time": "2023-10-05T10:09:12.653080",
     "exception": false,
     "start_time": "2023-10-05T10:09:12.622339",
     "status": "completed"
    },
    "tags": []
   },
   "outputs": [],
   "source": []
  }
 ],
 "metadata": {
  "kernelspec": {
   "display_name": "Python 3",
   "language": "python",
   "name": "python3"
  },
  "language_info": {
   "codemirror_mode": {
    "name": "ipython",
    "version": 3
   },
   "file_extension": ".py",
   "mimetype": "text/x-python",
   "name": "python",
   "nbconvert_exporter": "python",
   "pygments_lexer": "ipython3",
   "version": "3.10.12"
  },
  "papermill": {
   "default_parameters": {},
   "duration": 18.375576,
   "end_time": "2023-10-05T10:09:13.406132",
   "environment_variables": {},
   "exception": null,
   "input_path": "__notebook__.ipynb",
   "output_path": "__notebook__.ipynb",
   "parameters": {},
   "start_time": "2023-10-05T10:08:55.030556",
   "version": "2.4.0"
  }
 },
 "nbformat": 4,
 "nbformat_minor": 5
}

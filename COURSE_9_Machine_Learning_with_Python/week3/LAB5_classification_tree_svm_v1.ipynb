{
 "cells": [
  {
   "cell_type": "markdown",
   "id": "4a956936",
   "metadata": {
    "papermill": {
     "duration": 0.0163,
     "end_time": "2024-08-21T07:56:45.898598",
     "exception": false,
     "start_time": "2024-08-21T07:56:45.882298",
     "status": "completed"
    },
    "tags": []
   },
   "source": [
    "<p style=\"text-align:center\">\n",
    "    <a href=\"https://skills.network/?utm_medium=Exinfluencer&utm_source=Exinfluencer&utm_content=000026UJ&utm_term=10006555&utm_id=NA-SkillsNetwork-Channel-SkillsNetworkCoursesIBMDeveloperSkillsNetworkML0101ENCoursera973-2023-01-01\">\n",
    "    <img src=\"https://cf-courses-data.s3.us.cloud-object-storage.appdomain.cloud/assets/logos/SN_web_lightmode.png\" width=\"200\" alt=\"Skills Network Logo\"  />\n",
    "    </a>\n",
    "</p>\n"
   ]
  },
  {
   "cell_type": "markdown",
   "id": "a6b8ec1a",
   "metadata": {
    "papermill": {
     "duration": 0.014441,
     "end_time": "2024-08-21T07:56:45.927824",
     "exception": false,
     "start_time": "2024-08-21T07:56:45.913383",
     "status": "completed"
    },
    "tags": []
   },
   "source": [
    "# **Credit Card Fraud Detection using Scikit-Learn and Snap ML**\n"
   ]
  },
  {
   "cell_type": "markdown",
   "id": "b6aedbd4",
   "metadata": {
    "papermill": {
     "duration": 0.01429,
     "end_time": "2024-08-21T07:56:45.956713",
     "exception": false,
     "start_time": "2024-08-21T07:56:45.942423",
     "status": "completed"
    },
    "tags": []
   },
   "source": [
    "Estimated time needed: **30** minutes\n"
   ]
  },
  {
   "cell_type": "markdown",
   "id": "cd959b7f",
   "metadata": {
    "papermill": {
     "duration": 0.014341,
     "end_time": "2024-08-21T07:56:45.985861",
     "exception": false,
     "start_time": "2024-08-21T07:56:45.971520",
     "status": "completed"
    },
    "tags": []
   },
   "source": [
    "In this exercise session you will consolidate your machine learning (ML) modeling skills by using two popular classification models to recognize fraudulent credit card transactions. These models are: Decision Tree and Support Vector Machine. You will use a real dataset to train each of these models. The dataset includes information about\n",
    "transactions made by credit cards in September 2013 by European cardholders. You will use the trained model to assess if a credit card transaction is legitimate or not.\n",
    "\n",
    "In the current exercise session, you will practice not only the Scikit-Learn Python interface, but also the Python API offered by the Snap Machine Learning (Snap ML) library. Snap ML is a high-performance IBM library for ML modeling. It provides highly-efficient CPU/GPU implementations of linear models and tree-based models. Snap ML not only accelerates ML algorithms through system awareness, but it also offers novel ML algorithms with best-in-class accuracy. For more information, please visit [https://www.zurich.ibm.com/snapml/](https://www.zurich.ibm.com/snapml/?utm_source=Exinfluencer&utm_content=000026UJ&utm_id=NA-SkillsNetwork-Channel-SkillsNetworkCoursesIBMDeveloperSkillsNetworkML0101ENCoursera20231514-2021-01-01&utm_medium=Exinfluencer&utm_term=10006555).\n"
   ]
  },
  {
   "cell_type": "markdown",
   "id": "b003ada7",
   "metadata": {
    "papermill": {
     "duration": 0.014569,
     "end_time": "2024-08-21T07:56:46.016213",
     "exception": false,
     "start_time": "2024-08-21T07:56:46.001644",
     "status": "completed"
    },
    "tags": []
   },
   "source": [
    "## Objectives\n"
   ]
  },
  {
   "cell_type": "markdown",
   "id": "97f55194",
   "metadata": {
    "papermill": {
     "duration": 0.014481,
     "end_time": "2024-08-21T07:56:46.045606",
     "exception": false,
     "start_time": "2024-08-21T07:56:46.031125",
     "status": "completed"
    },
    "tags": []
   },
   "source": [
    "After completing this lab you will be able to:\n"
   ]
  },
  {
   "cell_type": "markdown",
   "id": "9c02fbb7",
   "metadata": {
    "papermill": {
     "duration": 0.014368,
     "end_time": "2024-08-21T07:56:46.074873",
     "exception": false,
     "start_time": "2024-08-21T07:56:46.060505",
     "status": "completed"
    },
    "tags": []
   },
   "source": [
    "*   Perform basic data preprocessing in Python\n",
    "*   Model a classification task using the Scikit-Learn and Snap ML Python APIs\n",
    "*   Train Suppport Vector Machine and Decision Tree models using Scikit-Learn and Snap ML\n",
    "*   Run inference and assess the quality of the trained models\n"
   ]
  },
  {
   "cell_type": "markdown",
   "id": "a1814847",
   "metadata": {
    "papermill": {
     "duration": 0.014696,
     "end_time": "2024-08-21T07:56:46.104419",
     "exception": false,
     "start_time": "2024-08-21T07:56:46.089723",
     "status": "completed"
    },
    "tags": []
   },
   "source": [
    "## Table of Contents\n"
   ]
  },
  {
   "cell_type": "markdown",
   "id": "23084769",
   "metadata": {
    "papermill": {
     "duration": 0.014329,
     "end_time": "2024-08-21T07:56:46.133903",
     "exception": false,
     "start_time": "2024-08-21T07:56:46.119574",
     "status": "completed"
    },
    "tags": []
   },
   "source": [
    "<div class=\"alert alert-block alert-info\" style=\"margin-top: 10px\">\n",
    "    <ol>\n",
    "        <li><a href=\"https://#introduction\">Introduction</a></li>\n",
    "        <li><a href=\"https://#import_libraries\">Import Libraries</a></li>\n",
    "        <li><a href=\"https://#dataset_analysis\">Dataset Analysis</a></li>\n",
    "        <li><a href=\"https://#dataset_preprocessing\">Dataset Preprocessing</a></li>\n",
    "        <li><a href=\"https://#dataset_split\">Dataset Train/Test Split</a></li>\n",
    "        <li><a href=\"https://#dt_sklearn\">Build a Decision Tree Classifier model with Scikit-Learn</a></li>\n",
    "        <li><a href=\"https://#dt_snap\">Build a Decision Tree Classifier model with Snap ML</a></li>\n",
    "        <li><a href=\"https://#dt_sklearn_snap\">Evaluate the Scikit-Learn and Snap ML Decision Tree Classifiers</a></li>\n",
    "        <li><a href=\"https://#svm_sklearn\">Build a Support Vector Machine model with Scikit-Learn</a></li>\n",
    "        <li><a href=\"https://#svm_snap\">Build a Support Vector Machine model with Snap ML</a></li>\n",
    "        <li><a href=\"https://#svm_sklearn_snap\">Evaluate the Scikit-Learn and Snap ML Support Vector Machine Models</a></li>\n",
    "    </ol>\n",
    "</div>\n",
    "<br>\n",
    "<hr>\n"
   ]
  },
  {
   "cell_type": "markdown",
   "id": "504513ba",
   "metadata": {
    "papermill": {
     "duration": 0.014234,
     "end_time": "2024-08-21T07:56:46.162680",
     "exception": false,
     "start_time": "2024-08-21T07:56:46.148446",
     "status": "completed"
    },
    "tags": []
   },
   "source": [
    "Imagine that you work for a financial institution and part of your job is to build a model that predicts if a credit card transaction is fraudulent or not. You can model the problem as a binary classification problem. A transaction belongs to the positive class (1) if it is a fraud, otherwise it belongs to the negative class (0).\n",
    "\n",
    "\n",
    "You have access to transactions that occured over a certain period of time. The majority of the transactions are normally legitimate and only a small fraction are non-legitimate. Thus, typically you have access to a dataset that is highly unbalanced. This is also the case of the current dataset: only 492 transactions out of 284,807 are fraudulent (the positive class - the frauds - accounts for 0.172% of all transactions).\n",
    "\n",
    "\n",
    "To train the model you can use part of the input dataset and the remaining data can be used to assess the quality of the trained model. First, let's import the libraries we need.\n"
   ]
  },
  {
   "cell_type": "markdown",
   "id": "7f57af40",
   "metadata": {
    "papermill": {
     "duration": 0.01418,
     "end_time": "2024-08-21T07:56:46.191426",
     "exception": false,
     "start_time": "2024-08-21T07:56:46.177246",
     "status": "completed"
    },
    "tags": []
   },
   "source": [
    "**Did you know?** When it comes to Machine Learning, you will most likely be working with large datasets. As a business, where can you host your data? IBM is offering a unique opportunity for businesses, with 10 Tb of IBM Cloud Object Storage: [Sign up now for free](http://cocl.us/ML0101EN-IBM-Offer-CC)\n"
   ]
  },
  {
   "cell_type": "markdown",
   "id": "2892a938",
   "metadata": {
    "papermill": {
     "duration": 0.014621,
     "end_time": "2024-08-21T07:56:46.220547",
     "exception": false,
     "start_time": "2024-08-21T07:56:46.205926",
     "status": "completed"
    },
    "tags": []
   },
   "source": [
    "<div id=\"import_libraries\">\n",
    "    <h2>Import Libraries</h2>\n",
    "</div>\n"
   ]
  },
  {
   "cell_type": "code",
   "execution_count": 1,
   "id": "819abf02",
   "metadata": {
    "execution": {
     "iopub.execute_input": "2024-08-21T07:56:46.252349Z",
     "iopub.status.busy": "2024-08-21T07:56:46.251318Z",
     "iopub.status.idle": "2024-08-21T07:57:03.966958Z",
     "shell.execute_reply": "2024-08-21T07:57:03.965610Z"
    },
    "papermill": {
     "duration": 17.734663,
     "end_time": "2024-08-21T07:57:03.969820",
     "exception": false,
     "start_time": "2024-08-21T07:56:46.235157",
     "status": "completed"
    },
    "tags": []
   },
   "outputs": [
    {
     "name": "stdout",
     "output_type": "stream",
     "text": [
      "Collecting snapml\r\n",
      "  Downloading snapml-1.16.0-cp310-cp310-manylinux_2_28_x86_64.whl.metadata (1.7 kB)\r\n",
      "Requirement already satisfied: scikit-learn in /opt/conda/lib/python3.10/site-packages (from snapml) (1.2.2)\r\n",
      "Requirement already satisfied: scipy in /opt/conda/lib/python3.10/site-packages (from snapml) (1.11.4)\r\n",
      "Requirement already satisfied: numpy<2.0.0,>=1.21.3 in /opt/conda/lib/python3.10/site-packages (from snapml) (1.26.4)\r\n",
      "Requirement already satisfied: joblib>=1.1.1 in /opt/conda/lib/python3.10/site-packages (from scikit-learn->snapml) (1.4.2)\r\n",
      "Requirement already satisfied: threadpoolctl>=2.0.0 in /opt/conda/lib/python3.10/site-packages (from scikit-learn->snapml) (3.2.0)\r\n",
      "Downloading snapml-1.16.0-cp310-cp310-manylinux_2_28_x86_64.whl (7.8 MB)\r\n",
      "\u001b[2K   \u001b[90m━━━━━━━━━━━━━━━━━━━━━━━━━━━━━━━━━━━━━━━━\u001b[0m \u001b[32m7.8/7.8 MB\u001b[0m \u001b[31m14.9 MB/s\u001b[0m eta \u001b[36m0:00:00\u001b[0m\r\n",
      "\u001b[?25hInstalling collected packages: snapml\r\n",
      "Successfully installed snapml-1.16.0\r\n"
     ]
    }
   ],
   "source": [
    "# Snap ML is available on PyPI. To install it simply run the pip command below.\n",
    "!pip install snapml"
   ]
  },
  {
   "cell_type": "code",
   "execution_count": 2,
   "id": "b73363f1",
   "metadata": {
    "execution": {
     "iopub.execute_input": "2024-08-21T07:57:04.005244Z",
     "iopub.status.busy": "2024-08-21T07:57:04.004185Z",
     "iopub.status.idle": "2024-08-21T07:57:06.345280Z",
     "shell.execute_reply": "2024-08-21T07:57:06.344098Z"
    },
    "papermill": {
     "duration": 2.361891,
     "end_time": "2024-08-21T07:57:06.348254",
     "exception": false,
     "start_time": "2024-08-21T07:57:03.986363",
     "status": "completed"
    },
    "tags": []
   },
   "outputs": [],
   "source": [
    "# Import the libraries we need to use in this lab\n",
    "from __future__ import print_function\n",
    "import numpy as np\n",
    "import pandas as pd\n",
    "import matplotlib.pyplot as plt\n",
    "%matplotlib inline\n",
    "from sklearn.model_selection import train_test_split\n",
    "from sklearn.preprocessing import normalize, StandardScaler\n",
    "from sklearn.utils.class_weight import compute_sample_weight\n",
    "from sklearn.metrics import roc_auc_score\n",
    "import time\n",
    "import warnings\n",
    "warnings.filterwarnings('ignore')"
   ]
  },
  {
   "cell_type": "markdown",
   "id": "48c87680",
   "metadata": {
    "papermill": {
     "duration": 0.015809,
     "end_time": "2024-08-21T07:57:06.380430",
     "exception": false,
     "start_time": "2024-08-21T07:57:06.364621",
     "status": "completed"
    },
    "tags": []
   },
   "source": [
    "<div id=\"dataset_analysis\">\n",
    "    <h2>Dataset Analysis</h2>\n",
    "</div>\n"
   ]
  },
  {
   "cell_type": "markdown",
   "id": "9abe2082",
   "metadata": {
    "papermill": {
     "duration": 0.016264,
     "end_time": "2024-08-21T07:57:06.414081",
     "exception": false,
     "start_time": "2024-08-21T07:57:06.397817",
     "status": "completed"
    },
    "tags": []
   },
   "source": [
    "In this section you will read the dataset in a Pandas dataframe and visualize its content. You will also look at some data statistics.\n",
    "\n",
    "Note: A Pandas dataframe is a two-dimensional, size-mutable, potentially heterogeneous tabular data structure. For more information: [https://pandas.pydata.org/docs/reference/api/pandas.DataFrame.html](https://pandas.pydata.org/docs/reference/api/pandas.DataFrame.html?utm_medium=Exinfluencer&utm_source=Exinfluencer&utm_content=000026UJ&utm_term=10006555&utm_id=NA-SkillsNetwork-Channel-SkillsNetworkCoursesIBMDeveloperSkillsNetworkML0101ENCoursera20231514-2021-01-01).\n"
   ]
  },
  {
   "cell_type": "code",
   "execution_count": 3,
   "id": "f1905bc1",
   "metadata": {
    "execution": {
     "iopub.execute_input": "2024-08-21T07:57:06.449777Z",
     "iopub.status.busy": "2024-08-21T07:57:06.448647Z",
     "iopub.status.idle": "2024-08-21T07:57:15.097629Z",
     "shell.execute_reply": "2024-08-21T07:57:15.096176Z"
    },
    "papermill": {
     "duration": 8.669457,
     "end_time": "2024-08-21T07:57:15.100289",
     "exception": false,
     "start_time": "2024-08-21T07:57:06.430832",
     "status": "completed"
    },
    "tags": []
   },
   "outputs": [
    {
     "name": "stdout",
     "output_type": "stream",
     "text": [
      "There are 284807 observations in the credit card fraud dataset.\n",
      "There are 31 variables in the dataset.\n"
     ]
    },
    {
     "data": {
      "text/html": [
       "<div>\n",
       "<style scoped>\n",
       "    .dataframe tbody tr th:only-of-type {\n",
       "        vertical-align: middle;\n",
       "    }\n",
       "\n",
       "    .dataframe tbody tr th {\n",
       "        vertical-align: top;\n",
       "    }\n",
       "\n",
       "    .dataframe thead th {\n",
       "        text-align: right;\n",
       "    }\n",
       "</style>\n",
       "<table border=\"1\" class=\"dataframe\">\n",
       "  <thead>\n",
       "    <tr style=\"text-align: right;\">\n",
       "      <th></th>\n",
       "      <th>Time</th>\n",
       "      <th>V1</th>\n",
       "      <th>V2</th>\n",
       "      <th>V3</th>\n",
       "      <th>V4</th>\n",
       "      <th>V5</th>\n",
       "      <th>V6</th>\n",
       "      <th>V7</th>\n",
       "      <th>V8</th>\n",
       "      <th>V9</th>\n",
       "      <th>...</th>\n",
       "      <th>V21</th>\n",
       "      <th>V22</th>\n",
       "      <th>V23</th>\n",
       "      <th>V24</th>\n",
       "      <th>V25</th>\n",
       "      <th>V26</th>\n",
       "      <th>V27</th>\n",
       "      <th>V28</th>\n",
       "      <th>Amount</th>\n",
       "      <th>Class</th>\n",
       "    </tr>\n",
       "  </thead>\n",
       "  <tbody>\n",
       "    <tr>\n",
       "      <th>0</th>\n",
       "      <td>0.0</td>\n",
       "      <td>-1.359807</td>\n",
       "      <td>-0.072781</td>\n",
       "      <td>2.536347</td>\n",
       "      <td>1.378155</td>\n",
       "      <td>-0.338321</td>\n",
       "      <td>0.462388</td>\n",
       "      <td>0.239599</td>\n",
       "      <td>0.098698</td>\n",
       "      <td>0.363787</td>\n",
       "      <td>...</td>\n",
       "      <td>-0.018307</td>\n",
       "      <td>0.277838</td>\n",
       "      <td>-0.110474</td>\n",
       "      <td>0.066928</td>\n",
       "      <td>0.128539</td>\n",
       "      <td>-0.189115</td>\n",
       "      <td>0.133558</td>\n",
       "      <td>-0.021053</td>\n",
       "      <td>149.62</td>\n",
       "      <td>0</td>\n",
       "    </tr>\n",
       "    <tr>\n",
       "      <th>1</th>\n",
       "      <td>0.0</td>\n",
       "      <td>1.191857</td>\n",
       "      <td>0.266151</td>\n",
       "      <td>0.166480</td>\n",
       "      <td>0.448154</td>\n",
       "      <td>0.060018</td>\n",
       "      <td>-0.082361</td>\n",
       "      <td>-0.078803</td>\n",
       "      <td>0.085102</td>\n",
       "      <td>-0.255425</td>\n",
       "      <td>...</td>\n",
       "      <td>-0.225775</td>\n",
       "      <td>-0.638672</td>\n",
       "      <td>0.101288</td>\n",
       "      <td>-0.339846</td>\n",
       "      <td>0.167170</td>\n",
       "      <td>0.125895</td>\n",
       "      <td>-0.008983</td>\n",
       "      <td>0.014724</td>\n",
       "      <td>2.69</td>\n",
       "      <td>0</td>\n",
       "    </tr>\n",
       "    <tr>\n",
       "      <th>2</th>\n",
       "      <td>1.0</td>\n",
       "      <td>-1.358354</td>\n",
       "      <td>-1.340163</td>\n",
       "      <td>1.773209</td>\n",
       "      <td>0.379780</td>\n",
       "      <td>-0.503198</td>\n",
       "      <td>1.800499</td>\n",
       "      <td>0.791461</td>\n",
       "      <td>0.247676</td>\n",
       "      <td>-1.514654</td>\n",
       "      <td>...</td>\n",
       "      <td>0.247998</td>\n",
       "      <td>0.771679</td>\n",
       "      <td>0.909412</td>\n",
       "      <td>-0.689281</td>\n",
       "      <td>-0.327642</td>\n",
       "      <td>-0.139097</td>\n",
       "      <td>-0.055353</td>\n",
       "      <td>-0.059752</td>\n",
       "      <td>378.66</td>\n",
       "      <td>0</td>\n",
       "    </tr>\n",
       "    <tr>\n",
       "      <th>3</th>\n",
       "      <td>1.0</td>\n",
       "      <td>-0.966272</td>\n",
       "      <td>-0.185226</td>\n",
       "      <td>1.792993</td>\n",
       "      <td>-0.863291</td>\n",
       "      <td>-0.010309</td>\n",
       "      <td>1.247203</td>\n",
       "      <td>0.237609</td>\n",
       "      <td>0.377436</td>\n",
       "      <td>-1.387024</td>\n",
       "      <td>...</td>\n",
       "      <td>-0.108300</td>\n",
       "      <td>0.005274</td>\n",
       "      <td>-0.190321</td>\n",
       "      <td>-1.175575</td>\n",
       "      <td>0.647376</td>\n",
       "      <td>-0.221929</td>\n",
       "      <td>0.062723</td>\n",
       "      <td>0.061458</td>\n",
       "      <td>123.50</td>\n",
       "      <td>0</td>\n",
       "    </tr>\n",
       "    <tr>\n",
       "      <th>4</th>\n",
       "      <td>2.0</td>\n",
       "      <td>-1.158233</td>\n",
       "      <td>0.877737</td>\n",
       "      <td>1.548718</td>\n",
       "      <td>0.403034</td>\n",
       "      <td>-0.407193</td>\n",
       "      <td>0.095921</td>\n",
       "      <td>0.592941</td>\n",
       "      <td>-0.270533</td>\n",
       "      <td>0.817739</td>\n",
       "      <td>...</td>\n",
       "      <td>-0.009431</td>\n",
       "      <td>0.798278</td>\n",
       "      <td>-0.137458</td>\n",
       "      <td>0.141267</td>\n",
       "      <td>-0.206010</td>\n",
       "      <td>0.502292</td>\n",
       "      <td>0.219422</td>\n",
       "      <td>0.215153</td>\n",
       "      <td>69.99</td>\n",
       "      <td>0</td>\n",
       "    </tr>\n",
       "  </tbody>\n",
       "</table>\n",
       "<p>5 rows × 31 columns</p>\n",
       "</div>"
      ],
      "text/plain": [
       "   Time        V1        V2        V3        V4        V5        V6        V7  \\\n",
       "0   0.0 -1.359807 -0.072781  2.536347  1.378155 -0.338321  0.462388  0.239599   \n",
       "1   0.0  1.191857  0.266151  0.166480  0.448154  0.060018 -0.082361 -0.078803   \n",
       "2   1.0 -1.358354 -1.340163  1.773209  0.379780 -0.503198  1.800499  0.791461   \n",
       "3   1.0 -0.966272 -0.185226  1.792993 -0.863291 -0.010309  1.247203  0.237609   \n",
       "4   2.0 -1.158233  0.877737  1.548718  0.403034 -0.407193  0.095921  0.592941   \n",
       "\n",
       "         V8        V9  ...       V21       V22       V23       V24       V25  \\\n",
       "0  0.098698  0.363787  ... -0.018307  0.277838 -0.110474  0.066928  0.128539   \n",
       "1  0.085102 -0.255425  ... -0.225775 -0.638672  0.101288 -0.339846  0.167170   \n",
       "2  0.247676 -1.514654  ...  0.247998  0.771679  0.909412 -0.689281 -0.327642   \n",
       "3  0.377436 -1.387024  ... -0.108300  0.005274 -0.190321 -1.175575  0.647376   \n",
       "4 -0.270533  0.817739  ... -0.009431  0.798278 -0.137458  0.141267 -0.206010   \n",
       "\n",
       "        V26       V27       V28  Amount  Class  \n",
       "0 -0.189115  0.133558 -0.021053  149.62      0  \n",
       "1  0.125895 -0.008983  0.014724    2.69      0  \n",
       "2 -0.139097 -0.055353 -0.059752  378.66      0  \n",
       "3 -0.221929  0.062723  0.061458  123.50      0  \n",
       "4  0.502292  0.219422  0.215153   69.99      0  \n",
       "\n",
       "[5 rows x 31 columns]"
      ]
     },
     "execution_count": 3,
     "metadata": {},
     "output_type": "execute_result"
    }
   ],
   "source": [
    "# read the input data\n",
    "raw_data = pd.read_csv('https://cf-courses-data.s3.us.cloud-object-storage.appdomain.cloud/IBMDeveloperSkillsNetwork-ML0101EN-Coursera/labs/Data_files/creditcard.csv')\n",
    "print(\"There are \" + str(len(raw_data)) + \" observations in the credit card fraud dataset.\")\n",
    "print(\"There are \" + str(len(raw_data.columns)) + \" variables in the dataset.\")\n",
    "\n",
    "# display the first rows in the dataset\n",
    "raw_data.head()"
   ]
  },
  {
   "cell_type": "markdown",
   "id": "eef1b515",
   "metadata": {
    "papermill": {
     "duration": 0.016393,
     "end_time": "2024-08-21T07:57:15.133664",
     "exception": false,
     "start_time": "2024-08-21T07:57:15.117271",
     "status": "completed"
    },
    "tags": []
   },
   "source": [
    "In practice, a financial institution may have access to a much larger dataset of transactions. To simulate such a case, we will inflate the original one 10 times.\n"
   ]
  },
  {
   "cell_type": "code",
   "execution_count": 4,
   "id": "f15495c5",
   "metadata": {
    "execution": {
     "iopub.execute_input": "2024-08-21T07:57:15.168635Z",
     "iopub.status.busy": "2024-08-21T07:57:15.168209Z",
     "iopub.status.idle": "2024-08-21T07:57:15.512080Z",
     "shell.execute_reply": "2024-08-21T07:57:15.511022Z"
    },
    "papermill": {
     "duration": 0.364367,
     "end_time": "2024-08-21T07:57:15.514651",
     "exception": false,
     "start_time": "2024-08-21T07:57:15.150284",
     "status": "completed"
    },
    "tags": []
   },
   "outputs": [
    {
     "name": "stdout",
     "output_type": "stream",
     "text": [
      "There are 2848070 observations in the inflated credit card fraud dataset.\n",
      "There are 31 variables in the dataset.\n"
     ]
    },
    {
     "data": {
      "text/html": [
       "<div>\n",
       "<style scoped>\n",
       "    .dataframe tbody tr th:only-of-type {\n",
       "        vertical-align: middle;\n",
       "    }\n",
       "\n",
       "    .dataframe tbody tr th {\n",
       "        vertical-align: top;\n",
       "    }\n",
       "\n",
       "    .dataframe thead th {\n",
       "        text-align: right;\n",
       "    }\n",
       "</style>\n",
       "<table border=\"1\" class=\"dataframe\">\n",
       "  <thead>\n",
       "    <tr style=\"text-align: right;\">\n",
       "      <th></th>\n",
       "      <th>Time</th>\n",
       "      <th>V1</th>\n",
       "      <th>V2</th>\n",
       "      <th>V3</th>\n",
       "      <th>V4</th>\n",
       "      <th>V5</th>\n",
       "      <th>V6</th>\n",
       "      <th>V7</th>\n",
       "      <th>V8</th>\n",
       "      <th>V9</th>\n",
       "      <th>...</th>\n",
       "      <th>V21</th>\n",
       "      <th>V22</th>\n",
       "      <th>V23</th>\n",
       "      <th>V24</th>\n",
       "      <th>V25</th>\n",
       "      <th>V26</th>\n",
       "      <th>V27</th>\n",
       "      <th>V28</th>\n",
       "      <th>Amount</th>\n",
       "      <th>Class</th>\n",
       "    </tr>\n",
       "  </thead>\n",
       "  <tbody>\n",
       "    <tr>\n",
       "      <th>0</th>\n",
       "      <td>0.0</td>\n",
       "      <td>-1.359807</td>\n",
       "      <td>-0.072781</td>\n",
       "      <td>2.536347</td>\n",
       "      <td>1.378155</td>\n",
       "      <td>-0.338321</td>\n",
       "      <td>0.462388</td>\n",
       "      <td>0.239599</td>\n",
       "      <td>0.098698</td>\n",
       "      <td>0.363787</td>\n",
       "      <td>...</td>\n",
       "      <td>-0.018307</td>\n",
       "      <td>0.277838</td>\n",
       "      <td>-0.110474</td>\n",
       "      <td>0.066928</td>\n",
       "      <td>0.128539</td>\n",
       "      <td>-0.189115</td>\n",
       "      <td>0.133558</td>\n",
       "      <td>-0.021053</td>\n",
       "      <td>149.62</td>\n",
       "      <td>0.0</td>\n",
       "    </tr>\n",
       "    <tr>\n",
       "      <th>1</th>\n",
       "      <td>0.0</td>\n",
       "      <td>-1.359807</td>\n",
       "      <td>-0.072781</td>\n",
       "      <td>2.536347</td>\n",
       "      <td>1.378155</td>\n",
       "      <td>-0.338321</td>\n",
       "      <td>0.462388</td>\n",
       "      <td>0.239599</td>\n",
       "      <td>0.098698</td>\n",
       "      <td>0.363787</td>\n",
       "      <td>...</td>\n",
       "      <td>-0.018307</td>\n",
       "      <td>0.277838</td>\n",
       "      <td>-0.110474</td>\n",
       "      <td>0.066928</td>\n",
       "      <td>0.128539</td>\n",
       "      <td>-0.189115</td>\n",
       "      <td>0.133558</td>\n",
       "      <td>-0.021053</td>\n",
       "      <td>149.62</td>\n",
       "      <td>0.0</td>\n",
       "    </tr>\n",
       "    <tr>\n",
       "      <th>2</th>\n",
       "      <td>0.0</td>\n",
       "      <td>-1.359807</td>\n",
       "      <td>-0.072781</td>\n",
       "      <td>2.536347</td>\n",
       "      <td>1.378155</td>\n",
       "      <td>-0.338321</td>\n",
       "      <td>0.462388</td>\n",
       "      <td>0.239599</td>\n",
       "      <td>0.098698</td>\n",
       "      <td>0.363787</td>\n",
       "      <td>...</td>\n",
       "      <td>-0.018307</td>\n",
       "      <td>0.277838</td>\n",
       "      <td>-0.110474</td>\n",
       "      <td>0.066928</td>\n",
       "      <td>0.128539</td>\n",
       "      <td>-0.189115</td>\n",
       "      <td>0.133558</td>\n",
       "      <td>-0.021053</td>\n",
       "      <td>149.62</td>\n",
       "      <td>0.0</td>\n",
       "    </tr>\n",
       "    <tr>\n",
       "      <th>3</th>\n",
       "      <td>0.0</td>\n",
       "      <td>-1.359807</td>\n",
       "      <td>-0.072781</td>\n",
       "      <td>2.536347</td>\n",
       "      <td>1.378155</td>\n",
       "      <td>-0.338321</td>\n",
       "      <td>0.462388</td>\n",
       "      <td>0.239599</td>\n",
       "      <td>0.098698</td>\n",
       "      <td>0.363787</td>\n",
       "      <td>...</td>\n",
       "      <td>-0.018307</td>\n",
       "      <td>0.277838</td>\n",
       "      <td>-0.110474</td>\n",
       "      <td>0.066928</td>\n",
       "      <td>0.128539</td>\n",
       "      <td>-0.189115</td>\n",
       "      <td>0.133558</td>\n",
       "      <td>-0.021053</td>\n",
       "      <td>149.62</td>\n",
       "      <td>0.0</td>\n",
       "    </tr>\n",
       "    <tr>\n",
       "      <th>4</th>\n",
       "      <td>0.0</td>\n",
       "      <td>-1.359807</td>\n",
       "      <td>-0.072781</td>\n",
       "      <td>2.536347</td>\n",
       "      <td>1.378155</td>\n",
       "      <td>-0.338321</td>\n",
       "      <td>0.462388</td>\n",
       "      <td>0.239599</td>\n",
       "      <td>0.098698</td>\n",
       "      <td>0.363787</td>\n",
       "      <td>...</td>\n",
       "      <td>-0.018307</td>\n",
       "      <td>0.277838</td>\n",
       "      <td>-0.110474</td>\n",
       "      <td>0.066928</td>\n",
       "      <td>0.128539</td>\n",
       "      <td>-0.189115</td>\n",
       "      <td>0.133558</td>\n",
       "      <td>-0.021053</td>\n",
       "      <td>149.62</td>\n",
       "      <td>0.0</td>\n",
       "    </tr>\n",
       "  </tbody>\n",
       "</table>\n",
       "<p>5 rows × 31 columns</p>\n",
       "</div>"
      ],
      "text/plain": [
       "   Time        V1        V2        V3        V4        V5        V6        V7  \\\n",
       "0   0.0 -1.359807 -0.072781  2.536347  1.378155 -0.338321  0.462388  0.239599   \n",
       "1   0.0 -1.359807 -0.072781  2.536347  1.378155 -0.338321  0.462388  0.239599   \n",
       "2   0.0 -1.359807 -0.072781  2.536347  1.378155 -0.338321  0.462388  0.239599   \n",
       "3   0.0 -1.359807 -0.072781  2.536347  1.378155 -0.338321  0.462388  0.239599   \n",
       "4   0.0 -1.359807 -0.072781  2.536347  1.378155 -0.338321  0.462388  0.239599   \n",
       "\n",
       "         V8        V9  ...       V21       V22       V23       V24       V25  \\\n",
       "0  0.098698  0.363787  ... -0.018307  0.277838 -0.110474  0.066928  0.128539   \n",
       "1  0.098698  0.363787  ... -0.018307  0.277838 -0.110474  0.066928  0.128539   \n",
       "2  0.098698  0.363787  ... -0.018307  0.277838 -0.110474  0.066928  0.128539   \n",
       "3  0.098698  0.363787  ... -0.018307  0.277838 -0.110474  0.066928  0.128539   \n",
       "4  0.098698  0.363787  ... -0.018307  0.277838 -0.110474  0.066928  0.128539   \n",
       "\n",
       "        V26       V27       V28  Amount  Class  \n",
       "0 -0.189115  0.133558 -0.021053  149.62    0.0  \n",
       "1 -0.189115  0.133558 -0.021053  149.62    0.0  \n",
       "2 -0.189115  0.133558 -0.021053  149.62    0.0  \n",
       "3 -0.189115  0.133558 -0.021053  149.62    0.0  \n",
       "4 -0.189115  0.133558 -0.021053  149.62    0.0  \n",
       "\n",
       "[5 rows x 31 columns]"
      ]
     },
     "execution_count": 4,
     "metadata": {},
     "output_type": "execute_result"
    }
   ],
   "source": [
    "n_replicas = 10\n",
    "\n",
    "# inflate the original dataset\n",
    "big_raw_data = pd.DataFrame(np.repeat(raw_data.values, n_replicas, axis=0), columns=raw_data.columns)\n",
    "\n",
    "print(\"There are \" + str(len(big_raw_data)) + \" observations in the inflated credit card fraud dataset.\")\n",
    "print(\"There are \" + str(len(big_raw_data.columns)) + \" variables in the dataset.\")\n",
    "\n",
    "# display first rows in the new dataset\n",
    "big_raw_data.head()"
   ]
  },
  {
   "cell_type": "markdown",
   "id": "e40ccb3c",
   "metadata": {
    "papermill": {
     "duration": 0.017026,
     "end_time": "2024-08-21T07:57:15.548968",
     "exception": false,
     "start_time": "2024-08-21T07:57:15.531942",
     "status": "completed"
    },
    "tags": []
   },
   "source": [
    "Each row in the dataset represents a credit card transaction. As shown above, each row has 31 variables. One variable (the last variable in the table above) is called Class and represents the target variable. Your objective will be to train a model that uses the other variables to predict the value of the Class variable. Let's first retrieve basic statistics about the target variable.\n",
    "\n",
    "Note: For confidentiality reasons, the original names of most features are anonymized V1, V2 .. V28. The values of these features are the result of a PCA transformation and are numerical. The feature 'Class' is the target variable and it takes two values: 1 in case of fraud and 0 otherwise. For more information about the dataset please visit this webpage: [https://www.kaggle.com/mlg-ulb/creditcardfraud](https://www.kaggle.com/mlg-ulb/creditcardfraud?utm_medium=Exinfluencer&utm_source=Exinfluencer&utm_content=000026UJ&utm_term=10006555&utm_id=NA-SkillsNetwork-Channel-SkillsNetworkCoursesIBMDeveloperSkillsNetworkML0101ENCoursera20231514-2021-01-01).\n"
   ]
  },
  {
   "cell_type": "code",
   "execution_count": 5,
   "id": "f290e583",
   "metadata": {
    "execution": {
     "iopub.execute_input": "2024-08-21T07:57:15.585824Z",
     "iopub.status.busy": "2024-08-21T07:57:15.584716Z",
     "iopub.status.idle": "2024-08-21T07:57:15.894934Z",
     "shell.execute_reply": "2024-08-21T07:57:15.893380Z"
    },
    "papermill": {
     "duration": 0.333062,
     "end_time": "2024-08-21T07:57:15.899158",
     "exception": false,
     "start_time": "2024-08-21T07:57:15.566096",
     "status": "completed"
    },
    "tags": []
   },
   "outputs": [
    {
     "data": {
      "image/png": "[encoded data removed]",
      "text/plain": [
       "<Figure size 640x480 with 1 Axes>"
      ]
     },
     "metadata": {},
     "output_type": "display_data"
    }
   ],
   "source": [
    "# get the set of distinct classes\n",
    "labels = big_raw_data.Class.unique()\n",
    "\n",
    "# get the count of each class\n",
    "sizes = big_raw_data.Class.value_counts().values\n",
    "\n",
    "# plot the class value counts\n",
    "fig, ax = plt.subplots()\n",
    "ax.pie(sizes, labels=labels, autopct='%1.3f%%')\n",
    "ax.set_title('Target Variable Value Counts')\n",
    "plt.show()"
   ]
  },
  {
   "cell_type": "markdown",
   "id": "38a79ed6",
   "metadata": {
    "papermill": {
     "duration": 0.024377,
     "end_time": "2024-08-21T07:57:15.960192",
     "exception": false,
     "start_time": "2024-08-21T07:57:15.935815",
     "status": "completed"
    },
    "tags": []
   },
   "source": [
    "As shown above, the Class variable has two values: 0 (the credit card transaction is legitimate) and 1 (the credit card transaction is fraudulent). Thus, you need to model a binary classification problem. Moreover, the dataset is highly unbalanced, the target variable classes are not represented equally. This case requires special attention when training or when evaluating the quality of a model. One way of handing this case at train time is to bias the model to pay more attention to the samples in the minority class. The models under the current study will be configured to take into account the class weights of the samples at train/fit time.\n"
   ]
  },
  {
   "cell_type": "markdown",
   "id": "aa6b7ac7",
   "metadata": {
    "papermill": {
     "duration": 0.077398,
     "end_time": "2024-08-21T07:57:16.055353",
     "exception": false,
     "start_time": "2024-08-21T07:57:15.977955",
     "status": "completed"
    },
    "tags": []
   },
   "source": [
    "### Practice\n"
   ]
  },
  {
   "cell_type": "markdown",
   "id": "b6594410",
   "metadata": {
    "papermill": {
     "duration": 0.01809,
     "end_time": "2024-08-21T07:57:16.091341",
     "exception": false,
     "start_time": "2024-08-21T07:57:16.073251",
     "status": "completed"
    },
    "tags": []
   },
   "source": [
    "The credit card transactions have different amounts. Could you plot a histogram that shows the distribution of these amounts? What is the range of these amounts (min/max)? Could you print the 90th percentile of the amount values?\n"
   ]
  },
  {
   "cell_type": "code",
   "execution_count": 6,
   "id": "92eef2cf",
   "metadata": {
    "execution": {
     "iopub.execute_input": "2024-08-21T07:57:16.129613Z",
     "iopub.status.busy": "2024-08-21T07:57:16.129213Z",
     "iopub.status.idle": "2024-08-21T07:57:16.263573Z",
     "shell.execute_reply": "2024-08-21T07:57:16.262244Z"
    },
    "papermill": {
     "duration": 0.157096,
     "end_time": "2024-08-21T07:57:16.266625",
     "exception": false,
     "start_time": "2024-08-21T07:57:16.109529",
     "status": "completed"
    },
    "tags": []
   },
   "outputs": [
    {
     "data": {
      "text/plain": [
       "32767"
      ]
     },
     "execution_count": 6,
     "metadata": {},
     "output_type": "execute_result"
    }
   ],
   "source": [
    "len(big_raw_data[\"Amount\"].unique())"
   ]
  },
  {
   "cell_type": "code",
   "execution_count": 7,
   "id": "11ae5397",
   "metadata": {
    "execution": {
     "iopub.execute_input": "2024-08-21T07:57:16.304795Z",
     "iopub.status.busy": "2024-08-21T07:57:16.304351Z",
     "iopub.status.idle": "2024-08-21T07:57:17.091171Z",
     "shell.execute_reply": "2024-08-21T07:57:17.089495Z"
    },
    "papermill": {
     "duration": 0.809052,
     "end_time": "2024-08-21T07:57:17.093822",
     "exception": false,
     "start_time": "2024-08-21T07:57:16.284770",
     "status": "completed"
    },
    "tags": []
   },
   "outputs": [
    {
     "name": "stdout",
     "output_type": "stream",
     "text": [
      "Min: 0.0\n",
      "Max: 25691.16\n",
      "\n"
     ]
    },
    {
     "data": {
      "image/png": "[encoded data removed]",
      "text/plain": [
       "<Figure size 640x480 with 1 Axes>"
      ]
     },
     "metadata": {},
     "output_type": "display_data"
    },
    {
     "name": "stdout",
     "output_type": "stream",
     "text": [
      "\n",
      "90th percentile: 203.0\n"
     ]
    }
   ],
   "source": [
    "# your code here\n",
    "print(\"Min:\", big_raw_data[\"Amount\"].min())\n",
    "print(\"Max:\", big_raw_data[\"Amount\"].max())\n",
    "print()\n",
    "plt.hist(big_raw_data[\"Amount\"], bins=100)\n",
    "plt.show()\n",
    "print()\n",
    "print(\"90th percentile:\",big_raw_data[\"Amount\"].quantile(0.9))"
   ]
  },
  {
   "cell_type": "code",
   "execution_count": 8,
   "id": "71b2c64e",
   "metadata": {
    "execution": {
     "iopub.execute_input": "2024-08-21T07:57:17.132786Z",
     "iopub.status.busy": "2024-08-21T07:57:17.132376Z",
     "iopub.status.idle": "2024-08-21T07:57:17.564359Z",
     "shell.execute_reply": "2024-08-21T07:57:17.562686Z"
    },
    "papermill": {
     "duration": 0.454704,
     "end_time": "2024-08-21T07:57:17.567244",
     "exception": false,
     "start_time": "2024-08-21T07:57:17.112540",
     "status": "completed"
    },
    "tags": []
   },
   "outputs": [
    {
     "data": {
      "image/png": "[encoded data removed]",
      "text/plain": [
       "<Figure size 640x480 with 1 Axes>"
      ]
     },
     "metadata": {},
     "output_type": "display_data"
    },
    {
     "name": "stdout",
     "output_type": "stream",
     "text": [
      "Minimum amount value is  0.0\n",
      "Maximum amount value is  25691.16\n",
      "90% of the transactions have an amount less or equal than  203.0\n"
     ]
    }
   ],
   "source": [
    "# we provide our solution here\n",
    "plt.hist(big_raw_data.Amount.values, 6, histtype='bar', facecolor='g')\n",
    "plt.show()\n",
    "\n",
    "print(\"Minimum amount value is \", np.min(big_raw_data.Amount.values))\n",
    "print(\"Maximum amount value is \", np.max(big_raw_data.Amount.values))\n",
    "print(\"90% of the transactions have an amount less or equal than \", np.percentile(raw_data.Amount.values, 90))"
   ]
  },
  {
   "cell_type": "markdown",
   "id": "1f22fd6e",
   "metadata": {
    "papermill": {
     "duration": 0.019616,
     "end_time": "2024-08-21T07:57:17.606043",
     "exception": false,
     "start_time": "2024-08-21T07:57:17.586427",
     "status": "completed"
    },
    "tags": []
   },
   "source": [
    "<div id=\"dataset_preprocessing\">\n",
    "    <h2>Dataset Preprocessing</h2>\n",
    "</div>\n"
   ]
  },
  {
   "cell_type": "markdown",
   "id": "4c804db3",
   "metadata": {
    "papermill": {
     "duration": 0.018896,
     "end_time": "2024-08-21T07:57:17.644017",
     "exception": false,
     "start_time": "2024-08-21T07:57:17.625121",
     "status": "completed"
    },
    "tags": []
   },
   "source": [
    "In this subsection you will prepare the data for training.\n"
   ]
  },
  {
   "cell_type": "code",
   "execution_count": 9,
   "id": "40f5656e",
   "metadata": {
    "execution": {
     "iopub.execute_input": "2024-08-21T07:57:17.683741Z",
     "iopub.status.busy": "2024-08-21T07:57:17.683343Z",
     "iopub.status.idle": "2024-08-21T07:57:20.304801Z",
     "shell.execute_reply": "2024-08-21T07:57:20.303565Z"
    },
    "papermill": {
     "duration": 2.644625,
     "end_time": "2024-08-21T07:57:20.307571",
     "exception": false,
     "start_time": "2024-08-21T07:57:17.662946",
     "status": "completed"
    },
    "tags": []
   },
   "outputs": [
    {
     "name": "stdout",
     "output_type": "stream",
     "text": [
      "X.shape= (2848070, 29) y.shape= (2848070,)\n"
     ]
    }
   ],
   "source": [
    "# data preprocessing such as scaling/normalization is typically useful for \n",
    "# linear models to accelerate the training convergence\n",
    "\n",
    "# standardize features by removing the mean and scaling to unit variance\n",
    "big_raw_data.iloc[:, 1:30] = StandardScaler().fit_transform(big_raw_data.iloc[:, 1:30])\n",
    "data_matrix = big_raw_data.values\n",
    "\n",
    "# X: feature matrix (for this analysis, we exclude the Time variable from the dataset)\n",
    "X = data_matrix[:, 1:30]\n",
    "\n",
    "# y: labels vector\n",
    "y = data_matrix[:, 30]\n",
    "\n",
    "# data normalization\n",
    "X = normalize(X, norm=\"l1\")\n",
    "\n",
    "# print the shape of the features matrix and the labels vector\n",
    "print('X.shape=', X.shape, 'y.shape=', y.shape)"
   ]
  },
  {
   "cell_type": "markdown",
   "id": "8a37dd27",
   "metadata": {
    "papermill": {
     "duration": 0.019205,
     "end_time": "2024-08-21T07:57:20.346323",
     "exception": false,
     "start_time": "2024-08-21T07:57:20.327118",
     "status": "completed"
    },
    "tags": []
   },
   "source": [
    "<div id=\"dataset_split\">\n",
    "    <h2>Dataset Train/Test Split</h2>\n",
    "</div>\n"
   ]
  },
  {
   "cell_type": "markdown",
   "id": "38c27994",
   "metadata": {
    "papermill": {
     "duration": 0.018754,
     "end_time": "2024-08-21T07:57:20.384022",
     "exception": false,
     "start_time": "2024-08-21T07:57:20.365268",
     "status": "completed"
    },
    "tags": []
   },
   "source": [
    "Now that the dataset is ready for building the classification models, you need to first divide the pre-processed dataset into a subset to be used for training the model (the train set) and a subset to be used for evaluating the quality of the model (the test set).\n"
   ]
  },
  {
   "cell_type": "code",
   "execution_count": 10,
   "id": "acce9d2e",
   "metadata": {
    "execution": {
     "iopub.execute_input": "2024-08-21T07:57:20.423991Z",
     "iopub.status.busy": "2024-08-21T07:57:20.423559Z",
     "iopub.status.idle": "2024-08-21T07:57:22.274321Z",
     "shell.execute_reply": "2024-08-21T07:57:22.273229Z"
    },
    "papermill": {
     "duration": 1.873739,
     "end_time": "2024-08-21T07:57:22.276830",
     "exception": false,
     "start_time": "2024-08-21T07:57:20.403091",
     "status": "completed"
    },
    "tags": []
   },
   "outputs": [
    {
     "name": "stdout",
     "output_type": "stream",
     "text": [
      "X_train.shape= (1993649, 29) Y_train.shape= (1993649,)\n",
      "X_test.shape= (854421, 29) Y_test.shape= (854421,)\n"
     ]
    }
   ],
   "source": [
    "X_train, X_test, y_train, y_test = train_test_split(X, y, test_size=0.3, random_state=42, stratify=y)       \n",
    "print('X_train.shape=', X_train.shape, 'Y_train.shape=', y_train.shape)\n",
    "print('X_test.shape=', X_test.shape, 'Y_test.shape=', y_test.shape)"
   ]
  },
  {
   "cell_type": "markdown",
   "id": "96d4d420",
   "metadata": {
    "papermill": {
     "duration": 0.018926,
     "end_time": "2024-08-21T07:57:22.315067",
     "exception": false,
     "start_time": "2024-08-21T07:57:22.296141",
     "status": "completed"
    },
    "tags": []
   },
   "source": [
    "<div id=\"dt_sklearn\">\n",
    "    <h2>Build a Decision Tree Classifier model with Scikit-Learn</h2>\n",
    "</div>\n"
   ]
  },
  {
   "cell_type": "code",
   "execution_count": 11,
   "id": "ce1f2c4e",
   "metadata": {
    "execution": {
     "iopub.execute_input": "2024-08-21T07:57:22.355316Z",
     "iopub.status.busy": "2024-08-21T07:57:22.354482Z",
     "iopub.status.idle": "2024-08-21T07:58:15.926303Z",
     "shell.execute_reply": "2024-08-21T07:58:15.925024Z"
    },
    "papermill": {
     "duration": 53.612657,
     "end_time": "2024-08-21T07:58:15.946722",
     "exception": false,
     "start_time": "2024-08-21T07:57:22.334065",
     "status": "completed"
    },
    "tags": []
   },
   "outputs": [
    {
     "name": "stdout",
     "output_type": "stream",
     "text": [
      "[Scikit-Learn] Training time (s):  52.78338\n"
     ]
    }
   ],
   "source": [
    "# compute the sample weights to be used as input to the train routine so that \n",
    "# it takes into account the class imbalance present in this dataset\n",
    "w_train = compute_sample_weight('balanced', y_train)\n",
    "\n",
    "# import the Decision Tree Classifier Model from scikit-learn\n",
    "from sklearn.tree import DecisionTreeClassifier\n",
    "\n",
    "# for reproducible output across multiple function calls, set random_state to a given integer value\n",
    "sklearn_dt = DecisionTreeClassifier(max_depth=4, random_state=35)\n",
    "\n",
    "# train a Decision Tree Classifier using scikit-learn\n",
    "t0 = time.time()\n",
    "sklearn_dt.fit(X_train, y_train, sample_weight=w_train)\n",
    "sklearn_time = time.time()-t0\n",
    "print(\"[Scikit-Learn] Training time (s):  {0:.5f}\".format(sklearn_time))"
   ]
  },
  {
   "cell_type": "markdown",
   "id": "a75838c1",
   "metadata": {
    "papermill": {
     "duration": 0.018704,
     "end_time": "2024-08-21T07:58:15.984676",
     "exception": false,
     "start_time": "2024-08-21T07:58:15.965972",
     "status": "completed"
    },
    "tags": []
   },
   "source": [
    "<div id=\"dt_snapml\">\n",
    "    <h2>Build a Decision Tree Classifier model with Snap ML</h2>\n",
    "</div>\n"
   ]
  },
  {
   "cell_type": "code",
   "execution_count": 12,
   "id": "a8e7c9a5",
   "metadata": {
    "execution": {
     "iopub.execute_input": "2024-08-21T07:58:16.024982Z",
     "iopub.status.busy": "2024-08-21T07:58:16.024486Z",
     "iopub.status.idle": "2024-08-21T07:58:21.257610Z",
     "shell.execute_reply": "2024-08-21T07:58:21.256239Z"
    },
    "papermill": {
     "duration": 5.256523,
     "end_time": "2024-08-21T07:58:21.260313",
     "exception": false,
     "start_time": "2024-08-21T07:58:16.003790",
     "status": "completed"
    },
    "tags": []
   },
   "outputs": [
    {
     "name": "stdout",
     "output_type": "stream",
     "text": [
      "[Snap ML] Training time (s):  3.55583\n"
     ]
    }
   ],
   "source": [
    "# if not already computed, \n",
    "# compute the sample weights to be used as input to the train routine so that \n",
    "# it takes into account the class imbalance present in this dataset\n",
    "# w_train = compute_sample_weight('balanced', y_train)\n",
    "\n",
    "# import the Decision Tree Classifier Model from Snap ML\n",
    "from snapml import DecisionTreeClassifier\n",
    "\n",
    "# Snap ML offers multi-threaded CPU/GPU training of decision trees, unlike scikit-learn\n",
    "# to use the GPU, set the use_gpu parameter to True\n",
    "# snapml_dt = DecisionTreeClassifier(max_depth=4, random_state=45, use_gpu=True)\n",
    "\n",
    "# to set the number of CPU threads used at training time, set the n_jobs parameter\n",
    "# for reproducible output across multiple function calls, set random_state to a given integer value\n",
    "snapml_dt = DecisionTreeClassifier(max_depth=4, random_state=45, n_jobs=4)\n",
    "\n",
    "# train a Decision Tree Classifier model using Snap ML\n",
    "t0 = time.time()\n",
    "snapml_dt.fit(X_train, y_train, sample_weight=w_train)\n",
    "snapml_time = time.time()-t0\n",
    "print(\"[Snap ML] Training time (s):  {0:.5f}\".format(snapml_time))"
   ]
  },
  {
   "cell_type": "markdown",
   "id": "d29b17d7",
   "metadata": {
    "papermill": {
     "duration": 0.023382,
     "end_time": "2024-08-21T07:58:21.303721",
     "exception": false,
     "start_time": "2024-08-21T07:58:21.280339",
     "status": "completed"
    },
    "tags": []
   },
   "source": [
    "<div id=\"dt_sklearn_snapml\">\n",
    "    <h2>Evaluate the Scikit-Learn and Snap ML Decision Tree Classifier Models</h2>\n",
    "</div>\n"
   ]
  },
  {
   "cell_type": "code",
   "execution_count": 13,
   "id": "82b6751a",
   "metadata": {
    "execution": {
     "iopub.execute_input": "2024-08-21T07:58:21.346469Z",
     "iopub.status.busy": "2024-08-21T07:58:21.345808Z",
     "iopub.status.idle": "2024-08-21T07:58:22.004648Z",
     "shell.execute_reply": "2024-08-21T07:58:22.003343Z"
    },
    "papermill": {
     "duration": 0.683093,
     "end_time": "2024-08-21T07:58:22.007140",
     "exception": false,
     "start_time": "2024-08-21T07:58:21.324047",
     "status": "completed"
    },
    "tags": []
   },
   "outputs": [
    {
     "name": "stdout",
     "output_type": "stream",
     "text": [
      "[Decision Tree Classifier] Snap ML vs. Scikit-Learn speedup : 14.84x \n",
      "[Scikit-Learn] ROC-AUC score : 0.966\n",
      "[Snap ML] ROC-AUC score : 0.966\n"
     ]
    }
   ],
   "source": [
    "# Snap ML vs Scikit-Learn training speedup\n",
    "training_speedup = sklearn_time/snapml_time\n",
    "print('[Decision Tree Classifier] Snap ML vs. Scikit-Learn speedup : {0:.2f}x '.format(training_speedup))\n",
    "\n",
    "# run inference and compute the probabilities of the test samples \n",
    "# to belong to the class of fraudulent transactions\n",
    "sklearn_pred = sklearn_dt.predict_proba(X_test)[:,1]\n",
    "\n",
    "# evaluate the Compute Area Under the Receiver Operating Characteristic \n",
    "# Curve (ROC-AUC) score from the predictions\n",
    "sklearn_roc_auc = roc_auc_score(y_test, sklearn_pred)\n",
    "print('[Scikit-Learn] ROC-AUC score : {0:.3f}'.format(sklearn_roc_auc))\n",
    "\n",
    "# run inference and compute the probabilities of the test samples\n",
    "# to belong to the class of fraudulent transactions\n",
    "snapml_pred = snapml_dt.predict_proba(X_test)[:,1]\n",
    "\n",
    "# evaluate the Compute Area Under the Receiver Operating Characteristic\n",
    "# Curve (ROC-AUC) score from the prediction scores\n",
    "snapml_roc_auc = roc_auc_score(y_test, snapml_pred)   \n",
    "print('[Snap ML] ROC-AUC score : {0:.3f}'.format(snapml_roc_auc))"
   ]
  },
  {
   "cell_type": "markdown",
   "id": "c198ec94",
   "metadata": {
    "papermill": {
     "duration": 0.019135,
     "end_time": "2024-08-21T07:58:22.045791",
     "exception": false,
     "start_time": "2024-08-21T07:58:22.026656",
     "status": "completed"
    },
    "tags": []
   },
   "source": [
    "As shown above both decision tree models provide the same score on the test dataset. However Snap ML runs the training routine 12x faster than Scikit-Learn. This is one of the advantages of using Snap ML: acceleration of training of classical machine learning models, such as linear and tree-based models. For more Snap ML examples, please visit <https://github.com/IBM/snapml-examples>.\n"
   ]
  },
  {
   "cell_type": "markdown",
   "id": "041a5d16",
   "metadata": {
    "papermill": {
     "duration": 0.018918,
     "end_time": "2024-08-21T07:58:22.084122",
     "exception": false,
     "start_time": "2024-08-21T07:58:22.065204",
     "status": "completed"
    },
    "tags": []
   },
   "source": [
    "<div id=\"svm_sklearn\">\n",
    "    <h2>Build a Support Vector Machine model with Scikit-Learn</h2>\n",
    "</div>\n"
   ]
  },
  {
   "cell_type": "code",
   "execution_count": 14,
   "id": "afe5ccab",
   "metadata": {
    "execution": {
     "iopub.execute_input": "2024-08-21T07:58:22.125377Z",
     "iopub.status.busy": "2024-08-21T07:58:22.124950Z",
     "iopub.status.idle": "2024-08-21T07:59:39.080979Z",
     "shell.execute_reply": "2024-08-21T07:59:39.079720Z"
    },
    "papermill": {
     "duration": 77.004395,
     "end_time": "2024-08-21T07:59:39.108614",
     "exception": false,
     "start_time": "2024-08-21T07:58:22.104219",
     "status": "completed"
    },
    "tags": []
   },
   "outputs": [
    {
     "name": "stdout",
     "output_type": "stream",
     "text": [
      "[Scikit-Learn] Training time (s):  76.95\n"
     ]
    }
   ],
   "source": [
    "# import the linear Support Vector Machine (SVM) model from Scikit-Learn\n",
    "from sklearn.svm import LinearSVC\n",
    "\n",
    "# instatiate a scikit-learn SVM model\n",
    "# to indicate the class imbalance at fit time, set class_weight='balanced'\n",
    "# for reproducible output across multiple function calls, set random_state to a given integer value\n",
    "sklearn_svm = LinearSVC(class_weight='balanced', random_state=31, loss=\"hinge\", fit_intercept=False)\n",
    "\n",
    "# train a linear Support Vector Machine model using Scikit-Learn\n",
    "t0 = time.time()\n",
    "sklearn_svm.fit(X_train, y_train)\n",
    "sklearn_time = time.time() - t0\n",
    "print(\"[Scikit-Learn] Training time (s):  {0:.2f}\".format(sklearn_time))"
   ]
  },
  {
   "cell_type": "markdown",
   "id": "61e4d552",
   "metadata": {
    "papermill": {
     "duration": 0.019944,
     "end_time": "2024-08-21T07:59:39.148282",
     "exception": false,
     "start_time": "2024-08-21T07:59:39.128338",
     "status": "completed"
    },
    "tags": []
   },
   "source": [
    "<div id=\"svm_snap\">\n",
    "    <h2>Build a Support Vector Machine model with Snap ML</h2>\n",
    "</div>\n"
   ]
  },
  {
   "cell_type": "code",
   "execution_count": 15,
   "id": "888999bf",
   "metadata": {
    "execution": {
     "iopub.execute_input": "2024-08-21T07:59:39.195715Z",
     "iopub.status.busy": "2024-08-21T07:59:39.194310Z",
     "iopub.status.idle": "2024-08-21T08:00:02.108422Z",
     "shell.execute_reply": "2024-08-21T08:00:02.106952Z"
    },
    "papermill": {
     "duration": 22.938823,
     "end_time": "2024-08-21T08:00:02.111393",
     "exception": false,
     "start_time": "2024-08-21T07:59:39.172570",
     "status": "completed"
    },
    "tags": []
   },
   "outputs": [
    {
     "name": "stdout",
     "output_type": "stream",
     "text": [
      "[Snap ML] Training time (s):  22.90\n"
     ]
    }
   ],
   "source": [
    "# import the Support Vector Machine model (SVM) from Snap ML\n",
    "from snapml import SupportVectorMachine\n",
    "\n",
    "# in contrast to scikit-learn's LinearSVC, Snap ML offers multi-threaded CPU/GPU training of SVMs\n",
    "# to use the GPU, set the use_gpu parameter to True\n",
    "# snapml_svm = SupportVectorMachine(class_weight='balanced', random_state=25, use_gpu=True, fit_intercept=False)\n",
    "\n",
    "# to set the number of threads used at training time, one needs to set the n_jobs parameter\n",
    "snapml_svm = SupportVectorMachine(class_weight='balanced', random_state=25, n_jobs=4, fit_intercept=False)\n",
    "# print(snapml_svm.get_params())\n",
    "\n",
    "# train an SVM model using Snap ML\n",
    "t0 = time.time()\n",
    "model = snapml_svm.fit(X_train, y_train)\n",
    "snapml_time = time.time() - t0\n",
    "print(\"[Snap ML] Training time (s):  {0:.2f}\".format(snapml_time))"
   ]
  },
  {
   "cell_type": "markdown",
   "id": "459cc8ba",
   "metadata": {
    "papermill": {
     "duration": 0.021756,
     "end_time": "2024-08-21T08:00:02.153233",
     "exception": false,
     "start_time": "2024-08-21T08:00:02.131477",
     "status": "completed"
    },
    "tags": []
   },
   "source": [
    "<div id=\"svm_sklearn_snap\">\n",
    "    <h2>Evaluate the Scikit-Learn and Snap ML Support Vector Machine Models</h2>\n",
    "</div>\n"
   ]
  },
  {
   "cell_type": "code",
   "execution_count": 16,
   "id": "099787cf",
   "metadata": {
    "execution": {
     "iopub.execute_input": "2024-08-21T08:00:02.196636Z",
     "iopub.status.busy": "2024-08-21T08:00:02.196192Z",
     "iopub.status.idle": "2024-08-21T08:00:03.001708Z",
     "shell.execute_reply": "2024-08-21T08:00:03.000395Z"
    },
    "papermill": {
     "duration": 0.829451,
     "end_time": "2024-08-21T08:00:03.004400",
     "exception": false,
     "start_time": "2024-08-21T08:00:02.174949",
     "status": "completed"
    },
    "tags": []
   },
   "outputs": [
    {
     "name": "stdout",
     "output_type": "stream",
     "text": [
      "[Support Vector Machine] Snap ML vs. Scikit-Learn training speedup : 3.36x \n",
      "[Scikit-Learn] ROC-AUC score:   0.984\n",
      "[Snap ML] ROC-AUC score:   0.985\n"
     ]
    }
   ],
   "source": [
    "# compute the Snap ML vs Scikit-Learn training speedup\n",
    "training_speedup = sklearn_time/snapml_time\n",
    "print('[Support Vector Machine] Snap ML vs. Scikit-Learn training speedup : {0:.2f}x '.format(training_speedup))\n",
    "\n",
    "# run inference using the Scikit-Learn model\n",
    "# get the confidence scores for the test samples\n",
    "sklearn_pred = sklearn_svm.decision_function(X_test)\n",
    "\n",
    "# evaluate accuracy on test set\n",
    "acc_sklearn  = roc_auc_score(y_test, sklearn_pred)\n",
    "print(\"[Scikit-Learn] ROC-AUC score:   {0:.3f}\".format(acc_sklearn))\n",
    "\n",
    "# run inference using the Snap ML model\n",
    "# get the confidence scores for the test samples\n",
    "snapml_pred = snapml_svm.decision_function(X_test)\n",
    "\n",
    "# evaluate accuracy on test set\n",
    "acc_snapml  = roc_auc_score(y_test, snapml_pred)\n",
    "print(\"[Snap ML] ROC-AUC score:   {0:.3f}\".format(acc_snapml))"
   ]
  },
  {
   "cell_type": "markdown",
   "id": "9e3eb810",
   "metadata": {
    "papermill": {
     "duration": 0.019545,
     "end_time": "2024-08-21T08:00:03.043940",
     "exception": false,
     "start_time": "2024-08-21T08:00:03.024395",
     "status": "completed"
    },
    "tags": []
   },
   "source": [
    "As shown above both SVM models provide the same score on the test dataset. However, as in the case of decision trees, Snap ML runs the training routine faster than Scikit-Learn. For more Snap ML examples, please visit <https://github.com/IBM/snapml-examples>. Moreover, as shown above, not only is Snap ML seemlessly accelerating scikit-learn applications, but the library's Python API is also compatible with scikit-learn metrics and data preprocessors.\n"
   ]
  },
  {
   "cell_type": "markdown",
   "id": "ba6c3bf5",
   "metadata": {
    "papermill": {
     "duration": 0.019911,
     "end_time": "2024-08-21T08:00:03.084110",
     "exception": false,
     "start_time": "2024-08-21T08:00:03.064199",
     "status": "completed"
    },
    "tags": []
   },
   "source": [
    "### Practice\n"
   ]
  },
  {
   "cell_type": "markdown",
   "id": "dfb4ea7c",
   "metadata": {
    "papermill": {
     "duration": 0.01963,
     "end_time": "2024-08-21T08:00:03.123700",
     "exception": false,
     "start_time": "2024-08-21T08:00:03.104070",
     "status": "completed"
    },
    "tags": []
   },
   "source": [
    "In this section you will evaluate the quality of the SVM models trained above using the hinge loss metric ([https://scikit-learn.org/stable/modules/generated/sklearn.metrics.hinge_loss.html](https://scikit-learn.org/stable/modules/generated/sklearn.metrics.hinge_loss.html?utm_medium=Exinfluencer&utm_source=Exinfluencer&utm_content=000026UJ&utm_term=10006555&utm_id=NA-SkillsNetwork-Channel-SkillsNetworkCoursesIBMDeveloperSkillsNetworkML0101ENCoursera20231514-2021-01-01)). Run inference on the test set using both Scikit-Learn and Snap ML models. Compute the hinge loss metric for both sets of predictions. Print the hinge losses of Scikit-Learn and Snap ML.\n"
   ]
  },
  {
   "cell_type": "code",
   "execution_count": 17,
   "id": "b87e4b51",
   "metadata": {
    "execution": {
     "iopub.execute_input": "2024-08-21T08:00:03.168063Z",
     "iopub.status.busy": "2024-08-21T08:00:03.167657Z",
     "iopub.status.idle": "2024-08-21T08:00:03.671246Z",
     "shell.execute_reply": "2024-08-21T08:00:03.669936Z"
    },
    "papermill": {
     "duration": 0.52808,
     "end_time": "2024-08-21T08:00:03.673913",
     "exception": false,
     "start_time": "2024-08-21T08:00:03.145833",
     "status": "completed"
    },
    "tags": []
   },
   "outputs": [
    {
     "name": "stdout",
     "output_type": "stream",
     "text": [
      "CPU times: user 5 µs, sys: 0 ns, total: 5 µs\n",
      "Wall time: 9.54 µs\n",
      "[Scikit-Learn] HINGE LOSS score:   0.234\n",
      "[Snap ML] HINGE LOSS score:   0.228\n"
     ]
    }
   ],
   "source": [
    "%time\n",
    "# your code goes here\n",
    "\n",
    "from sklearn.metrics import hinge_loss\n",
    "\n",
    "for model, name in [(sklearn_svm, \"[Scikit-Learn]\"), (snapml_svm, \"[Snap ML]\")]:\n",
    "    # Det the confidence scores\n",
    "    pred = model.decision_function(X_test)\n",
    "    loss=hinge_loss(y_test, pred)\n",
    "    print(\"{} HINGE LOSS score:   {:.3f}\".format(name, loss))"
   ]
  },
  {
   "cell_type": "code",
   "execution_count": 18,
   "id": "678895a4",
   "metadata": {
    "execution": {
     "iopub.execute_input": "2024-08-21T08:00:03.717058Z",
     "iopub.status.busy": "2024-08-21T08:00:03.716632Z",
     "iopub.status.idle": "2024-08-21T08:00:04.214833Z",
     "shell.execute_reply": "2024-08-21T08:00:04.213443Z"
    },
    "papermill": {
     "duration": 0.522938,
     "end_time": "2024-08-21T08:00:04.217529",
     "exception": false,
     "start_time": "2024-08-21T08:00:03.694591",
     "status": "completed"
    },
    "tags": []
   },
   "outputs": [
    {
     "name": "stdout",
     "output_type": "stream",
     "text": [
      "[Snap ML] Hinge loss:   0.228\n",
      "[Scikit-Learn] Hinge loss:   0.234\n"
     ]
    }
   ],
   "source": [
    "# get the confidence scores for the test samples\n",
    "sklearn_pred = sklearn_svm.decision_function(X_test)\n",
    "snapml_pred  = snapml_svm.decision_function(X_test)\n",
    "\n",
    "# import the hinge_loss metric from scikit-learn\n",
    "from sklearn.metrics import hinge_loss\n",
    "\n",
    "# evaluate the hinge loss from the predictions\n",
    "loss_snapml = hinge_loss(y_test, snapml_pred)\n",
    "print(\"[Snap ML] Hinge loss:   {0:.3f}\".format(loss_snapml))\n",
    "\n",
    "# evaluate the hinge loss metric from the predictions\n",
    "loss_sklearn = hinge_loss(y_test, sklearn_pred)\n",
    "print(\"[Scikit-Learn] Hinge loss:   {0:.3f}\".format(loss_sklearn))\n",
    "\n",
    "# the two models should give the same Hinge loss"
   ]
  },
  {
   "cell_type": "markdown",
   "id": "ab16c3a1",
   "metadata": {
    "papermill": {
     "duration": 0.020014,
     "end_time": "2024-08-21T08:00:04.257906",
     "exception": false,
     "start_time": "2024-08-21T08:00:04.237892",
     "status": "completed"
    },
    "tags": []
   },
   "source": [
    "## Authors\n"
   ]
  },
  {
   "cell_type": "markdown",
   "id": "546baa5f",
   "metadata": {
    "papermill": {
     "duration": 0.019953,
     "end_time": "2024-08-21T08:00:04.298048",
     "exception": false,
     "start_time": "2024-08-21T08:00:04.278095",
     "status": "completed"
    },
    "tags": []
   },
   "source": [
    "Andreea Anghel\n"
   ]
  },
  {
   "cell_type": "markdown",
   "id": "e8c93ce1",
   "metadata": {
    "papermill": {
     "duration": 0.020076,
     "end_time": "2024-08-21T08:00:04.338308",
     "exception": false,
     "start_time": "2024-08-21T08:00:04.318232",
     "status": "completed"
    },
    "tags": []
   },
   "source": [
    "### Other Contributors\n"
   ]
  },
  {
   "cell_type": "markdown",
   "id": "b0f9d58d",
   "metadata": {
    "papermill": {
     "duration": 0.019863,
     "end_time": "2024-08-21T08:00:04.378551",
     "exception": false,
     "start_time": "2024-08-21T08:00:04.358688",
     "status": "completed"
    },
    "tags": []
   },
   "source": [
    "Joseph Santarcangelo\n"
   ]
  },
  {
   "cell_type": "markdown",
   "id": "ff54275a",
   "metadata": {
    "papermill": {
     "duration": 0.020108,
     "end_time": "2024-08-21T08:00:04.419016",
     "exception": false,
     "start_time": "2024-08-21T08:00:04.398908",
     "status": "completed"
    },
    "tags": []
   },
   "source": [
    "## Change Log\n"
   ]
  },
  {
   "cell_type": "markdown",
   "id": "5df723cb",
   "metadata": {
    "papermill": {
     "duration": 0.020058,
     "end_time": "2024-08-21T08:00:04.459539",
     "exception": false,
     "start_time": "2024-08-21T08:00:04.439481",
     "status": "completed"
    },
    "tags": []
   },
   "source": [
    "| Date (YYYY-MM-DD) | Version | Changed By | Change Description  |\n",
    "| ----------------- | ------- | ---------- | ------------------- |\n",
    "| 2021-08-31        | 0.1     | AAN        | Created Lab Content |\n"
   ]
  },
  {
   "cell_type": "markdown",
   "id": "9d94c006",
   "metadata": {
    "papermill": {
     "duration": 0.020049,
     "end_time": "2024-08-21T08:00:04.499862",
     "exception": false,
     "start_time": "2024-08-21T08:00:04.479813",
     "status": "completed"
    },
    "tags": []
   },
   "source": [
    "Copyright © 2021 IBM Corporation. This notebook and its source code are released under the terms of the [MIT License](https://cognitiveclass.ai/mit-license/?utm_medium=Exinfluencer&utm_source=Exinfluencer&utm_content=000026UJ&utm_term=10006555&utm_id=NA-SkillsNetwork-Channel-SkillsNetworkCoursesIBMDeveloperSkillsNetworkML0101ENCoursera20231514-2021-01-01).\n"
   ]
  }
 ],
 "metadata": {
  "kaggle": {
   "accelerator": "none",
   "dataSources": [],
   "dockerImageVersionId": 30746,
   "isGpuEnabled": false,
   "isInternetEnabled": true,
   "language": "python",
   "sourceType": "notebook"
  },
  "kernelspec": {
   "display_name": "Python 3",
   "language": "python",
   "name": "python3"
  },
  "language_info": {
   "codemirror_mode": {
    "name": "ipython",
    "version": 3
   },
   "file_extension": ".py",
   "mimetype": "text/x-python",
   "name": "python",
   "nbconvert_exporter": "python",
   "pygments_lexer": "ipython3",
   "version": "3.10.13"
  },
  "papermill": {
   "default_parameters": {},
   "duration": 202.496836,
   "end_time": "2024-08-21T08:00:05.343501",
   "environment_variables": {},
   "exception": null,
   "input_path": "__notebook__.ipynb",
   "output_path": "__notebook__.ipynb",
   "parameters": {},
   "start_time": "2024-08-21T07:56:42.846665",
   "version": "2.5.0"
  }
 },
 "nbformat": 4,
 "nbformat_minor": 5
}
